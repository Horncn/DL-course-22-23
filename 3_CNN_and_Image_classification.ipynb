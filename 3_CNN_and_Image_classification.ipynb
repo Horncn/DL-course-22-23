{
  "nbformat": 4,
  "nbformat_minor": 0,
  "metadata": {
    "colab": {
      "provenance": []
    },
    "kernelspec": {
      "name": "python3",
      "display_name": "Python 3"
    },
    "language_info": {
      "name": "python"
    }
  },
  "cells": [
    {
      "cell_type": "code",
      "execution_count": 1,
      "metadata": {
        "id": "t09OagyyNaXG"
      },
      "outputs": [],
      "source": [
        "import tensorflow as tf\n",
        "from tensorflow.keras import layers\n",
        "import pandas as pd\n",
        "import matplotlib.pyplot as plt\n",
        "import os\n",
        "import numpy as np\n",
        "from tqdm import tqdm\n",
        "from sklearn.model_selection import train_test_split\n",
        "from sklearn.metrics import confusion_matrix, classification_report\n",
        "import seaborn as sns\n",
        "from PIL import Image"
      ]
    },
    {
      "cell_type": "markdown",
      "source": [
        "Dataset link https://www.kaggle.com/datasets/chazzer/smiling-or-not-face-data"
      ],
      "metadata": {
        "id": "r-yOCi02OVQA"
      }
    },
    {
      "cell_type": "code",
      "source": [
        "from google.colab import files"
      ],
      "metadata": {
        "id": "2Z-gzWgmOVv6"
      },
      "execution_count": 2,
      "outputs": []
    },
    {
      "cell_type": "markdown",
      "source": [
        "This time we're not classifying text. Let's do some photos this time"
      ],
      "metadata": {
        "id": "h4meQg3Vaxsv"
      }
    },
    {
      "cell_type": "code",
      "source": [
        "columns = ['class', 'name', 'image']\n",
        "df = pd.DataFrame(columns = columns)"
      ],
      "metadata": {
        "id": "GNz4jgiqWYMI"
      },
      "execution_count": 3,
      "outputs": []
    },
    {
      "cell_type": "code",
      "source": [
        "(len(os.listdir('drive/MyDrive/SmileFacesDataset/smile')), \n",
        "len(os.listdir('drive/MyDrive/SmileFacesDataset/non_smile')))"
      ],
      "metadata": {
        "colab": {
          "base_uri": "https://localhost:8080/"
        },
        "id": "1-pj2JPPoa0Z",
        "outputId": "73c58eaa-097d-4825-812a-9f942faf585c"
      },
      "execution_count": 4,
      "outputs": [
        {
          "output_type": "execute_result",
          "data": {
            "text/plain": [
              "(600, 603)"
            ]
          },
          "metadata": {},
          "execution_count": 4
        }
      ]
    },
    {
      "cell_type": "code",
      "source": [
        "def folder_to_df(path, class_type):\n",
        "  for name in tqdm(os.listdir(path)):\n",
        "    image = Image.open('/'.join([path, name]))\n",
        "    \n",
        "    pixel_values = image.load()\n",
        "    width, height = image.size\n",
        "    \n",
        "    new_values = []\n",
        "    new_values_reversed = []\n",
        "    \n",
        "    for i in range(height):\n",
        "      row = []\n",
        "      \n",
        "      for j in range(width):\n",
        "        current_pixel = int(np.mean(pixel_values[j,i])) / 255\n",
        "        row.append(np.array(current_pixel).astype('float32'))\n",
        "      \n",
        "      new_values.append(row)\n",
        "      new_values_reversed.append(np.flip(row))\n",
        "    \n",
        "    df.loc[len(df)] = [class_type, name, np.array([new_values]).astype('float32')]\n",
        "    df.loc[len(df)] = [class_type, name + 'rev', np.array([new_values_reversed]).astype('float32')]"
      ],
      "metadata": {
        "id": "xDEgLUTWVdSG"
      },
      "execution_count": 5,
      "outputs": []
    },
    {
      "cell_type": "markdown",
      "source": [
        "To increase classification quality I normalized all photos by dividing every pixel value by 255"
      ],
      "metadata": {
        "id": "ByhrQJTFbszl"
      }
    },
    {
      "cell_type": "code",
      "source": [
        "folder_to_df('drive/MyDrive/SmileFacesDataset/smile', 1)\n",
        "folder_to_df('drive/MyDrive/SmileFacesDataset/non_smile', 0)"
      ],
      "metadata": {
        "colab": {
          "base_uri": "https://localhost:8080/"
        },
        "id": "o5XQZOo4XxWR",
        "outputId": "696be543-d196-4ed6-8da8-bc5057d825e6"
      },
      "execution_count": 6,
      "outputs": [
        {
          "output_type": "stream",
          "name": "stderr",
          "text": [
            "100%|██████████| 600/600 [00:46<00:00, 12.99it/s]\n",
            "100%|██████████| 603/603 [00:41<00:00, 14.49it/s]\n"
          ]
        }
      ]
    },
    {
      "cell_type": "code",
      "source": [
        "df"
      ],
      "metadata": {
        "colab": {
          "base_uri": "https://localhost:8080/",
          "height": 424
        },
        "id": "wvOylycjYNSs",
        "outputId": "c7cea173-ebba-4e3d-e1df-419ace7e1875"
      },
      "execution_count": 7,
      "outputs": [
        {
          "output_type": "execute_result",
          "data": {
            "text/plain": [
              "      class                          name  \\\n",
              "0         1          Jim_Harrick_0001.jpg   \n",
              "1         1       Jim_Harrick_0001.jpgrev   \n",
              "2         1      Keira_Knightley_0002.jpg   \n",
              "3         1   Keira_Knightley_0002.jpgrev   \n",
              "4         1       Joseph_Nacchio_0001.jpg   \n",
              "...     ...                           ...   \n",
              "2401      0    Claire_Tomalin_0001.jpgrev   \n",
              "2402      0        Daniel_Ortega_0001.jpg   \n",
              "2403      0     Daniel_Ortega_0001.jpgrev   \n",
              "2404      0     David_Nalbandian_0009.jpg   \n",
              "2405      0  David_Nalbandian_0009.jpgrev   \n",
              "\n",
              "                                                  image  \n",
              "0     [[[0.42745098, 0.44705883, 0.4745098, 0.509803...  \n",
              "1     [[[0.43529412, 0.43529412, 0.4392157, 0.447058...  \n",
              "2     [[[0.43137255, 0.42745098, 0.42352942, 0.42745...  \n",
              "3     [[[0.101960786, 0.09019608, 0.09411765, 0.2156...  \n",
              "4     [[[0.72156864, 0.7372549, 0.77254903, 0.807843...  \n",
              "...                                                 ...  \n",
              "2401  [[[0.2627451, 0.3137255, 0.35686275, 0.4392157...  \n",
              "2402  [[[0.14509805, 0.22352941, 0.37254903, 0.53725...  \n",
              "2403  [[[0.019607844, 0.003921569, 0.0, 0.007843138,...  \n",
              "2404  [[[0.07058824, 0.19607843, 0.32941177, 0.45490...  \n",
              "2405  [[[0.39607844, 0.38431373, 0.3882353, 0.388235...  \n",
              "\n",
              "[2406 rows x 3 columns]"
            ],
            "text/html": [
              "\n",
              "  <div id=\"df-3b5e341a-e1f7-4e9c-8045-21b3afa0a919\">\n",
              "    <div class=\"colab-df-container\">\n",
              "      <div>\n",
              "<style scoped>\n",
              "    .dataframe tbody tr th:only-of-type {\n",
              "        vertical-align: middle;\n",
              "    }\n",
              "\n",
              "    .dataframe tbody tr th {\n",
              "        vertical-align: top;\n",
              "    }\n",
              "\n",
              "    .dataframe thead th {\n",
              "        text-align: right;\n",
              "    }\n",
              "</style>\n",
              "<table border=\"1\" class=\"dataframe\">\n",
              "  <thead>\n",
              "    <tr style=\"text-align: right;\">\n",
              "      <th></th>\n",
              "      <th>class</th>\n",
              "      <th>name</th>\n",
              "      <th>image</th>\n",
              "    </tr>\n",
              "  </thead>\n",
              "  <tbody>\n",
              "    <tr>\n",
              "      <th>0</th>\n",
              "      <td>1</td>\n",
              "      <td>Jim_Harrick_0001.jpg</td>\n",
              "      <td>[[[0.42745098, 0.44705883, 0.4745098, 0.509803...</td>\n",
              "    </tr>\n",
              "    <tr>\n",
              "      <th>1</th>\n",
              "      <td>1</td>\n",
              "      <td>Jim_Harrick_0001.jpgrev</td>\n",
              "      <td>[[[0.43529412, 0.43529412, 0.4392157, 0.447058...</td>\n",
              "    </tr>\n",
              "    <tr>\n",
              "      <th>2</th>\n",
              "      <td>1</td>\n",
              "      <td>Keira_Knightley_0002.jpg</td>\n",
              "      <td>[[[0.43137255, 0.42745098, 0.42352942, 0.42745...</td>\n",
              "    </tr>\n",
              "    <tr>\n",
              "      <th>3</th>\n",
              "      <td>1</td>\n",
              "      <td>Keira_Knightley_0002.jpgrev</td>\n",
              "      <td>[[[0.101960786, 0.09019608, 0.09411765, 0.2156...</td>\n",
              "    </tr>\n",
              "    <tr>\n",
              "      <th>4</th>\n",
              "      <td>1</td>\n",
              "      <td>Joseph_Nacchio_0001.jpg</td>\n",
              "      <td>[[[0.72156864, 0.7372549, 0.77254903, 0.807843...</td>\n",
              "    </tr>\n",
              "    <tr>\n",
              "      <th>...</th>\n",
              "      <td>...</td>\n",
              "      <td>...</td>\n",
              "      <td>...</td>\n",
              "    </tr>\n",
              "    <tr>\n",
              "      <th>2401</th>\n",
              "      <td>0</td>\n",
              "      <td>Claire_Tomalin_0001.jpgrev</td>\n",
              "      <td>[[[0.2627451, 0.3137255, 0.35686275, 0.4392157...</td>\n",
              "    </tr>\n",
              "    <tr>\n",
              "      <th>2402</th>\n",
              "      <td>0</td>\n",
              "      <td>Daniel_Ortega_0001.jpg</td>\n",
              "      <td>[[[0.14509805, 0.22352941, 0.37254903, 0.53725...</td>\n",
              "    </tr>\n",
              "    <tr>\n",
              "      <th>2403</th>\n",
              "      <td>0</td>\n",
              "      <td>Daniel_Ortega_0001.jpgrev</td>\n",
              "      <td>[[[0.019607844, 0.003921569, 0.0, 0.007843138,...</td>\n",
              "    </tr>\n",
              "    <tr>\n",
              "      <th>2404</th>\n",
              "      <td>0</td>\n",
              "      <td>David_Nalbandian_0009.jpg</td>\n",
              "      <td>[[[0.07058824, 0.19607843, 0.32941177, 0.45490...</td>\n",
              "    </tr>\n",
              "    <tr>\n",
              "      <th>2405</th>\n",
              "      <td>0</td>\n",
              "      <td>David_Nalbandian_0009.jpgrev</td>\n",
              "      <td>[[[0.39607844, 0.38431373, 0.3882353, 0.388235...</td>\n",
              "    </tr>\n",
              "  </tbody>\n",
              "</table>\n",
              "<p>2406 rows × 3 columns</p>\n",
              "</div>\n",
              "      <button class=\"colab-df-convert\" onclick=\"convertToInteractive('df-3b5e341a-e1f7-4e9c-8045-21b3afa0a919')\"\n",
              "              title=\"Convert this dataframe to an interactive table.\"\n",
              "              style=\"display:none;\">\n",
              "        \n",
              "  <svg xmlns=\"http://www.w3.org/2000/svg\" height=\"24px\"viewBox=\"0 0 24 24\"\n",
              "       width=\"24px\">\n",
              "    <path d=\"M0 0h24v24H0V0z\" fill=\"none\"/>\n",
              "    <path d=\"M18.56 5.44l.94 2.06.94-2.06 2.06-.94-2.06-.94-.94-2.06-.94 2.06-2.06.94zm-11 1L8.5 8.5l.94-2.06 2.06-.94-2.06-.94L8.5 2.5l-.94 2.06-2.06.94zm10 10l.94 2.06.94-2.06 2.06-.94-2.06-.94-.94-2.06-.94 2.06-2.06.94z\"/><path d=\"M17.41 7.96l-1.37-1.37c-.4-.4-.92-.59-1.43-.59-.52 0-1.04.2-1.43.59L10.3 9.45l-7.72 7.72c-.78.78-.78 2.05 0 2.83L4 21.41c.39.39.9.59 1.41.59.51 0 1.02-.2 1.41-.59l7.78-7.78 2.81-2.81c.8-.78.8-2.07 0-2.86zM5.41 20L4 18.59l7.72-7.72 1.47 1.35L5.41 20z\"/>\n",
              "  </svg>\n",
              "      </button>\n",
              "      \n",
              "  <style>\n",
              "    .colab-df-container {\n",
              "      display:flex;\n",
              "      flex-wrap:wrap;\n",
              "      gap: 12px;\n",
              "    }\n",
              "\n",
              "    .colab-df-convert {\n",
              "      background-color: #E8F0FE;\n",
              "      border: none;\n",
              "      border-radius: 50%;\n",
              "      cursor: pointer;\n",
              "      display: none;\n",
              "      fill: #1967D2;\n",
              "      height: 32px;\n",
              "      padding: 0 0 0 0;\n",
              "      width: 32px;\n",
              "    }\n",
              "\n",
              "    .colab-df-convert:hover {\n",
              "      background-color: #E2EBFA;\n",
              "      box-shadow: 0px 1px 2px rgba(60, 64, 67, 0.3), 0px 1px 3px 1px rgba(60, 64, 67, 0.15);\n",
              "      fill: #174EA6;\n",
              "    }\n",
              "\n",
              "    [theme=dark] .colab-df-convert {\n",
              "      background-color: #3B4455;\n",
              "      fill: #D2E3FC;\n",
              "    }\n",
              "\n",
              "    [theme=dark] .colab-df-convert:hover {\n",
              "      background-color: #434B5C;\n",
              "      box-shadow: 0px 1px 3px 1px rgba(0, 0, 0, 0.15);\n",
              "      filter: drop-shadow(0px 1px 2px rgba(0, 0, 0, 0.3));\n",
              "      fill: #FFFFFF;\n",
              "    }\n",
              "  </style>\n",
              "\n",
              "      <script>\n",
              "        const buttonEl =\n",
              "          document.querySelector('#df-3b5e341a-e1f7-4e9c-8045-21b3afa0a919 button.colab-df-convert');\n",
              "        buttonEl.style.display =\n",
              "          google.colab.kernel.accessAllowed ? 'block' : 'none';\n",
              "\n",
              "        async function convertToInteractive(key) {\n",
              "          const element = document.querySelector('#df-3b5e341a-e1f7-4e9c-8045-21b3afa0a919');\n",
              "          const dataTable =\n",
              "            await google.colab.kernel.invokeFunction('convertToInteractive',\n",
              "                                                     [key], {});\n",
              "          if (!dataTable) return;\n",
              "\n",
              "          const docLinkHtml = 'Like what you see? Visit the ' +\n",
              "            '<a target=\"_blank\" href=https://colab.research.google.com/notebooks/data_table.ipynb>data table notebook</a>'\n",
              "            + ' to learn more about interactive tables.';\n",
              "          element.innerHTML = '';\n",
              "          dataTable['output_type'] = 'display_data';\n",
              "          await google.colab.output.renderOutput(dataTable, element);\n",
              "          const docLink = document.createElement('div');\n",
              "          docLink.innerHTML = docLinkHtml;\n",
              "          element.appendChild(docLink);\n",
              "        }\n",
              "      </script>\n",
              "    </div>\n",
              "  </div>\n",
              "  "
            ]
          },
          "metadata": {},
          "execution_count": 7
        }
      ]
    },
    {
      "cell_type": "code",
      "source": [
        "example = (df['image'][12])[0]\n",
        "img = Image.fromarray(np.uint8(example * 255), 'L')\n",
        "display(img)"
      ],
      "metadata": {
        "colab": {
          "base_uri": "https://localhost:8080/",
          "height": 81
        },
        "id": "qMAnzIlrY4l2",
        "outputId": "1354a112-553b-4ce5-d6ee-ce27ecf509d7"
      },
      "execution_count": 8,
      "outputs": [
        {
          "output_type": "display_data",
          "data": {
            "text/plain": [
              "<PIL.Image.Image image mode=L size=64x64 at 0x7F6E7484F340>"
            ],
            "image/png": "[encoded data removed]"
          },
          "metadata": {}
        }
      ]
    },
    {
      "cell_type": "code",
      "source": [
        "example = (df['image'][1315])[0]\n",
        "img = Image.fromarray(np.uint8(example * 255), 'L')\n",
        "display(img)"
      ],
      "metadata": {
        "colab": {
          "base_uri": "https://localhost:8080/",
          "height": 81
        },
        "id": "u1ZHbbHncEBJ",
        "outputId": "17914f4f-4e7c-40bb-d9de-83212d3dbd35"
      },
      "execution_count": 9,
      "outputs": [
        {
          "output_type": "display_data",
          "data": {
            "text/plain": [
              "<PIL.Image.Image image mode=L size=64x64 at 0x7F6EF9FC3E80>"
            ],
            "image/png": "[encoded data removed]"
          },
          "metadata": {}
        }
      ]
    },
    {
      "cell_type": "markdown",
      "source": [
        "Some reshaping so it will fit in convolutional layer<br>Also this could be done in NN via layers.Reshape "
      ],
      "metadata": {
        "id": "LTn1pUo0b-R1"
      }
    },
    {
      "cell_type": "code",
      "source": [
        "data = df['image']\n",
        "print(f'Before: {data[0].shape}')\n",
        "data = [np.array(i[:,:,:,np.newaxis][0]).astype('float32') for i in data]\n",
        "print(f'After: {data[0].shape}')"
      ],
      "metadata": {
        "colab": {
          "base_uri": "https://localhost:8080/"
        },
        "id": "iM5ivGnIiMew",
        "outputId": "34f8aa31-cea4-42d7-b16c-f4bc56ad306b"
      },
      "execution_count": 10,
      "outputs": [
        {
          "output_type": "stream",
          "name": "stdout",
          "text": [
            "Before: (1, 64, 64)\n",
            "After: (64, 64, 1)\n"
          ]
        }
      ]
    },
    {
      "cell_type": "code",
      "source": [
        "train_x, test_x, train_y, test_y = train_test_split(np.array(data), \n",
        "                                                    np.array(df['class'].astype('int32')), \n",
        "                                                    test_size=0.2, \n",
        "                                                    random_state=42)\n",
        "train_x.shape"
      ],
      "metadata": {
        "id": "pAlKewCre-AS",
        "colab": {
          "base_uri": "https://localhost:8080/"
        },
        "outputId": "316e04d9-fc84-4f77-ce00-06495e1e64ab"
      },
      "execution_count": 11,
      "outputs": [
        {
          "output_type": "execute_result",
          "data": {
            "text/plain": [
              "(1924, 64, 64, 1)"
            ]
          },
          "metadata": {},
          "execution_count": 11
        }
      ]
    },
    {
      "cell_type": "code",
      "source": [
        "SIZE = 64"
      ],
      "metadata": {
        "id": "KlVb8Z6vefZG"
      },
      "execution_count": 12,
      "outputs": []
    },
    {
      "cell_type": "code",
      "source": [
        "model = tf.keras.Sequential()\n",
        "model.add(layers.Conv2D(16, (4,4), input_shape=(SIZE,SIZE,1), activation='relu'))\n",
        "model.add(layers.Dropout(.2))\n",
        "model.add(layers.Flatten())\n",
        "model.add(layers.Dense(128, activation='relu'))\n",
        "model.add(layers.Dense(16, activation='relu'))\n",
        "model.add(layers.Dense(1, activation = 'sigmoid'))\n",
        "model.compile(loss='BinaryCrossentropy',\n",
        "              optimizer = 'adam',\n",
        "              metrics = ['accuracy'])\n",
        "\n",
        "model.summary()"
      ],
      "metadata": {
        "id": "MXJkSVq7cui0",
        "colab": {
          "base_uri": "https://localhost:8080/"
        },
        "outputId": "999649a3-2ef9-4fbd-f810-b9b9d783b25a"
      },
      "execution_count": 13,
      "outputs": [
        {
          "output_type": "stream",
          "name": "stdout",
          "text": [
            "Model: \"sequential\"\n",
            "_________________________________________________________________\n",
            " Layer (type)                Output Shape              Param #   \n",
            "=================================================================\n",
            " conv2d (Conv2D)             (None, 61, 61, 16)        272       \n",
            "                                                                 \n",
            " dropout (Dropout)           (None, 61, 61, 16)        0         \n",
            "                                                                 \n",
            " flatten (Flatten)           (None, 59536)             0         \n",
            "                                                                 \n",
            " dense (Dense)               (None, 128)               7620736   \n",
            "                                                                 \n",
            " dense_1 (Dense)             (None, 16)                2064      \n",
            "                                                                 \n",
            " dense_2 (Dense)             (None, 1)                 17        \n",
            "                                                                 \n",
            "=================================================================\n",
            "Total params: 7,623,089\n",
            "Trainable params: 7,623,089\n",
            "Non-trainable params: 0\n",
            "_________________________________________________________________\n"
          ]
        }
      ]
    },
    {
      "cell_type": "markdown",
      "source": [
        "Because I don't know how many epochs we will need this time I'll use Callback.<br>This allows to stop the training process when our conditiones are fullfield"
      ],
      "metadata": {
        "id": "3dr2n09-eVuE"
      }
    },
    {
      "cell_type": "code",
      "source": [
        "class haltCallback(tf.keras.callbacks.Callback):\n",
        "  def on_epoch_end(self, epoch, logs={}):\n",
        "      if(logs.get('loss') <= .1):\n",
        "          self.model.stop_training = True\n",
        "\n",
        "train_stop = haltCallback()"
      ],
      "metadata": {
        "id": "e6y4XTBsMcWH"
      },
      "execution_count": 14,
      "outputs": []
    },
    {
      "cell_type": "code",
      "source": [
        "history = model.fit(train_x, train_y, epochs=100, batch_size=32, callbacks=[train_stop])"
      ],
      "metadata": {
        "colab": {
          "base_uri": "https://localhost:8080/"
        },
        "id": "uSkMUzHie61P",
        "outputId": "81a70639-c58f-43de-f537-3fba26950dac"
      },
      "execution_count": 15,
      "outputs": [
        {
          "output_type": "stream",
          "name": "stdout",
          "text": [
            "Epoch 1/100\n",
            "61/61 [==============================] - 9s 131ms/step - loss: 0.6707 - accuracy: 0.6653\n",
            "Epoch 2/100\n",
            "61/61 [==============================] - 7s 120ms/step - loss: 0.4498 - accuracy: 0.8004\n",
            "Epoch 3/100\n",
            "61/61 [==============================] - 7s 114ms/step - loss: 0.3032 - accuracy: 0.8799\n",
            "Epoch 4/100\n",
            "61/61 [==============================] - 8s 124ms/step - loss: 0.2328 - accuracy: 0.9132\n",
            "Epoch 5/100\n",
            "61/61 [==============================] - 7s 107ms/step - loss: 0.1820 - accuracy: 0.9345\n",
            "Epoch 6/100\n",
            "61/61 [==============================] - 8s 127ms/step - loss: 0.1504 - accuracy: 0.9433\n",
            "Epoch 7/100\n",
            "61/61 [==============================] - 7s 108ms/step - loss: 0.1184 - accuracy: 0.9589\n",
            "Epoch 8/100\n",
            "61/61 [==============================] - 8s 127ms/step - loss: 0.1232 - accuracy: 0.9574\n",
            "Epoch 9/100\n",
            "61/61 [==============================] - 6s 107ms/step - loss: 0.0863 - accuracy: 0.9777\n"
          ]
        }
      ]
    },
    {
      "cell_type": "code",
      "source": [
        "plt.plot(history.history['loss'])\n",
        "plt.title(\"loss\")\n",
        "plt.show()\n",
        "plt.plot(history.history['accuracy'])\n",
        "plt.title(\"accuracy\")\n",
        "plt.show()"
      ],
      "metadata": {
        "colab": {
          "base_uri": "https://localhost:8080/",
          "height": 887
        },
        "id": "fOooWewnKEp1",
        "outputId": "fa45b99a-a6b9-4707-d296-c0d1f98e40f8"
      },
      "execution_count": 16,
      "outputs": [
        {
          "output_type": "display_data",
          "data": {
            "text/plain": [
              "<Figure size 640x480 with 1 Axes>"
            ],
            "image/png": "[encoded data removed]"
          },
          "metadata": {}
        },
        {
          "output_type": "display_data",
          "data": {
            "text/plain": [
              "<Figure size 640x480 with 1 Axes>"
            ],
            "image/png": "[encoded data removed]"
          },
          "metadata": {}
        }
      ]
    },
    {
      "cell_type": "code",
      "source": [
        "pred_y = model.predict(test_x)\n",
        "prediction = [1 if i > .5 else 0 for i in pred_y]"
      ],
      "metadata": {
        "colab": {
          "base_uri": "https://localhost:8080/"
        },
        "id": "XZfyzVJLkmj4",
        "outputId": "038b9346-575d-42e4-e331-7360a7f99c44"
      },
      "execution_count": 17,
      "outputs": [
        {
          "output_type": "stream",
          "name": "stdout",
          "text": [
            "16/16 [==============================] - 0s 20ms/step\n"
          ]
        }
      ]
    },
    {
      "cell_type": "code",
      "source": [
        "print(classification_report(test_y, prediction))"
      ],
      "metadata": {
        "colab": {
          "base_uri": "https://localhost:8080/"
        },
        "id": "fTdUNu8pkxbG",
        "outputId": "b5d0bb5a-7788-400c-8d1e-48559d8543db"
      },
      "execution_count": 18,
      "outputs": [
        {
          "output_type": "stream",
          "name": "stdout",
          "text": [
            "              precision    recall  f1-score   support\n",
            "\n",
            "           0       0.95      0.89      0.92       244\n",
            "           1       0.90      0.95      0.92       238\n",
            "\n",
            "    accuracy                           0.92       482\n",
            "   macro avg       0.92      0.92      0.92       482\n",
            "weighted avg       0.92      0.92      0.92       482\n",
            "\n"
          ]
        }
      ]
    },
    {
      "cell_type": "code",
      "source": [
        "sns.heatmap(confusion_matrix(test_y, prediction), annot=True)"
      ],
      "metadata": {
        "colab": {
          "base_uri": "https://localhost:8080/",
          "height": 449
        },
        "id": "L4CPArOplAOq",
        "outputId": "f690e07f-6ab5-4243-cca2-6305a60c78ed"
      },
      "execution_count": 19,
      "outputs": [
        {
          "output_type": "execute_result",
          "data": {
            "text/plain": [
              "<Axes: >"
            ]
          },
          "metadata": {},
          "execution_count": 19
        },
        {
          "output_type": "display_data",
          "data": {
            "text/plain": [
              "<Figure size 640x480 with 2 Axes>"
            ],
            "image/png": "[encoded data removed]"
          },
          "metadata": {}
        }
      ]
    },
    {
      "cell_type": "markdown",
      "source": [
        "MaxPool helps you significantly decrease number of trainable parameters"
      ],
      "metadata": {
        "id": "gtPXfBEOce-r"
      }
    },
    {
      "cell_type": "code",
      "source": [
        "model = tf.keras.Sequential()\n",
        "model.add(layers.Conv2D(16, (4,4), input_shape=(SIZE,SIZE,1), activation='relu'))\n",
        "model.add(layers.MaxPooling2D((4,4))) # model.add(layers.MaxPool2D((4,4)))\n",
        "model.add(layers.Dropout(.2))\n",
        "model.add(layers.Flatten())\n",
        "model.add(layers.Dense(128, activation='relu'))\n",
        "model.add(layers.Dense(16, activation='relu'))\n",
        "model.add(layers.Dense(1, activation = 'sigmoid'))\n",
        "model.compile(loss='BinaryCrossentropy',\n",
        "              optimizer = 'adam',\n",
        "              metrics = ['accuracy'])\n",
        "\n",
        "model.summary()"
      ],
      "metadata": {
        "colab": {
          "base_uri": "https://localhost:8080/"
        },
        "id": "6UBfMZ4Ptmr_",
        "outputId": "2f517090-344b-4970-e9a5-1a5dbf2cec1a"
      },
      "execution_count": 20,
      "outputs": [
        {
          "output_type": "stream",
          "name": "stdout",
          "text": [
            "Model: \"sequential_1\"\n",
            "_________________________________________________________________\n",
            " Layer (type)                Output Shape              Param #   \n",
            "=================================================================\n",
            " conv2d_1 (Conv2D)           (None, 61, 61, 16)        272       \n",
            "                                                                 \n",
            " max_pooling2d (MaxPooling2D  (None, 15, 15, 16)       0         \n",
            " )                                                               \n",
            "                                                                 \n",
            " dropout_1 (Dropout)         (None, 15, 15, 16)        0         \n",
            "                                                                 \n",
            " flatten_1 (Flatten)         (None, 3600)              0         \n",
            "                                                                 \n",
            " dense_3 (Dense)             (None, 128)               460928    \n",
            "                                                                 \n",
            " dense_4 (Dense)             (None, 16)                2064      \n",
            "                                                                 \n",
            " dense_5 (Dense)             (None, 1)                 17        \n",
            "                                                                 \n",
            "=================================================================\n",
            "Total params: 463,281\n",
            "Trainable params: 463,281\n",
            "Non-trainable params: 0\n",
            "_________________________________________________________________\n"
          ]
        }
      ]
    },
    {
      "cell_type": "code",
      "source": [
        "history = model.fit(train_x, train_y, epochs=100, batch_size=32, callbacks=[train_stop])"
      ],
      "metadata": {
        "colab": {
          "base_uri": "https://localhost:8080/"
        },
        "id": "6QH12WFDt9eT",
        "outputId": "7da5b963-727b-4232-9dcd-4c33c9fb93fd"
      },
      "execution_count": 21,
      "outputs": [
        {
          "output_type": "stream",
          "name": "stdout",
          "text": [
            "Epoch 1/100\n",
            "61/61 [==============================] - 3s 42ms/step - loss: 0.6371 - accuracy: 0.6648\n",
            "Epoch 2/100\n",
            "61/61 [==============================] - 3s 43ms/step - loss: 0.3532 - accuracy: 0.8820\n",
            "Epoch 3/100\n",
            "61/61 [==============================] - 4s 63ms/step - loss: 0.2058 - accuracy: 0.9272\n",
            "Epoch 4/100\n",
            "61/61 [==============================] - 3s 42ms/step - loss: 0.1754 - accuracy: 0.9387\n",
            "Epoch 5/100\n",
            "61/61 [==============================] - 3s 42ms/step - loss: 0.1491 - accuracy: 0.9475\n",
            "Epoch 6/100\n",
            "61/61 [==============================] - 3s 43ms/step - loss: 0.1227 - accuracy: 0.9522\n",
            "Epoch 7/100\n",
            "61/61 [==============================] - 3s 54ms/step - loss: 0.1040 - accuracy: 0.9652\n",
            "Epoch 8/100\n",
            "61/61 [==============================] - 3s 52ms/step - loss: 0.0930 - accuracy: 0.9673\n"
          ]
        }
      ]
    },
    {
      "cell_type": "code",
      "source": [
        "plt.plot(history.history['loss'])\n",
        "plt.title(\"loss\")\n",
        "plt.show()\n",
        "plt.plot(history.history['accuracy'])\n",
        "plt.title(\"accuracy\")\n",
        "plt.show()"
      ],
      "metadata": {
        "colab": {
          "base_uri": "https://localhost:8080/",
          "height": 887
        },
        "id": "AnDMjSF2KH1P",
        "outputId": "a51f84d8-7f0c-4707-8497-0be370b1a222"
      },
      "execution_count": 22,
      "outputs": [
        {
          "output_type": "display_data",
          "data": {
            "text/plain": [
              "<Figure size 640x480 with 1 Axes>"
            ],
            "image/png": "[encoded data removed]"
          },
          "metadata": {}
        },
        {
          "output_type": "display_data",
          "data": {
            "text/plain": [
              "<Figure size 640x480 with 1 Axes>"
            ],
            "image/png": "[encoded data removed]"
          },
          "metadata": {}
        }
      ]
    },
    {
      "cell_type": "code",
      "source": [
        "pred_y = model.predict(test_x)\n",
        "prediction_pooled = [1 if i > .5 else 0 for i in pred_y]"
      ],
      "metadata": {
        "colab": {
          "base_uri": "https://localhost:8080/"
        },
        "id": "pHFeFf8suDEK",
        "outputId": "6425a25b-2986-4bba-f5e2-1487694473c1"
      },
      "execution_count": 23,
      "outputs": [
        {
          "output_type": "stream",
          "name": "stdout",
          "text": [
            "16/16 [==============================] - 0s 16ms/step\n"
          ]
        }
      ]
    },
    {
      "cell_type": "code",
      "source": [
        "sns.heatmap(confusion_matrix(test_y, prediction_pooled), annot=True)"
      ],
      "metadata": {
        "colab": {
          "base_uri": "https://localhost:8080/",
          "height": 447
        },
        "id": "6EIfIF4kuIXE",
        "outputId": "0e331f59-7804-4380-e0dc-456caa3d758e"
      },
      "execution_count": 24,
      "outputs": [
        {
          "output_type": "execute_result",
          "data": {
            "text/plain": [
              "<Axes: >"
            ]
          },
          "metadata": {},
          "execution_count": 24
        },
        {
          "output_type": "display_data",
          "data": {
            "text/plain": [
              "<Figure size 640x480 with 2 Axes>"
            ],
            "image/png": "[encoded data removed]"
          },
          "metadata": {}
        }
      ]
    },
    {
      "cell_type": "code",
      "source": [
        "print(classification_report(test_y, prediction_pooled)) # 0.46KK params"
      ],
      "metadata": {
        "colab": {
          "base_uri": "https://localhost:8080/"
        },
        "id": "AqK3sEiPuHAW",
        "outputId": "fbca1b03-63ba-4008-eb18-251b1ba9032f"
      },
      "execution_count": 25,
      "outputs": [
        {
          "output_type": "stream",
          "name": "stdout",
          "text": [
            "              precision    recall  f1-score   support\n",
            "\n",
            "           0       0.96      0.98      0.97       244\n",
            "           1       0.98      0.95      0.97       238\n",
            "\n",
            "    accuracy                           0.97       482\n",
            "   macro avg       0.97      0.97      0.97       482\n",
            "weighted avg       0.97      0.97      0.97       482\n",
            "\n"
          ]
        }
      ]
    },
    {
      "cell_type": "code",
      "source": [
        "print(classification_report(test_y, prediction)) # 7.62KK params"
      ],
      "metadata": {
        "colab": {
          "base_uri": "https://localhost:8080/"
        },
        "id": "3nrDHFDIuM0Z",
        "outputId": "61d3f12e-e25f-420e-9fa9-af0890fdc89f"
      },
      "execution_count": 26,
      "outputs": [
        {
          "output_type": "stream",
          "name": "stdout",
          "text": [
            "              precision    recall  f1-score   support\n",
            "\n",
            "           0       0.95      0.89      0.92       244\n",
            "           1       0.90      0.95      0.92       238\n",
            "\n",
            "    accuracy                           0.92       482\n",
            "   macro avg       0.92      0.92      0.92       482\n",
            "weighted avg       0.92      0.92      0.92       482\n",
            "\n"
          ]
        }
      ]
    },
    {
      "cell_type": "markdown",
      "source": [
        "Better result with much smaller model"
      ],
      "metadata": {
        "id": "iwj-rbK4cyPu"
      }
    }
  ]
}