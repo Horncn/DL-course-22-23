{
  "cells": [
    {
      "cell_type": "code",
      "source": [
        "!pip install imbalanced-learn"
      ],
      "metadata": {
        "colab": {
          "base_uri": "https://localhost:8080/"
        },
        "id": "T7yb9xf6D96R",
        "outputId": "de86361a-7312-4719-a2c5-cf9a474024e6"
      },
      "id": "T7yb9xf6D96R",
      "execution_count": null,
      "outputs": [
        {
          "output_type": "stream",
          "name": "stdout",
          "text": [
            "Looking in indexes: https://pypi.org/simple, https://us-python.pkg.dev/colab-wheels/public/simple/\n",
            "Requirement already satisfied: imbalanced-learn in /usr/local/lib/python3.7/dist-packages (0.8.1)\n",
            "Requirement already satisfied: scipy>=0.19.1 in /usr/local/lib/python3.7/dist-packages (from imbalanced-learn) (1.7.3)\n",
            "Requirement already satisfied: joblib>=0.11 in /usr/local/lib/python3.7/dist-packages (from imbalanced-learn) (1.2.0)\n",
            "Requirement already satisfied: scikit-learn>=0.24 in /usr/local/lib/python3.7/dist-packages (from imbalanced-learn) (1.0.2)\n",
            "Requirement already satisfied: numpy>=1.13.3 in /usr/local/lib/python3.7/dist-packages (from imbalanced-learn) (1.21.6)\n",
            "Requirement already satisfied: threadpoolctl>=2.0.0 in /usr/local/lib/python3.7/dist-packages (from scikit-learn>=0.24->imbalanced-learn) (3.1.0)\n"
          ]
        }
      ]
    },
    {
      "cell_type": "code",
      "execution_count": null,
      "id": "82b28451",
      "metadata": {
        "id": "82b28451"
      },
      "outputs": [],
      "source": [
        "import spacy\n",
        "import pandas as pd\n",
        "import matplotlib.pyplot as plt\n",
        "import numpy as np\n",
        "import seaborn as sns\n",
        "import tensorflow as tf\n",
        "import re\n",
        "\n",
        "from imblearn.over_sampling import SMOTE\n",
        "from collections import Counter\n",
        "from gensim.models.doc2vec import Doc2Vec, TaggedDocument\n",
        "from tqdm import tqdm_notebook as tqdm\n",
        "from tensorflow import keras\n",
        "from sklearn.decomposition import PCA\n",
        "from sklearn.model_selection import train_test_split\n",
        "from sklearn.metrics import confusion_matrix, classification_report\n",
        "from sklearn.preprocessing import LabelEncoder"
      ]
    },
    {
      "cell_type": "code",
      "source": [
        "!python -m spacy download ru_core_news_lg"
      ],
      "metadata": {
        "colab": {
          "base_uri": "https://localhost:8080/"
        },
        "id": "Zhyfo8tSXLoh",
        "outputId": "9cba80d2-5096-4f3c-9a35-8c8f7b84e439"
      },
      "id": "Zhyfo8tSXLoh",
      "execution_count": null,
      "outputs": [
        {
          "output_type": "stream",
          "name": "stdout",
          "text": [
            "2022-11-25 09:17:26.403117: E tensorflow/stream_executor/cuda/cuda_driver.cc:271] failed call to cuInit: CUDA_ERROR_NO_DEVICE: no CUDA-capable device is detected\n",
            "Looking in indexes: https://pypi.org/simple, https://us-python.pkg.dev/colab-wheels/public/simple/\n",
            "Collecting ru-core-news-lg==3.4.0\n",
            "  Downloading https://github.com/explosion/spacy-models/releases/download/ru_core_news_lg-3.4.0/ru_core_news_lg-3.4.0-py3-none-any.whl (513.4 MB)\n",
            "\u001b[K     |████████████████████████████████| 513.4 MB 15 kB/s \n",
            "\u001b[?25hRequirement already satisfied: spacy<3.5.0,>=3.4.0 in /usr/local/lib/python3.7/dist-packages (from ru-core-news-lg==3.4.0) (3.4.3)\n",
            "Requirement already satisfied: pymorphy2>=0.9 in /usr/local/lib/python3.7/dist-packages (from ru-core-news-lg==3.4.0) (0.9.1)\n",
            "Requirement already satisfied: docopt>=0.6 in /usr/local/lib/python3.7/dist-packages (from pymorphy2>=0.9->ru-core-news-lg==3.4.0) (0.6.2)\n",
            "Requirement already satisfied: dawg-python>=0.7.1 in /usr/local/lib/python3.7/dist-packages (from pymorphy2>=0.9->ru-core-news-lg==3.4.0) (0.7.2)\n",
            "Requirement already satisfied: pymorphy2-dicts-ru<3.0,>=2.4 in /usr/local/lib/python3.7/dist-packages (from pymorphy2>=0.9->ru-core-news-lg==3.4.0) (2.4.417127.4579844)\n",
            "Requirement already satisfied: numpy>=1.15.0 in /usr/local/lib/python3.7/dist-packages (from spacy<3.5.0,>=3.4.0->ru-core-news-lg==3.4.0) (1.21.6)\n",
            "Requirement already satisfied: packaging>=20.0 in /usr/local/lib/python3.7/dist-packages (from spacy<3.5.0,>=3.4.0->ru-core-news-lg==3.4.0) (21.3)\n",
            "Requirement already satisfied: requests<3.0.0,>=2.13.0 in /usr/local/lib/python3.7/dist-packages (from spacy<3.5.0,>=3.4.0->ru-core-news-lg==3.4.0) (2.23.0)\n",
            "Requirement already satisfied: cymem<2.1.0,>=2.0.2 in /usr/local/lib/python3.7/dist-packages (from spacy<3.5.0,>=3.4.0->ru-core-news-lg==3.4.0) (2.0.7)\n",
            "Requirement already satisfied: typing-extensions<4.2.0,>=3.7.4 in /usr/local/lib/python3.7/dist-packages (from spacy<3.5.0,>=3.4.0->ru-core-news-lg==3.4.0) (4.1.1)\n",
            "Requirement already satisfied: setuptools in /usr/local/lib/python3.7/dist-packages (from spacy<3.5.0,>=3.4.0->ru-core-news-lg==3.4.0) (57.4.0)\n",
            "Requirement already satisfied: wasabi<1.1.0,>=0.9.1 in /usr/local/lib/python3.7/dist-packages (from spacy<3.5.0,>=3.4.0->ru-core-news-lg==3.4.0) (0.10.1)\n",
            "Requirement already satisfied: typer<0.8.0,>=0.3.0 in /usr/local/lib/python3.7/dist-packages (from spacy<3.5.0,>=3.4.0->ru-core-news-lg==3.4.0) (0.7.0)\n",
            "Requirement already satisfied: langcodes<4.0.0,>=3.2.0 in /usr/local/lib/python3.7/dist-packages (from spacy<3.5.0,>=3.4.0->ru-core-news-lg==3.4.0) (3.3.0)\n",
            "Requirement already satisfied: murmurhash<1.1.0,>=0.28.0 in /usr/local/lib/python3.7/dist-packages (from spacy<3.5.0,>=3.4.0->ru-core-news-lg==3.4.0) (1.0.9)\n",
            "Requirement already satisfied: pathy>=0.3.5 in /usr/local/lib/python3.7/dist-packages (from spacy<3.5.0,>=3.4.0->ru-core-news-lg==3.4.0) (0.8.1)\n",
            "Requirement already satisfied: spacy-legacy<3.1.0,>=3.0.10 in /usr/local/lib/python3.7/dist-packages (from spacy<3.5.0,>=3.4.0->ru-core-news-lg==3.4.0) (3.0.10)\n",
            "Requirement already satisfied: pydantic!=1.8,!=1.8.1,<1.11.0,>=1.7.4 in /usr/local/lib/python3.7/dist-packages (from spacy<3.5.0,>=3.4.0->ru-core-news-lg==3.4.0) (1.10.2)\n",
            "Requirement already satisfied: preshed<3.1.0,>=3.0.2 in /usr/local/lib/python3.7/dist-packages (from spacy<3.5.0,>=3.4.0->ru-core-news-lg==3.4.0) (3.0.8)\n",
            "Requirement already satisfied: spacy-loggers<2.0.0,>=1.0.0 in /usr/local/lib/python3.7/dist-packages (from spacy<3.5.0,>=3.4.0->ru-core-news-lg==3.4.0) (1.0.3)\n",
            "Requirement already satisfied: thinc<8.2.0,>=8.1.0 in /usr/local/lib/python3.7/dist-packages (from spacy<3.5.0,>=3.4.0->ru-core-news-lg==3.4.0) (8.1.5)\n",
            "Requirement already satisfied: srsly<3.0.0,>=2.4.3 in /usr/local/lib/python3.7/dist-packages (from spacy<3.5.0,>=3.4.0->ru-core-news-lg==3.4.0) (2.4.5)\n",
            "Requirement already satisfied: jinja2 in /usr/local/lib/python3.7/dist-packages (from spacy<3.5.0,>=3.4.0->ru-core-news-lg==3.4.0) (2.11.3)\n",
            "Requirement already satisfied: catalogue<2.1.0,>=2.0.6 in /usr/local/lib/python3.7/dist-packages (from spacy<3.5.0,>=3.4.0->ru-core-news-lg==3.4.0) (2.0.8)\n",
            "Requirement already satisfied: tqdm<5.0.0,>=4.38.0 in /usr/local/lib/python3.7/dist-packages (from spacy<3.5.0,>=3.4.0->ru-core-news-lg==3.4.0) (4.64.1)\n",
            "Requirement already satisfied: zipp>=0.5 in /usr/local/lib/python3.7/dist-packages (from catalogue<2.1.0,>=2.0.6->spacy<3.5.0,>=3.4.0->ru-core-news-lg==3.4.0) (3.10.0)\n",
            "Requirement already satisfied: pyparsing!=3.0.5,>=2.0.2 in /usr/local/lib/python3.7/dist-packages (from packaging>=20.0->spacy<3.5.0,>=3.4.0->ru-core-news-lg==3.4.0) (3.0.9)\n",
            "Requirement already satisfied: smart-open<6.0.0,>=5.2.1 in /usr/local/lib/python3.7/dist-packages (from pathy>=0.3.5->spacy<3.5.0,>=3.4.0->ru-core-news-lg==3.4.0) (5.2.1)\n",
            "Requirement already satisfied: idna<3,>=2.5 in /usr/local/lib/python3.7/dist-packages (from requests<3.0.0,>=2.13.0->spacy<3.5.0,>=3.4.0->ru-core-news-lg==3.4.0) (2.10)\n",
            "Requirement already satisfied: certifi>=2017.4.17 in /usr/local/lib/python3.7/dist-packages (from requests<3.0.0,>=2.13.0->spacy<3.5.0,>=3.4.0->ru-core-news-lg==3.4.0) (2022.9.24)\n",
            "Requirement already satisfied: urllib3!=1.25.0,!=1.25.1,<1.26,>=1.21.1 in /usr/local/lib/python3.7/dist-packages (from requests<3.0.0,>=2.13.0->spacy<3.5.0,>=3.4.0->ru-core-news-lg==3.4.0) (1.24.3)\n",
            "Requirement already satisfied: chardet<4,>=3.0.2 in /usr/local/lib/python3.7/dist-packages (from requests<3.0.0,>=2.13.0->spacy<3.5.0,>=3.4.0->ru-core-news-lg==3.4.0) (3.0.4)\n",
            "Requirement already satisfied: confection<1.0.0,>=0.0.1 in /usr/local/lib/python3.7/dist-packages (from thinc<8.2.0,>=8.1.0->spacy<3.5.0,>=3.4.0->ru-core-news-lg==3.4.0) (0.0.3)\n",
            "Requirement already satisfied: blis<0.8.0,>=0.7.8 in /usr/local/lib/python3.7/dist-packages (from thinc<8.2.0,>=8.1.0->spacy<3.5.0,>=3.4.0->ru-core-news-lg==3.4.0) (0.7.9)\n",
            "Requirement already satisfied: click<9.0.0,>=7.1.1 in /usr/local/lib/python3.7/dist-packages (from typer<0.8.0,>=0.3.0->spacy<3.5.0,>=3.4.0->ru-core-news-lg==3.4.0) (7.1.2)\n",
            "Requirement already satisfied: MarkupSafe>=0.23 in /usr/local/lib/python3.7/dist-packages (from jinja2->spacy<3.5.0,>=3.4.0->ru-core-news-lg==3.4.0) (2.0.1)\n",
            "\u001b[38;5;2m✔ Download and installation successful\u001b[0m\n",
            "You can now load the package via spacy.load('ru_core_news_lg')\n"
          ]
        }
      ]
    },
    {
      "cell_type": "code",
      "source": [
        "nlp = spacy.load(\"ru_core_news_lg\")\n",
        "nlp.disable_pipes('ner', 'parser', 'attribute_ruler')\n",
        "nlp.add_pipe('sentencizer')\n",
        "print(nlp.pipe_names)"
      ],
      "metadata": {
        "id": "OsMCVJruW-D-",
        "colab": {
          "base_uri": "https://localhost:8080/"
        },
        "outputId": "9416e23b-28ab-45b4-ddfe-d08764b37960"
      },
      "id": "OsMCVJruW-D-",
      "execution_count": null,
      "outputs": [
        {
          "output_type": "stream",
          "name": "stdout",
          "text": [
            "['tok2vec', 'morphologizer', 'lemmatizer', 'sentencizer']\n"
          ]
        }
      ]
    },
    {
      "cell_type": "code",
      "execution_count": null,
      "id": "b956c071",
      "metadata": {
        "scrolled": true,
        "colab": {
          "base_uri": "https://localhost:8080/",
          "height": 424
        },
        "id": "b956c071",
        "outputId": "625ce782-39a1-4c90-adfd-911010abd588"
      },
      "outputs": [
        {
          "output_type": "execute_result",
          "data": {
            "text/plain": [
              "     Column1        date                                               text  \\\n",
              "0        0.0  31.12.2019  Почему закрыта тема с отзывами? Российские жел...   \n",
              "1        1.0  31.12.2019  Хочу выразить благодарность проводнице Ольге, ...   \n",
              "2        2.0  02.01.2020          хорошая техподдержка, ответы развёрнутые.   \n",
              "3        3.0  03.01.2020        Очень понравилось на поезде было 30.12.2019   \n",
              "4        4.0  04.01.2020  К сожалению, у меня сложное аутоиммунное забол...   \n",
              "..       ...         ...                                                ...   \n",
              "785    784.0  28.12.2021  РЖД какими вы были такими и остались ! ехали п...   \n",
              "786    785.0  29.12.2021  Как можно разрешить провозить животных в купе ...   \n",
              "787    786.0  30.12.2021  Добрый день, всегда уезжаем с Курского вокзала...   \n",
              "788    787.0  31.12.2021  Не очень люблю поезда, особенно плацкарт , но ...   \n",
              "789    788.0  01.01.2022  Хочу выразить благодарность проводникам поезда...   \n",
              "\n",
              "        label  \n",
              "0    negative  \n",
              "1    positive  \n",
              "2    positive  \n",
              "3    positive  \n",
              "4    negative  \n",
              "..        ...  \n",
              "785  negative  \n",
              "786  negative  \n",
              "787  negative  \n",
              "788  positive  \n",
              "789  positive  \n",
              "\n",
              "[790 rows x 4 columns]"
            ],
            "text/html": [
              "\n",
              "  <div id=\"df-17aea37f-8b0c-4a36-8992-03b9bdbb29fc\">\n",
              "    <div class=\"colab-df-container\">\n",
              "      <div>\n",
              "<style scoped>\n",
              "    .dataframe tbody tr th:only-of-type {\n",
              "        vertical-align: middle;\n",
              "    }\n",
              "\n",
              "    .dataframe tbody tr th {\n",
              "        vertical-align: top;\n",
              "    }\n",
              "\n",
              "    .dataframe thead th {\n",
              "        text-align: right;\n",
              "    }\n",
              "</style>\n",
              "<table border=\"1\" class=\"dataframe\">\n",
              "  <thead>\n",
              "    <tr style=\"text-align: right;\">\n",
              "      <th></th>\n",
              "      <th>Column1</th>\n",
              "      <th>date</th>\n",
              "      <th>text</th>\n",
              "      <th>label</th>\n",
              "    </tr>\n",
              "  </thead>\n",
              "  <tbody>\n",
              "    <tr>\n",
              "      <th>0</th>\n",
              "      <td>0.0</td>\n",
              "      <td>31.12.2019</td>\n",
              "      <td>Почему закрыта тема с отзывами? Российские жел...</td>\n",
              "      <td>negative</td>\n",
              "    </tr>\n",
              "    <tr>\n",
              "      <th>1</th>\n",
              "      <td>1.0</td>\n",
              "      <td>31.12.2019</td>\n",
              "      <td>Хочу выразить благодарность проводнице Ольге, ...</td>\n",
              "      <td>positive</td>\n",
              "    </tr>\n",
              "    <tr>\n",
              "      <th>2</th>\n",
              "      <td>2.0</td>\n",
              "      <td>02.01.2020</td>\n",
              "      <td>хорошая техподдержка, ответы развёрнутые.</td>\n",
              "      <td>positive</td>\n",
              "    </tr>\n",
              "    <tr>\n",
              "      <th>3</th>\n",
              "      <td>3.0</td>\n",
              "      <td>03.01.2020</td>\n",
              "      <td>Очень понравилось на поезде было 30.12.2019</td>\n",
              "      <td>positive</td>\n",
              "    </tr>\n",
              "    <tr>\n",
              "      <th>4</th>\n",
              "      <td>4.0</td>\n",
              "      <td>04.01.2020</td>\n",
              "      <td>К сожалению, у меня сложное аутоиммунное забол...</td>\n",
              "      <td>negative</td>\n",
              "    </tr>\n",
              "    <tr>\n",
              "      <th>...</th>\n",
              "      <td>...</td>\n",
              "      <td>...</td>\n",
              "      <td>...</td>\n",
              "      <td>...</td>\n",
              "    </tr>\n",
              "    <tr>\n",
              "      <th>785</th>\n",
              "      <td>784.0</td>\n",
              "      <td>28.12.2021</td>\n",
              "      <td>РЖД какими вы были такими и остались ! ехали п...</td>\n",
              "      <td>negative</td>\n",
              "    </tr>\n",
              "    <tr>\n",
              "      <th>786</th>\n",
              "      <td>785.0</td>\n",
              "      <td>29.12.2021</td>\n",
              "      <td>Как можно разрешить провозить животных в купе ...</td>\n",
              "      <td>negative</td>\n",
              "    </tr>\n",
              "    <tr>\n",
              "      <th>787</th>\n",
              "      <td>786.0</td>\n",
              "      <td>30.12.2021</td>\n",
              "      <td>Добрый день, всегда уезжаем с Курского вокзала...</td>\n",
              "      <td>negative</td>\n",
              "    </tr>\n",
              "    <tr>\n",
              "      <th>788</th>\n",
              "      <td>787.0</td>\n",
              "      <td>31.12.2021</td>\n",
              "      <td>Не очень люблю поезда, особенно плацкарт , но ...</td>\n",
              "      <td>positive</td>\n",
              "    </tr>\n",
              "    <tr>\n",
              "      <th>789</th>\n",
              "      <td>788.0</td>\n",
              "      <td>01.01.2022</td>\n",
              "      <td>Хочу выразить благодарность проводникам поезда...</td>\n",
              "      <td>positive</td>\n",
              "    </tr>\n",
              "  </tbody>\n",
              "</table>\n",
              "<p>790 rows × 4 columns</p>\n",
              "</div>\n",
              "      <button class=\"colab-df-convert\" onclick=\"convertToInteractive('df-17aea37f-8b0c-4a36-8992-03b9bdbb29fc')\"\n",
              "              title=\"Convert this dataframe to an interactive table.\"\n",
              "              style=\"display:none;\">\n",
              "        \n",
              "  <svg xmlns=\"http://www.w3.org/2000/svg\" height=\"24px\"viewBox=\"0 0 24 24\"\n",
              "       width=\"24px\">\n",
              "    <path d=\"M0 0h24v24H0V0z\" fill=\"none\"/>\n",
              "    <path d=\"M18.56 5.44l.94 2.06.94-2.06 2.06-.94-2.06-.94-.94-2.06-.94 2.06-2.06.94zm-11 1L8.5 8.5l.94-2.06 2.06-.94-2.06-.94L8.5 2.5l-.94 2.06-2.06.94zm10 10l.94 2.06.94-2.06 2.06-.94-2.06-.94-.94-2.06-.94 2.06-2.06.94z\"/><path d=\"M17.41 7.96l-1.37-1.37c-.4-.4-.92-.59-1.43-.59-.52 0-1.04.2-1.43.59L10.3 9.45l-7.72 7.72c-.78.78-.78 2.05 0 2.83L4 21.41c.39.39.9.59 1.41.59.51 0 1.02-.2 1.41-.59l7.78-7.78 2.81-2.81c.8-.78.8-2.07 0-2.86zM5.41 20L4 18.59l7.72-7.72 1.47 1.35L5.41 20z\"/>\n",
              "  </svg>\n",
              "      </button>\n",
              "      \n",
              "  <style>\n",
              "    .colab-df-container {\n",
              "      display:flex;\n",
              "      flex-wrap:wrap;\n",
              "      gap: 12px;\n",
              "    }\n",
              "\n",
              "    .colab-df-convert {\n",
              "      background-color: #E8F0FE;\n",
              "      border: none;\n",
              "      border-radius: 50%;\n",
              "      cursor: pointer;\n",
              "      display: none;\n",
              "      fill: #1967D2;\n",
              "      height: 32px;\n",
              "      padding: 0 0 0 0;\n",
              "      width: 32px;\n",
              "    }\n",
              "\n",
              "    .colab-df-convert:hover {\n",
              "      background-color: #E2EBFA;\n",
              "      box-shadow: 0px 1px 2px rgba(60, 64, 67, 0.3), 0px 1px 3px 1px rgba(60, 64, 67, 0.15);\n",
              "      fill: #174EA6;\n",
              "    }\n",
              "\n",
              "    [theme=dark] .colab-df-convert {\n",
              "      background-color: #3B4455;\n",
              "      fill: #D2E3FC;\n",
              "    }\n",
              "\n",
              "    [theme=dark] .colab-df-convert:hover {\n",
              "      background-color: #434B5C;\n",
              "      box-shadow: 0px 1px 3px 1px rgba(0, 0, 0, 0.15);\n",
              "      filter: drop-shadow(0px 1px 2px rgba(0, 0, 0, 0.3));\n",
              "      fill: #FFFFFF;\n",
              "    }\n",
              "  </style>\n",
              "\n",
              "      <script>\n",
              "        const buttonEl =\n",
              "          document.querySelector('#df-17aea37f-8b0c-4a36-8992-03b9bdbb29fc button.colab-df-convert');\n",
              "        buttonEl.style.display =\n",
              "          google.colab.kernel.accessAllowed ? 'block' : 'none';\n",
              "\n",
              "        async function convertToInteractive(key) {\n",
              "          const element = document.querySelector('#df-17aea37f-8b0c-4a36-8992-03b9bdbb29fc');\n",
              "          const dataTable =\n",
              "            await google.colab.kernel.invokeFunction('convertToInteractive',\n",
              "                                                     [key], {});\n",
              "          if (!dataTable) return;\n",
              "\n",
              "          const docLinkHtml = 'Like what you see? Visit the ' +\n",
              "            '<a target=\"_blank\" href=https://colab.research.google.com/notebooks/data_table.ipynb>data table notebook</a>'\n",
              "            + ' to learn more about interactive tables.';\n",
              "          element.innerHTML = '';\n",
              "          dataTable['output_type'] = 'display_data';\n",
              "          await google.colab.output.renderOutput(dataTable, element);\n",
              "          const docLink = document.createElement('div');\n",
              "          docLink.innerHTML = docLinkHtml;\n",
              "          element.appendChild(docLink);\n",
              "        }\n",
              "      </script>\n",
              "    </div>\n",
              "  </div>\n",
              "  "
            ]
          },
          "metadata": {},
          "execution_count": 15
        }
      ],
      "source": [
        "df = pd.read_csv('Rzd_official_labeled.csv', sep=';', encoding='utf8')\n",
        "df"
      ]
    },
    {
      "cell_type": "code",
      "execution_count": null,
      "id": "750a373e",
      "metadata": {
        "colab": {
          "base_uri": "https://localhost:8080/"
        },
        "id": "750a373e",
        "outputId": "fdc20f88-2d90-4de3-d97c-ba122cb491ec"
      },
      "outputs": [
        {
          "output_type": "execute_result",
          "data": {
            "text/plain": [
              "array(['negative', 'positive', 'neutral'], dtype=object)"
            ]
          },
          "metadata": {},
          "execution_count": 16
        }
      ],
      "source": [
        "df['label'].unique()"
      ]
    },
    {
      "cell_type": "code",
      "execution_count": null,
      "id": "c01d3b8e",
      "metadata": {
        "scrolled": true,
        "colab": {
          "base_uri": "https://localhost:8080/",
          "height": 424
        },
        "id": "c01d3b8e",
        "outputId": "8280a41d-e769-4851-c15b-4cc94fb66eb9"
      },
      "outputs": [
        {
          "output_type": "execute_result",
          "data": {
            "text/plain": [
              "                                                  text  label\n",
              "0    Почему закрыта тема с отзывами? Российские жел...      0\n",
              "1    Хочу выразить благодарность проводнице Ольге, ...      2\n",
              "2            хорошая техподдержка, ответы развёрнутые.      2\n",
              "3          Очень понравилось на поезде было 30.12.2019      2\n",
              "4    К сожалению, у меня сложное аутоиммунное забол...      0\n",
              "..                                                 ...    ...\n",
              "785  РЖД какими вы были такими и остались ! ехали п...      0\n",
              "786  Как можно разрешить провозить животных в купе ...      0\n",
              "787  Добрый день, всегда уезжаем с Курского вокзала...      0\n",
              "788  Не очень люблю поезда, особенно плацкарт , но ...      2\n",
              "789  Хочу выразить благодарность проводникам поезда...      2\n",
              "\n",
              "[790 rows x 2 columns]"
            ],
            "text/html": [
              "\n",
              "  <div id=\"df-3330c3d4-bdb1-4d87-b0dd-6fdab49afe08\">\n",
              "    <div class=\"colab-df-container\">\n",
              "      <div>\n",
              "<style scoped>\n",
              "    .dataframe tbody tr th:only-of-type {\n",
              "        vertical-align: middle;\n",
              "    }\n",
              "\n",
              "    .dataframe tbody tr th {\n",
              "        vertical-align: top;\n",
              "    }\n",
              "\n",
              "    .dataframe thead th {\n",
              "        text-align: right;\n",
              "    }\n",
              "</style>\n",
              "<table border=\"1\" class=\"dataframe\">\n",
              "  <thead>\n",
              "    <tr style=\"text-align: right;\">\n",
              "      <th></th>\n",
              "      <th>text</th>\n",
              "      <th>label</th>\n",
              "    </tr>\n",
              "  </thead>\n",
              "  <tbody>\n",
              "    <tr>\n",
              "      <th>0</th>\n",
              "      <td>Почему закрыта тема с отзывами? Российские жел...</td>\n",
              "      <td>0</td>\n",
              "    </tr>\n",
              "    <tr>\n",
              "      <th>1</th>\n",
              "      <td>Хочу выразить благодарность проводнице Ольге, ...</td>\n",
              "      <td>2</td>\n",
              "    </tr>\n",
              "    <tr>\n",
              "      <th>2</th>\n",
              "      <td>хорошая техподдержка, ответы развёрнутые.</td>\n",
              "      <td>2</td>\n",
              "    </tr>\n",
              "    <tr>\n",
              "      <th>3</th>\n",
              "      <td>Очень понравилось на поезде было 30.12.2019</td>\n",
              "      <td>2</td>\n",
              "    </tr>\n",
              "    <tr>\n",
              "      <th>4</th>\n",
              "      <td>К сожалению, у меня сложное аутоиммунное забол...</td>\n",
              "      <td>0</td>\n",
              "    </tr>\n",
              "    <tr>\n",
              "      <th>...</th>\n",
              "      <td>...</td>\n",
              "      <td>...</td>\n",
              "    </tr>\n",
              "    <tr>\n",
              "      <th>785</th>\n",
              "      <td>РЖД какими вы были такими и остались ! ехали п...</td>\n",
              "      <td>0</td>\n",
              "    </tr>\n",
              "    <tr>\n",
              "      <th>786</th>\n",
              "      <td>Как можно разрешить провозить животных в купе ...</td>\n",
              "      <td>0</td>\n",
              "    </tr>\n",
              "    <tr>\n",
              "      <th>787</th>\n",
              "      <td>Добрый день, всегда уезжаем с Курского вокзала...</td>\n",
              "      <td>0</td>\n",
              "    </tr>\n",
              "    <tr>\n",
              "      <th>788</th>\n",
              "      <td>Не очень люблю поезда, особенно плацкарт , но ...</td>\n",
              "      <td>2</td>\n",
              "    </tr>\n",
              "    <tr>\n",
              "      <th>789</th>\n",
              "      <td>Хочу выразить благодарность проводникам поезда...</td>\n",
              "      <td>2</td>\n",
              "    </tr>\n",
              "  </tbody>\n",
              "</table>\n",
              "<p>790 rows × 2 columns</p>\n",
              "</div>\n",
              "      <button class=\"colab-df-convert\" onclick=\"convertToInteractive('df-3330c3d4-bdb1-4d87-b0dd-6fdab49afe08')\"\n",
              "              title=\"Convert this dataframe to an interactive table.\"\n",
              "              style=\"display:none;\">\n",
              "        \n",
              "  <svg xmlns=\"http://www.w3.org/2000/svg\" height=\"24px\"viewBox=\"0 0 24 24\"\n",
              "       width=\"24px\">\n",
              "    <path d=\"M0 0h24v24H0V0z\" fill=\"none\"/>\n",
              "    <path d=\"M18.56 5.44l.94 2.06.94-2.06 2.06-.94-2.06-.94-.94-2.06-.94 2.06-2.06.94zm-11 1L8.5 8.5l.94-2.06 2.06-.94-2.06-.94L8.5 2.5l-.94 2.06-2.06.94zm10 10l.94 2.06.94-2.06 2.06-.94-2.06-.94-.94-2.06-.94 2.06-2.06.94z\"/><path d=\"M17.41 7.96l-1.37-1.37c-.4-.4-.92-.59-1.43-.59-.52 0-1.04.2-1.43.59L10.3 9.45l-7.72 7.72c-.78.78-.78 2.05 0 2.83L4 21.41c.39.39.9.59 1.41.59.51 0 1.02-.2 1.41-.59l7.78-7.78 2.81-2.81c.8-.78.8-2.07 0-2.86zM5.41 20L4 18.59l7.72-7.72 1.47 1.35L5.41 20z\"/>\n",
              "  </svg>\n",
              "      </button>\n",
              "      \n",
              "  <style>\n",
              "    .colab-df-container {\n",
              "      display:flex;\n",
              "      flex-wrap:wrap;\n",
              "      gap: 12px;\n",
              "    }\n",
              "\n",
              "    .colab-df-convert {\n",
              "      background-color: #E8F0FE;\n",
              "      border: none;\n",
              "      border-radius: 50%;\n",
              "      cursor: pointer;\n",
              "      display: none;\n",
              "      fill: #1967D2;\n",
              "      height: 32px;\n",
              "      padding: 0 0 0 0;\n",
              "      width: 32px;\n",
              "    }\n",
              "\n",
              "    .colab-df-convert:hover {\n",
              "      background-color: #E2EBFA;\n",
              "      box-shadow: 0px 1px 2px rgba(60, 64, 67, 0.3), 0px 1px 3px 1px rgba(60, 64, 67, 0.15);\n",
              "      fill: #174EA6;\n",
              "    }\n",
              "\n",
              "    [theme=dark] .colab-df-convert {\n",
              "      background-color: #3B4455;\n",
              "      fill: #D2E3FC;\n",
              "    }\n",
              "\n",
              "    [theme=dark] .colab-df-convert:hover {\n",
              "      background-color: #434B5C;\n",
              "      box-shadow: 0px 1px 3px 1px rgba(0, 0, 0, 0.15);\n",
              "      filter: drop-shadow(0px 1px 2px rgba(0, 0, 0, 0.3));\n",
              "      fill: #FFFFFF;\n",
              "    }\n",
              "  </style>\n",
              "\n",
              "      <script>\n",
              "        const buttonEl =\n",
              "          document.querySelector('#df-3330c3d4-bdb1-4d87-b0dd-6fdab49afe08 button.colab-df-convert');\n",
              "        buttonEl.style.display =\n",
              "          google.colab.kernel.accessAllowed ? 'block' : 'none';\n",
              "\n",
              "        async function convertToInteractive(key) {\n",
              "          const element = document.querySelector('#df-3330c3d4-bdb1-4d87-b0dd-6fdab49afe08');\n",
              "          const dataTable =\n",
              "            await google.colab.kernel.invokeFunction('convertToInteractive',\n",
              "                                                     [key], {});\n",
              "          if (!dataTable) return;\n",
              "\n",
              "          const docLinkHtml = 'Like what you see? Visit the ' +\n",
              "            '<a target=\"_blank\" href=https://colab.research.google.com/notebooks/data_table.ipynb>data table notebook</a>'\n",
              "            + ' to learn more about interactive tables.';\n",
              "          element.innerHTML = '';\n",
              "          dataTable['output_type'] = 'display_data';\n",
              "          await google.colab.output.renderOutput(dataTable, element);\n",
              "          const docLink = document.createElement('div');\n",
              "          docLink.innerHTML = docLinkHtml;\n",
              "          element.appendChild(docLink);\n",
              "        }\n",
              "      </script>\n",
              "    </div>\n",
              "  </div>\n",
              "  "
            ]
          },
          "metadata": {},
          "execution_count": 17
        }
      ],
      "source": [
        "labels = {'negative': 0, 'neutral' : 1, 'positive': 2}\n",
        "enc = LabelEncoder()\n",
        "df['label'] = enc.fit_transform(df['label'])\n",
        "df = df.drop('Column1', axis=1)\n",
        "df = df.drop('date', axis=1)\n",
        "df"
      ]
    },
    {
      "cell_type": "code",
      "source": [
        "all_words = [] # list for all words in all texts\n",
        "for row_index, row in tqdm(df.iterrows()):\n",
        "\n",
        "  text = row['text']\n",
        "  clear = re.findall('[а-я]+', text.lower()) # all words in one text\n",
        "\n",
        "  for i, word in enumerate(clear):\n",
        "    word_processed = nlp(word)[0]\n",
        "    if word_processed.pos_ not in ['VERB', 'NOUN', 'ADJ', 'ADV']:\n",
        "      clear.remove(word)\n",
        "    else:\n",
        "      clear[i] = word_processed.lemma_\n",
        "\n",
        "  all_words.extend(clear)\n",
        "      \n",
        "  clear = ' '.join(clear)\n",
        "  df.loc[row_index, 'text'] = clear"
      ],
      "metadata": {
        "colab": {
          "base_uri": "https://localhost:8080/",
          "height": 121,
          "referenced_widgets": [
            "20c9b30637fc48e9b9475d04de50a3e5",
            "e7c3cdd7eb7a416f9a3812599f51bc9d",
            "64429380088144ce84163e879f4b7fdb",
            "70377206c7d949f7b1c1919a663fbd7b",
            "ff01115e885b4fd1a1c4bf360af78144",
            "9a052af2f4b04a5c9d0c1f86edaae1d2",
            "83186b37f2bf45cbb32169cd05b421f5",
            "19d5f992f04d449280f192298e745498",
            "1648056055d5408eba6dbdfa5467eade",
            "b2e172fa2cbd4c2cbdba7dadb339e0dd",
            "03e27f5f63c54850966d8ee02ef4ec9a"
          ]
        },
        "id": "x-lEGPpITXQS",
        "outputId": "80c84e15-c67a-4303-be4d-9e41d1bd0080"
      },
      "id": "x-lEGPpITXQS",
      "execution_count": null,
      "outputs": [
        {
          "output_type": "stream",
          "name": "stderr",
          "text": [
            "/usr/local/lib/python3.7/dist-packages/ipykernel_launcher.py:2: TqdmDeprecationWarning: This function will be removed in tqdm==5.0.0\n",
            "Please use `tqdm.notebook.tqdm` instead of `tqdm.tqdm_notebook`\n",
            "  \n"
          ]
        },
        {
          "output_type": "display_data",
          "data": {
            "text/plain": [
              "0it [00:00, ?it/s]"
            ],
            "application/vnd.jupyter.widget-view+json": {
              "version_major": 2,
              "version_minor": 0,
              "model_id": "20c9b30637fc48e9b9475d04de50a3e5"
            }
          },
          "metadata": {}
        }
      ]
    },
    {
      "cell_type": "code",
      "source": [
        "word_count = Counter(all_words)\n",
        "len(word_count)"
      ],
      "metadata": {
        "colab": {
          "base_uri": "https://localhost:8080/"
        },
        "id": "MDh4-aFYTqq2",
        "outputId": "f4489304-8860-4d68-eb62-e5e576e8ab71"
      },
      "id": "MDh4-aFYTqq2",
      "execution_count": null,
      "outputs": [
        {
          "output_type": "execute_result",
          "data": {
            "text/plain": [
              "8021"
            ]
          },
          "metadata": {},
          "execution_count": 19
        }
      ]
    },
    {
      "cell_type": "code",
      "source": [
        "all_words = [i[0] for i in word_count.most_common(500)]"
      ],
      "metadata": {
        "id": "eYufVlcvfpAj"
      },
      "id": "eYufVlcvfpAj",
      "execution_count": null,
      "outputs": []
    },
    {
      "cell_type": "code",
      "execution_count": null,
      "id": "3c19a6d9",
      "metadata": {
        "id": "3c19a6d9"
      },
      "outputs": [],
      "source": [
        "def get_embeddings(doc):\n",
        "    text_embeddings = []\n",
        "    for sent in doc.sents:\n",
        "        sent_embeddings = []\n",
        "        for token in sent:\n",
        "              sent_embeddings.append(token.vector)\n",
        "        text_embeddings.append(np.mean(sent_embeddings, axis=0))\n",
        "    text_embeddings = np.mean(text_embeddings, axis=0)\n",
        "    if np.isnan(text_embeddings[0]):\n",
        "        text_embeddings = [0 for _ in range(300)]\n",
        "    return text_embeddings"
      ]
    },
    {
      "cell_type": "code",
      "execution_count": null,
      "id": "7beb3bae",
      "metadata": {
        "scrolled": true,
        "colab": {
          "base_uri": "https://localhost:8080/",
          "height": 572,
          "referenced_widgets": [
            "106e7959fd794faebafabf963cdb0a66",
            "1b0f31c29c1c40958937f120eba8fefb",
            "1f7e924f248c4563989b97f26c49c4a0",
            "105c391781b94eb29ff7c9b1370b152b",
            "b8ed5d2884144b07a4659f6236982737",
            "6c6e9f4390dc4cd78f8f8a2cae0e2b1e",
            "b2c7c293fb184ccaa579e6de1edcdce8",
            "2c684521ba7e4f20bb739e26c355ec11",
            "229e3b6bc70b4ff39b397aa2c47d7574",
            "8a62dff3fd06450ba873b02cf354cc58",
            "5a34634a5b7748d68c0cad3b90bdbe0a"
          ]
        },
        "id": "7beb3bae",
        "outputId": "a699b1f8-a6ce-4c18-9588-880965f504b2"
      },
      "outputs": [
        {
          "output_type": "stream",
          "name": "stderr",
          "text": [
            "/usr/local/lib/python3.7/dist-packages/ipykernel_launcher.py:6: TqdmDeprecationWarning: This function will be removed in tqdm==5.0.0\n",
            "Please use `tqdm.notebook.tqdm` instead of `tqdm.tqdm_notebook`\n",
            "  \n"
          ]
        },
        {
          "output_type": "display_data",
          "data": {
            "text/plain": [
              "0it [00:00, ?it/s]"
            ],
            "application/vnd.jupyter.widget-view+json": {
              "version_major": 2,
              "version_minor": 0,
              "model_id": "106e7959fd794faebafabf963cdb0a66"
            }
          },
          "metadata": {}
        },
        {
          "output_type": "execute_result",
          "data": {
            "text/plain": [
              "     target  поезд  вагон  проводник  очень  благодарность  спасибо  хотеть  \\\n",
              "0       0.0    0.0    0.0        0.0    0.0            1.0      0.0     1.0   \n",
              "1       2.0    0.0    0.0        0.0    0.0            1.0      0.0     1.0   \n",
              "2       2.0    0.0    0.0        0.0    0.0            0.0      0.0     0.0   \n",
              "3       2.0    0.0    0.0        0.0    1.0            0.0      0.0     0.0   \n",
              "4       0.0    1.0    1.0        1.0    1.0            0.0      0.0     0.0   \n",
              "..      ...    ...    ...        ...    ...            ...      ...     ...   \n",
              "785     0.0    1.0    1.0        0.0    0.0            0.0      0.0     0.0   \n",
              "786     0.0    0.0    0.0        0.0    0.0            0.0      0.0     0.0   \n",
              "787     0.0    1.0    0.0        0.0    0.0            0.0      0.0     0.0   \n",
              "788     2.0    1.0    0.0        1.0    1.0            0.0      0.0     0.0   \n",
              "789     2.0    1.0    1.0        1.0    0.0            1.0      1.0     1.0   \n",
              "\n",
              "      не    в  ...    emb290    emb291    emb292    emb293    emb294  \\\n",
              "0    0.0  0.0  ... -0.045460 -0.068559 -0.030959 -0.024467  0.020314   \n",
              "1    0.0  0.0  ...  0.023849  0.004964  0.004210  0.050953  0.010695   \n",
              "2    0.0  0.0  ...  0.018695  0.035979  0.014072  0.185444  0.085146   \n",
              "3    0.0  0.0  ...  0.168371 -0.030380  0.173095  0.079510  0.072834   \n",
              "4    0.0  0.0  ... -0.000745 -0.037812 -0.077435  0.020428  0.090344   \n",
              "..   ...  ...  ...       ...       ...       ...       ...       ...   \n",
              "785  0.0  0.0  ...  0.154474 -0.137270 -0.021424 -0.035891  0.006573   \n",
              "786  0.0  0.0  ... -0.028848  0.011739 -0.019917  0.021451  0.030988   \n",
              "787  0.0  0.0  ... -0.006594  0.011808 -0.030605  0.022256  0.115727   \n",
              "788  0.0  0.0  ... -0.014980 -0.041963 -0.014230  0.046424  0.181378   \n",
              "789  0.0  0.0  ... -0.162577 -0.027895  0.007568  0.119121  0.063961   \n",
              "\n",
              "       emb295    emb296    emb297    emb298    emb299  \n",
              "0   -0.160923 -0.069225 -0.175035 -0.037439  0.052298  \n",
              "1   -0.221054 -0.108816 -0.237614 -0.106503  0.132935  \n",
              "2   -0.171517 -0.039567 -0.111265 -0.070034  0.120835  \n",
              "3   -0.106007 -0.105059 -0.023677  0.091557  0.194914  \n",
              "4   -0.214100 -0.011916 -0.180986 -0.074604  0.145378  \n",
              "..        ...       ...       ...       ...       ...  \n",
              "785 -0.109320 -0.134124 -0.290725  0.053059  0.115337  \n",
              "786 -0.140008 -0.129000 -0.185136 -0.164137  0.114840  \n",
              "787 -0.115152 -0.057741 -0.201017 -0.017311  0.140642  \n",
              "788 -0.206884 -0.046992 -0.214419 -0.030889  0.142722  \n",
              "789 -0.102207 -0.044354 -0.271373 -0.017173  0.075831  \n",
              "\n",
              "[790 rows x 801 columns]"
            ],
            "text/html": [
              "\n",
              "  <div id=\"df-ec460aea-d758-4623-b6a5-0f6f31b81b4e\">\n",
              "    <div class=\"colab-df-container\">\n",
              "      <div>\n",
              "<style scoped>\n",
              "    .dataframe tbody tr th:only-of-type {\n",
              "        vertical-align: middle;\n",
              "    }\n",
              "\n",
              "    .dataframe tbody tr th {\n",
              "        vertical-align: top;\n",
              "    }\n",
              "\n",
              "    .dataframe thead th {\n",
              "        text-align: right;\n",
              "    }\n",
              "</style>\n",
              "<table border=\"1\" class=\"dataframe\">\n",
              "  <thead>\n",
              "    <tr style=\"text-align: right;\">\n",
              "      <th></th>\n",
              "      <th>target</th>\n",
              "      <th>поезд</th>\n",
              "      <th>вагон</th>\n",
              "      <th>проводник</th>\n",
              "      <th>очень</th>\n",
              "      <th>благодарность</th>\n",
              "      <th>спасибо</th>\n",
              "      <th>хотеть</th>\n",
              "      <th>не</th>\n",
              "      <th>в</th>\n",
              "      <th>...</th>\n",
              "      <th>emb290</th>\n",
              "      <th>emb291</th>\n",
              "      <th>emb292</th>\n",
              "      <th>emb293</th>\n",
              "      <th>emb294</th>\n",
              "      <th>emb295</th>\n",
              "      <th>emb296</th>\n",
              "      <th>emb297</th>\n",
              "      <th>emb298</th>\n",
              "      <th>emb299</th>\n",
              "    </tr>\n",
              "  </thead>\n",
              "  <tbody>\n",
              "    <tr>\n",
              "      <th>0</th>\n",
              "      <td>0.0</td>\n",
              "      <td>0.0</td>\n",
              "      <td>0.0</td>\n",
              "      <td>0.0</td>\n",
              "      <td>0.0</td>\n",
              "      <td>1.0</td>\n",
              "      <td>0.0</td>\n",
              "      <td>1.0</td>\n",
              "      <td>0.0</td>\n",
              "      <td>0.0</td>\n",
              "      <td>...</td>\n",
              "      <td>-0.045460</td>\n",
              "      <td>-0.068559</td>\n",
              "      <td>-0.030959</td>\n",
              "      <td>-0.024467</td>\n",
              "      <td>0.020314</td>\n",
              "      <td>-0.160923</td>\n",
              "      <td>-0.069225</td>\n",
              "      <td>-0.175035</td>\n",
              "      <td>-0.037439</td>\n",
              "      <td>0.052298</td>\n",
              "    </tr>\n",
              "    <tr>\n",
              "      <th>1</th>\n",
              "      <td>2.0</td>\n",
              "      <td>0.0</td>\n",
              "      <td>0.0</td>\n",
              "      <td>0.0</td>\n",
              "      <td>0.0</td>\n",
              "      <td>1.0</td>\n",
              "      <td>0.0</td>\n",
              "      <td>1.0</td>\n",
              "      <td>0.0</td>\n",
              "      <td>0.0</td>\n",
              "      <td>...</td>\n",
              "      <td>0.023849</td>\n",
              "      <td>0.004964</td>\n",
              "      <td>0.004210</td>\n",
              "      <td>0.050953</td>\n",
              "      <td>0.010695</td>\n",
              "      <td>-0.221054</td>\n",
              "      <td>-0.108816</td>\n",
              "      <td>-0.237614</td>\n",
              "      <td>-0.106503</td>\n",
              "      <td>0.132935</td>\n",
              "    </tr>\n",
              "    <tr>\n",
              "      <th>2</th>\n",
              "      <td>2.0</td>\n",
              "      <td>0.0</td>\n",
              "      <td>0.0</td>\n",
              "      <td>0.0</td>\n",
              "      <td>0.0</td>\n",
              "      <td>0.0</td>\n",
              "      <td>0.0</td>\n",
              "      <td>0.0</td>\n",
              "      <td>0.0</td>\n",
              "      <td>0.0</td>\n",
              "      <td>...</td>\n",
              "      <td>0.018695</td>\n",
              "      <td>0.035979</td>\n",
              "      <td>0.014072</td>\n",
              "      <td>0.185444</td>\n",
              "      <td>0.085146</td>\n",
              "      <td>-0.171517</td>\n",
              "      <td>-0.039567</td>\n",
              "      <td>-0.111265</td>\n",
              "      <td>-0.070034</td>\n",
              "      <td>0.120835</td>\n",
              "    </tr>\n",
              "    <tr>\n",
              "      <th>3</th>\n",
              "      <td>2.0</td>\n",
              "      <td>0.0</td>\n",
              "      <td>0.0</td>\n",
              "      <td>0.0</td>\n",
              "      <td>1.0</td>\n",
              "      <td>0.0</td>\n",
              "      <td>0.0</td>\n",
              "      <td>0.0</td>\n",
              "      <td>0.0</td>\n",
              "      <td>0.0</td>\n",
              "      <td>...</td>\n",
              "      <td>0.168371</td>\n",
              "      <td>-0.030380</td>\n",
              "      <td>0.173095</td>\n",
              "      <td>0.079510</td>\n",
              "      <td>0.072834</td>\n",
              "      <td>-0.106007</td>\n",
              "      <td>-0.105059</td>\n",
              "      <td>-0.023677</td>\n",
              "      <td>0.091557</td>\n",
              "      <td>0.194914</td>\n",
              "    </tr>\n",
              "    <tr>\n",
              "      <th>4</th>\n",
              "      <td>0.0</td>\n",
              "      <td>1.0</td>\n",
              "      <td>1.0</td>\n",
              "      <td>1.0</td>\n",
              "      <td>1.0</td>\n",
              "      <td>0.0</td>\n",
              "      <td>0.0</td>\n",
              "      <td>0.0</td>\n",
              "      <td>0.0</td>\n",
              "      <td>0.0</td>\n",
              "      <td>...</td>\n",
              "      <td>-0.000745</td>\n",
              "      <td>-0.037812</td>\n",
              "      <td>-0.077435</td>\n",
              "      <td>0.020428</td>\n",
              "      <td>0.090344</td>\n",
              "      <td>-0.214100</td>\n",
              "      <td>-0.011916</td>\n",
              "      <td>-0.180986</td>\n",
              "      <td>-0.074604</td>\n",
              "      <td>0.145378</td>\n",
              "    </tr>\n",
              "    <tr>\n",
              "      <th>...</th>\n",
              "      <td>...</td>\n",
              "      <td>...</td>\n",
              "      <td>...</td>\n",
              "      <td>...</td>\n",
              "      <td>...</td>\n",
              "      <td>...</td>\n",
              "      <td>...</td>\n",
              "      <td>...</td>\n",
              "      <td>...</td>\n",
              "      <td>...</td>\n",
              "      <td>...</td>\n",
              "      <td>...</td>\n",
              "      <td>...</td>\n",
              "      <td>...</td>\n",
              "      <td>...</td>\n",
              "      <td>...</td>\n",
              "      <td>...</td>\n",
              "      <td>...</td>\n",
              "      <td>...</td>\n",
              "      <td>...</td>\n",
              "      <td>...</td>\n",
              "    </tr>\n",
              "    <tr>\n",
              "      <th>785</th>\n",
              "      <td>0.0</td>\n",
              "      <td>1.0</td>\n",
              "      <td>1.0</td>\n",
              "      <td>0.0</td>\n",
              "      <td>0.0</td>\n",
              "      <td>0.0</td>\n",
              "      <td>0.0</td>\n",
              "      <td>0.0</td>\n",
              "      <td>0.0</td>\n",
              "      <td>0.0</td>\n",
              "      <td>...</td>\n",
              "      <td>0.154474</td>\n",
              "      <td>-0.137270</td>\n",
              "      <td>-0.021424</td>\n",
              "      <td>-0.035891</td>\n",
              "      <td>0.006573</td>\n",
              "      <td>-0.109320</td>\n",
              "      <td>-0.134124</td>\n",
              "      <td>-0.290725</td>\n",
              "      <td>0.053059</td>\n",
              "      <td>0.115337</td>\n",
              "    </tr>\n",
              "    <tr>\n",
              "      <th>786</th>\n",
              "      <td>0.0</td>\n",
              "      <td>0.0</td>\n",
              "      <td>0.0</td>\n",
              "      <td>0.0</td>\n",
              "      <td>0.0</td>\n",
              "      <td>0.0</td>\n",
              "      <td>0.0</td>\n",
              "      <td>0.0</td>\n",
              "      <td>0.0</td>\n",
              "      <td>0.0</td>\n",
              "      <td>...</td>\n",
              "      <td>-0.028848</td>\n",
              "      <td>0.011739</td>\n",
              "      <td>-0.019917</td>\n",
              "      <td>0.021451</td>\n",
              "      <td>0.030988</td>\n",
              "      <td>-0.140008</td>\n",
              "      <td>-0.129000</td>\n",
              "      <td>-0.185136</td>\n",
              "      <td>-0.164137</td>\n",
              "      <td>0.114840</td>\n",
              "    </tr>\n",
              "    <tr>\n",
              "      <th>787</th>\n",
              "      <td>0.0</td>\n",
              "      <td>1.0</td>\n",
              "      <td>0.0</td>\n",
              "      <td>0.0</td>\n",
              "      <td>0.0</td>\n",
              "      <td>0.0</td>\n",
              "      <td>0.0</td>\n",
              "      <td>0.0</td>\n",
              "      <td>0.0</td>\n",
              "      <td>0.0</td>\n",
              "      <td>...</td>\n",
              "      <td>-0.006594</td>\n",
              "      <td>0.011808</td>\n",
              "      <td>-0.030605</td>\n",
              "      <td>0.022256</td>\n",
              "      <td>0.115727</td>\n",
              "      <td>-0.115152</td>\n",
              "      <td>-0.057741</td>\n",
              "      <td>-0.201017</td>\n",
              "      <td>-0.017311</td>\n",
              "      <td>0.140642</td>\n",
              "    </tr>\n",
              "    <tr>\n",
              "      <th>788</th>\n",
              "      <td>2.0</td>\n",
              "      <td>1.0</td>\n",
              "      <td>0.0</td>\n",
              "      <td>1.0</td>\n",
              "      <td>1.0</td>\n",
              "      <td>0.0</td>\n",
              "      <td>0.0</td>\n",
              "      <td>0.0</td>\n",
              "      <td>0.0</td>\n",
              "      <td>0.0</td>\n",
              "      <td>...</td>\n",
              "      <td>-0.014980</td>\n",
              "      <td>-0.041963</td>\n",
              "      <td>-0.014230</td>\n",
              "      <td>0.046424</td>\n",
              "      <td>0.181378</td>\n",
              "      <td>-0.206884</td>\n",
              "      <td>-0.046992</td>\n",
              "      <td>-0.214419</td>\n",
              "      <td>-0.030889</td>\n",
              "      <td>0.142722</td>\n",
              "    </tr>\n",
              "    <tr>\n",
              "      <th>789</th>\n",
              "      <td>2.0</td>\n",
              "      <td>1.0</td>\n",
              "      <td>1.0</td>\n",
              "      <td>1.0</td>\n",
              "      <td>0.0</td>\n",
              "      <td>1.0</td>\n",
              "      <td>1.0</td>\n",
              "      <td>1.0</td>\n",
              "      <td>0.0</td>\n",
              "      <td>0.0</td>\n",
              "      <td>...</td>\n",
              "      <td>-0.162577</td>\n",
              "      <td>-0.027895</td>\n",
              "      <td>0.007568</td>\n",
              "      <td>0.119121</td>\n",
              "      <td>0.063961</td>\n",
              "      <td>-0.102207</td>\n",
              "      <td>-0.044354</td>\n",
              "      <td>-0.271373</td>\n",
              "      <td>-0.017173</td>\n",
              "      <td>0.075831</td>\n",
              "    </tr>\n",
              "  </tbody>\n",
              "</table>\n",
              "<p>790 rows × 801 columns</p>\n",
              "</div>\n",
              "      <button class=\"colab-df-convert\" onclick=\"convertToInteractive('df-ec460aea-d758-4623-b6a5-0f6f31b81b4e')\"\n",
              "              title=\"Convert this dataframe to an interactive table.\"\n",
              "              style=\"display:none;\">\n",
              "        \n",
              "  <svg xmlns=\"http://www.w3.org/2000/svg\" height=\"24px\"viewBox=\"0 0 24 24\"\n",
              "       width=\"24px\">\n",
              "    <path d=\"M0 0h24v24H0V0z\" fill=\"none\"/>\n",
              "    <path d=\"M18.56 5.44l.94 2.06.94-2.06 2.06-.94-2.06-.94-.94-2.06-.94 2.06-2.06.94zm-11 1L8.5 8.5l.94-2.06 2.06-.94-2.06-.94L8.5 2.5l-.94 2.06-2.06.94zm10 10l.94 2.06.94-2.06 2.06-.94-2.06-.94-.94-2.06-.94 2.06-2.06.94z\"/><path d=\"M17.41 7.96l-1.37-1.37c-.4-.4-.92-.59-1.43-.59-.52 0-1.04.2-1.43.59L10.3 9.45l-7.72 7.72c-.78.78-.78 2.05 0 2.83L4 21.41c.39.39.9.59 1.41.59.51 0 1.02-.2 1.41-.59l7.78-7.78 2.81-2.81c.8-.78.8-2.07 0-2.86zM5.41 20L4 18.59l7.72-7.72 1.47 1.35L5.41 20z\"/>\n",
              "  </svg>\n",
              "      </button>\n",
              "      \n",
              "  <style>\n",
              "    .colab-df-container {\n",
              "      display:flex;\n",
              "      flex-wrap:wrap;\n",
              "      gap: 12px;\n",
              "    }\n",
              "\n",
              "    .colab-df-convert {\n",
              "      background-color: #E8F0FE;\n",
              "      border: none;\n",
              "      border-radius: 50%;\n",
              "      cursor: pointer;\n",
              "      display: none;\n",
              "      fill: #1967D2;\n",
              "      height: 32px;\n",
              "      padding: 0 0 0 0;\n",
              "      width: 32px;\n",
              "    }\n",
              "\n",
              "    .colab-df-convert:hover {\n",
              "      background-color: #E2EBFA;\n",
              "      box-shadow: 0px 1px 2px rgba(60, 64, 67, 0.3), 0px 1px 3px 1px rgba(60, 64, 67, 0.15);\n",
              "      fill: #174EA6;\n",
              "    }\n",
              "\n",
              "    [theme=dark] .colab-df-convert {\n",
              "      background-color: #3B4455;\n",
              "      fill: #D2E3FC;\n",
              "    }\n",
              "\n",
              "    [theme=dark] .colab-df-convert:hover {\n",
              "      background-color: #434B5C;\n",
              "      box-shadow: 0px 1px 3px 1px rgba(0, 0, 0, 0.15);\n",
              "      filter: drop-shadow(0px 1px 2px rgba(0, 0, 0, 0.3));\n",
              "      fill: #FFFFFF;\n",
              "    }\n",
              "  </style>\n",
              "\n",
              "      <script>\n",
              "        const buttonEl =\n",
              "          document.querySelector('#df-ec460aea-d758-4623-b6a5-0f6f31b81b4e button.colab-df-convert');\n",
              "        buttonEl.style.display =\n",
              "          google.colab.kernel.accessAllowed ? 'block' : 'none';\n",
              "\n",
              "        async function convertToInteractive(key) {\n",
              "          const element = document.querySelector('#df-ec460aea-d758-4623-b6a5-0f6f31b81b4e');\n",
              "          const dataTable =\n",
              "            await google.colab.kernel.invokeFunction('convertToInteractive',\n",
              "                                                     [key], {});\n",
              "          if (!dataTable) return;\n",
              "\n",
              "          const docLinkHtml = 'Like what you see? Visit the ' +\n",
              "            '<a target=\"_blank\" href=https://colab.research.google.com/notebooks/data_table.ipynb>data table notebook</a>'\n",
              "            + ' to learn more about interactive tables.';\n",
              "          element.innerHTML = '';\n",
              "          dataTable['output_type'] = 'display_data';\n",
              "          await google.colab.output.renderOutput(dataTable, element);\n",
              "          const docLink = document.createElement('div');\n",
              "          docLink.innerHTML = docLinkHtml;\n",
              "          element.appendChild(docLink);\n",
              "        }\n",
              "      </script>\n",
              "    </div>\n",
              "  </div>\n",
              "  "
            ]
          },
          "metadata": {},
          "execution_count": 22
        }
      ],
      "source": [
        "columns = ['target']\n",
        "columns.extend(all_words)\n",
        "for i in range(300):\n",
        "    columns.append('emb'+ str(i))\n",
        "score_df = pd.DataFrame(columns = columns)\n",
        "for row in tqdm(df.iterrows()):\n",
        "    text = row[1]['text']\n",
        "    doc = nlp(text)\n",
        "    lemmas = [i.lemma_ for i in doc if i.pos_ in ['VERB', 'NOUN', 'ADV', 'ADJ']]\n",
        "    embedding = get_embeddings(doc)\n",
        "    one_hot_text = [1 if i in lemmas else 0 for i in all_words]\n",
        "    numeric = [row[1]['label']]\n",
        "    numeric.extend(one_hot_text)\n",
        "    numeric.extend(embedding)\n",
        "    score_df.loc[len(score_df)] = numeric\n",
        "\n",
        "score_df"
      ]
    },
    {
      "cell_type": "code",
      "execution_count": null,
      "id": "aaaf7c2e",
      "metadata": {
        "scrolled": true,
        "colab": {
          "base_uri": "https://localhost:8080/"
        },
        "id": "aaaf7c2e",
        "outputId": "9c983219-8e8f-444f-d219-05bacd6f2b19"
      },
      "outputs": [
        {
          "output_type": "execute_result",
          "data": {
            "text/plain": [
              "Counter({0.0: 315, 2.0: 420, 1.0: 55})"
            ]
          },
          "metadata": {},
          "execution_count": 23
        }
      ],
      "source": [
        "label = score_df['target']\n",
        "data = score_df.drop(columns=['target'])\n",
        "train_x, test_x, train_y, test_y = train_test_split(data, label, test_size=0.2, random_state=42)\n",
        "Counter(label)"
      ]
    },
    {
      "cell_type": "code",
      "execution_count": null,
      "id": "c9ba2c50",
      "metadata": {
        "colab": {
          "base_uri": "https://localhost:8080/",
          "height": 281
        },
        "id": "c9ba2c50",
        "outputId": "e0f81f81-c890-4432-8110-714513a6e0fd"
      },
      "outputs": [
        {
          "output_type": "display_data",
          "data": {
            "text/plain": [
              "<Figure size 432x288 with 1 Axes>"
            ],
            "image/png": "[encoded data removed]"
          },
          "metadata": {
            "needs_background": "light"
          }
        }
      ],
      "source": [
        "pca = PCA(n_components=2)\n",
        "d2 = pca.fit_transform(data)\n",
        "color_palette = sns.color_palette('rainbow', 12)\n",
        "\n",
        "plt.scatter(\n",
        "    d2[:, 0],\n",
        "    d2[:, 1],\n",
        "    c= [color_palette[int(x) * 5] for x in label])\n",
        "plt.title('PCA projection', fontsize=12)\n",
        "plt.show()"
      ]
    },
    {
      "cell_type": "code",
      "execution_count": null,
      "id": "a32f015c",
      "metadata": {
        "id": "a32f015c",
        "colab": {
          "base_uri": "https://localhost:8080/",
          "height": 281
        },
        "outputId": "56eee009-d075-45de-9d8b-488b3c2244ae"
      },
      "outputs": [
        {
          "output_type": "display_data",
          "data": {
            "text/plain": [
              "<Figure size 432x288 with 1 Axes>"
            ],
            "image/png": "[encoded data removed]"
          },
          "metadata": {
            "needs_background": "light"
          }
        }
      ],
      "source": [
        "oversample = SMOTE()\n",
        "oversample_x, oversample_y = oversample.fit_resample(train_x, train_y)\n",
        "\n",
        "pca = PCA(n_components=2)\n",
        "d2 = pca.fit_transform(oversample_x)\n",
        "color_palette = sns.color_palette('rainbow', 12)\n",
        "\n",
        "plt.scatter(\n",
        "    d2[:, 0],\n",
        "    d2[:, 1],\n",
        "    c= [color_palette[int(x) * 5] for x in oversample_y])\n",
        "plt.title('PCA oversample projection', fontsize=12)\n",
        "plt.show()"
      ]
    },
    {
      "cell_type": "code",
      "source": [
        "model = tf.keras.Sequential()\n",
        "model.add(tf.keras.layers.Input(train_x.shape[1]))\n",
        "model.add(tf.keras.layers.Dense(128, activation = 'relu'))\n",
        "model.add(tf.keras.layers.Dense(64, activation = 'relu'))\n",
        "model.add(tf.keras.layers.Dropout(.2))\n",
        "model.add(tf.keras.layers.Dense(3, activation = 'softmax'))\n",
        "model.compile(loss='sparse_categorical_crossentropy',\n",
        "              optimizer = 'adam',\n",
        "              metrics = ['accuracy'])\n",
        "model.summary()"
      ],
      "metadata": {
        "colab": {
          "base_uri": "https://localhost:8080/"
        },
        "id": "z3PYPj6vnELb",
        "outputId": "13090a67-346f-4503-ce9e-663e68381c9f"
      },
      "id": "z3PYPj6vnELb",
      "execution_count": null,
      "outputs": [
        {
          "output_type": "stream",
          "name": "stdout",
          "text": [
            "Model: \"sequential_2\"\n",
            "_________________________________________________________________\n",
            " Layer (type)                Output Shape              Param #   \n",
            "=================================================================\n",
            " dense_6 (Dense)             (None, 128)               102528    \n",
            "                                                                 \n",
            " dense_7 (Dense)             (None, 64)                8256      \n",
            "                                                                 \n",
            " dropout_1 (Dropout)         (None, 64)                0         \n",
            "                                                                 \n",
            " dense_8 (Dense)             (None, 3)                 195       \n",
            "                                                                 \n",
            "=================================================================\n",
            "Total params: 110,979\n",
            "Trainable params: 110,979\n",
            "Non-trainable params: 0\n",
            "_________________________________________________________________\n"
          ]
        }
      ]
    },
    {
      "cell_type": "code",
      "source": [
        "model.fit(train_x, train_y, epochs=5, batch_size=32)"
      ],
      "metadata": {
        "colab": {
          "base_uri": "https://localhost:8080/"
        },
        "id": "FSuEo9y5nsEr",
        "outputId": "e5082ba1-c7a6-4b83-c3e8-092011bb188e"
      },
      "id": "FSuEo9y5nsEr",
      "execution_count": null,
      "outputs": [
        {
          "output_type": "stream",
          "name": "stdout",
          "text": [
            "Epoch 1/5\n",
            "20/20 [==============================] - 1s 4ms/step - loss: 0.7874 - accuracy: 0.6867\n",
            "Epoch 2/5\n",
            "20/20 [==============================] - 0s 4ms/step - loss: 0.4887 - accuracy: 0.8386\n",
            "Epoch 3/5\n",
            "20/20 [==============================] - 0s 3ms/step - loss: 0.3994 - accuracy: 0.8639\n",
            "Epoch 4/5\n",
            "20/20 [==============================] - 0s 4ms/step - loss: 0.3181 - accuracy: 0.8892\n",
            "Epoch 5/5\n",
            "20/20 [==============================] - 0s 3ms/step - loss: 0.2547 - accuracy: 0.9114\n"
          ]
        },
        {
          "output_type": "execute_result",
          "data": {
            "text/plain": [
              "<keras.callbacks.History at 0x7f2ef94d0c10>"
            ]
          },
          "metadata": {},
          "execution_count": 52
        }
      ]
    },
    {
      "cell_type": "code",
      "source": [
        "pred_y = model.predict(test_x)\n",
        "prediction = np.argmax(pred_y, axis=1)"
      ],
      "metadata": {
        "colab": {
          "base_uri": "https://localhost:8080/"
        },
        "id": "v_Y54psGn6Mv",
        "outputId": "79f1f39b-fbd1-426c-c193-a476d05f7576"
      },
      "id": "v_Y54psGn6Mv",
      "execution_count": null,
      "outputs": [
        {
          "output_type": "stream",
          "name": "stdout",
          "text": [
            "5/5 [==============================] - 0s 3ms/step\n"
          ]
        }
      ]
    },
    {
      "cell_type": "code",
      "source": [
        "print(classification_report(test_y, prediction))"
      ],
      "metadata": {
        "colab": {
          "base_uri": "https://localhost:8080/"
        },
        "id": "wQKKy0cWn9Od",
        "outputId": "782e049b-0992-4073-b97f-58178333937c"
      },
      "id": "wQKKy0cWn9Od",
      "execution_count": null,
      "outputs": [
        {
          "output_type": "stream",
          "name": "stdout",
          "text": [
            "              precision    recall  f1-score   support\n",
            "\n",
            "         0.0       0.79      0.82      0.81        61\n",
            "         1.0       1.00      0.20      0.33        15\n",
            "         2.0       0.84      0.94      0.89        82\n",
            "\n",
            "    accuracy                           0.82       158\n",
            "   macro avg       0.88      0.65      0.67       158\n",
            "weighted avg       0.84      0.82      0.80       158\n",
            "\n"
          ]
        }
      ]
    },
    {
      "cell_type": "code",
      "source": [
        "sns.heatmap(confusion_matrix(test_y, prediction), annot=True)"
      ],
      "metadata": {
        "colab": {
          "base_uri": "https://localhost:8080/",
          "height": 282
        },
        "id": "h7cvYrqooJjN",
        "outputId": "19256d96-b0b6-49df-860d-9916d1826820"
      },
      "id": "h7cvYrqooJjN",
      "execution_count": null,
      "outputs": [
        {
          "output_type": "execute_result",
          "data": {
            "text/plain": [
              "<matplotlib.axes._subplots.AxesSubplot at 0x7f2f03c2d850>"
            ]
          },
          "metadata": {},
          "execution_count": 30
        },
        {
          "output_type": "display_data",
          "data": {
            "text/plain": [
              "<Figure size 432x288 with 2 Axes>"
            ],
            "image/png": "[encoded data removed]"
          },
          "metadata": {
            "needs_background": "light"
          }
        }
      ]
    },
    {
      "cell_type": "code",
      "execution_count": null,
      "id": "b0cb1b20",
      "metadata": {
        "id": "b0cb1b20"
      },
      "outputs": [],
      "source": [
        "embedding_start_index = 300\n",
        "train_emb = train_x.iloc[:,embedding_start_index:]\n",
        "train_oh = train_x.iloc[:,:embedding_start_index]\n",
        "test_emb = test_x.iloc[:,embedding_start_index:]\n",
        "test_oh = test_x.iloc[:,:embedding_start_index]"
      ]
    },
    {
      "cell_type": "code",
      "execution_count": null,
      "id": "7ebe6cdd",
      "metadata": {
        "colab": {
          "base_uri": "https://localhost:8080/"
        },
        "id": "7ebe6cdd",
        "outputId": "5fb25356-8ee9-4b90-a14e-3b5c4a8661a0"
      },
      "outputs": [
        {
          "output_type": "execute_result",
          "data": {
            "text/plain": [
              "((158, 500), (632, 300))"
            ]
          },
          "metadata": {},
          "execution_count": 32
        }
      ],
      "source": [
        "test_emb.shape, train_oh.shape"
      ]
    },
    {
      "cell_type": "code",
      "execution_count": null,
      "id": "db4ce240",
      "metadata": {
        "id": "db4ce240",
        "colab": {
          "base_uri": "https://localhost:8080/"
        },
        "outputId": "535fa61a-76df-4f51-ef84-1313b06eb445"
      },
      "outputs": [
        {
          "output_type": "stream",
          "name": "stdout",
          "text": [
            "Model: \"model_1\"\n",
            "__________________________________________________________________________________________________\n",
            " Layer (type)                   Output Shape         Param #     Connected to                     \n",
            "==================================================================================================\n",
            " embedding (InputLayer)         [(None, 500)]        0           []                               \n",
            "                                                                                                  \n",
            " one_hot (InputLayer)           [(None, 300)]        0           []                               \n",
            "                                                                                                  \n",
            " embeddings_hidden (Dense)      (None, 64)           32064       ['embedding[0][0]']              \n",
            "                                                                                                  \n",
            " one_hot_hidden (Dense)         (None, 64)           19264       ['one_hot[0][0]']                \n",
            "                                                                                                  \n",
            " conc (Concatenate)             (None, 128)          0           ['embeddings_hidden[0][0]',      \n",
            "                                                                  'one_hot_hidden[0][0]']         \n",
            "                                                                                                  \n",
            " all_hidden (Dense)             (None, 64)           8256        ['conc[0][0]']                   \n",
            "                                                                                                  \n",
            " dropout (Dropout)              (None, 64)           0           ['all_hidden[0][0]']             \n",
            "                                                                                                  \n",
            " out (Dense)                    (None, 3)            195         ['dropout[0][0]']                \n",
            "                                                                                                  \n",
            "==================================================================================================\n",
            "Total params: 59,779\n",
            "Trainable params: 59,779\n",
            "Non-trainable params: 0\n",
            "__________________________________________________________________________________________________\n"
          ]
        }
      ],
      "source": [
        "one_hot_in = tf.keras.Input(shape=(train_oh.shape[1],), name='one_hot')\n",
        "one_hot_hidden = keras.layers.Dense(64, name='one_hot_hidden')(one_hot_in)\n",
        "\n",
        "embeddings_in = keras.Input(shape=(train_emb.shape[1],), name='embedding')\n",
        "embeddings_hidden = keras.layers.Dense(64, name='embeddings_hidden')(embeddings_in)\n",
        "\n",
        "\n",
        "conc = keras.layers.concatenate([embeddings_hidden, one_hot_hidden], name='conc')\n",
        "conc_hidden = keras.layers.Dense(64, name='all_hidden')(conc)\n",
        "conc_dropout = keras.layers.Dropout(.2, name='dropout')(conc_hidden)\n",
        "final = keras.layers.Dense(3, name='out', activation = 'softmax')(conc_dropout)\n",
        "\n",
        "model_v2 = keras.Model(\n",
        "    inputs=[one_hot_in, embeddings_in],\n",
        "    outputs=[final],\n",
        ")\n",
        "model_v2.summary()"
      ]
    },
    {
      "cell_type": "code",
      "execution_count": null,
      "id": "b3bd087b",
      "metadata": {
        "id": "b3bd087b"
      },
      "outputs": [],
      "source": [
        "model_v2.compile(\n",
        "    optimizer= 'adam',\n",
        "    loss=[\n",
        "        keras.losses.SparseCategoricalCrossentropy(from_logits=True),\n",
        "    ],\n",
        "    metrics = ['accuracy']\n",
        ")"
      ]
    },
    {
      "cell_type": "code",
      "execution_count": null,
      "id": "afe470c7",
      "metadata": {
        "scrolled": true,
        "colab": {
          "base_uri": "https://localhost:8080/",
          "height": 644
        },
        "id": "afe470c7",
        "outputId": "ed344069-e299-496b-f5ba-522571c469cd"
      },
      "outputs": [
        {
          "output_type": "execute_result",
          "data": {
            "image/png": "[encoded data removed]",
            "text/plain": [
              "<IPython.core.display.Image object>"
            ]
          },
          "metadata": {},
          "execution_count": 57
        }
      ],
      "source": [
        "keras.utils.plot_model(model_v2, show_shapes=True)"
      ]
    },
    {
      "cell_type": "code",
      "execution_count": null,
      "id": "2611b5a1",
      "metadata": {
        "scrolled": false,
        "colab": {
          "base_uri": "https://localhost:8080/"
        },
        "id": "2611b5a1",
        "outputId": "d48f92ab-3a7c-4649-c5d7-2179befe3bd5"
      },
      "outputs": [
        {
          "output_type": "stream",
          "name": "stdout",
          "text": [
            "Epoch 1/5\n"
          ]
        },
        {
          "output_type": "stream",
          "name": "stderr",
          "text": [
            "/usr/local/lib/python3.7/dist-packages/tensorflow/python/util/dispatch.py:1082: UserWarning: \"`sparse_categorical_crossentropy` received `from_logits=True`, but the `output` argument was produced by a sigmoid or softmax activation and thus does not represent logits. Was this intended?\"\n",
            "  return dispatch_target(*args, **kwargs)\n"
          ]
        },
        {
          "output_type": "stream",
          "name": "stdout",
          "text": [
            "20/20 [==============================] - 1s 3ms/step - loss: 0.7842 - accuracy: 0.6614\n",
            "Epoch 2/5\n",
            "20/20 [==============================] - 0s 3ms/step - loss: 0.4867 - accuracy: 0.8354\n",
            "Epoch 3/5\n",
            "20/20 [==============================] - 0s 3ms/step - loss: 0.4188 - accuracy: 0.8576\n",
            "Epoch 4/5\n",
            "20/20 [==============================] - 0s 3ms/step - loss: 0.3432 - accuracy: 0.8734\n",
            "Epoch 5/5\n",
            "20/20 [==============================] - 0s 3ms/step - loss: 0.2917 - accuracy: 0.8987\n"
          ]
        },
        {
          "output_type": "execute_result",
          "data": {
            "text/plain": [
              "<keras.callbacks.History at 0x7f2ef9389450>"
            ]
          },
          "metadata": {},
          "execution_count": 58
        }
      ],
      "source": [
        "model_v2.fit({'one_hot': train_oh, 'embedding': train_emb}, {'out': train_y}, epochs=5)"
      ]
    },
    {
      "cell_type": "code",
      "execution_count": null,
      "id": "54a11fcf",
      "metadata": {
        "colab": {
          "base_uri": "https://localhost:8080/"
        },
        "id": "54a11fcf",
        "outputId": "c5f35a82-2001-4be6-d5b8-408765f85d7c"
      },
      "outputs": [
        {
          "output_type": "stream",
          "name": "stdout",
          "text": [
            "5/5 [==============================] - 0s 3ms/step\n"
          ]
        }
      ],
      "source": [
        "res = model_v2.predict({'one_hot': test_oh, 'embedding': test_emb})\n",
        "for i, el in enumerate(res):\n",
        "    res[i] = np.argmax(el)\n",
        "res = res[:,0]"
      ]
    },
    {
      "cell_type": "code",
      "execution_count": null,
      "id": "8f6e634b",
      "metadata": {
        "colab": {
          "base_uri": "https://localhost:8080/",
          "height": 282
        },
        "id": "8f6e634b",
        "outputId": "c1be7f14-3767-4adf-a941-b60df15bda5f"
      },
      "outputs": [
        {
          "output_type": "execute_result",
          "data": {
            "text/plain": [
              "<matplotlib.axes._subplots.AxesSubplot at 0x7f2ef93387d0>"
            ]
          },
          "metadata": {},
          "execution_count": 60
        },
        {
          "output_type": "display_data",
          "data": {
            "text/plain": [
              "<Figure size 432x288 with 2 Axes>"
            ],
            "image/png": "[encoded data removed]"
          },
          "metadata": {
            "needs_background": "light"
          }
        }
      ],
      "source": [
        "sns.heatmap(confusion_matrix(test_y, res), annot=True)"
      ]
    },
    {
      "cell_type": "code",
      "execution_count": null,
      "id": "d798a69c",
      "metadata": {
        "colab": {
          "base_uri": "https://localhost:8080/"
        },
        "id": "d798a69c",
        "outputId": "5158f9f8-65b2-4c57-cc0d-d6d154e49397"
      },
      "outputs": [
        {
          "output_type": "stream",
          "name": "stdout",
          "text": [
            "              precision    recall  f1-score   support\n",
            "\n",
            "         0.0       0.75      0.89      0.81        61\n",
            "         1.0       1.00      0.20      0.33        15\n",
            "         2.0       0.89      0.90      0.90        82\n",
            "\n",
            "    accuracy                           0.83       158\n",
            "   macro avg       0.88      0.66      0.68       158\n",
            "weighted avg       0.85      0.83      0.81       158\n",
            "\n"
          ]
        }
      ],
      "source": [
        "print(classification_report(test_y, res)) # functional API (60K params)"
      ]
    },
    {
      "cell_type": "code",
      "execution_count": null,
      "id": "46167da4",
      "metadata": {
        "id": "46167da4",
        "colab": {
          "base_uri": "https://localhost:8080/"
        },
        "outputId": "5f47431e-84f7-419d-a513-ea6a046b670c"
      },
      "outputs": [
        {
          "output_type": "stream",
          "name": "stdout",
          "text": [
            "              precision    recall  f1-score   support\n",
            "\n",
            "         0.0       0.79      0.82      0.81        61\n",
            "         1.0       1.00      0.20      0.33        15\n",
            "         2.0       0.84      0.94      0.89        82\n",
            "\n",
            "    accuracy                           0.82       158\n",
            "   macro avg       0.88      0.65      0.67       158\n",
            "weighted avg       0.84      0.82      0.80       158\n",
            "\n"
          ]
        }
      ],
      "source": [
        "print(classification_report(test_y, prediction)) # sequential (111K params)"
      ]
    }
  ],
  "metadata": {
    "kernelspec": {
      "display_name": "Python 3 (ipykernel)",
      "language": "python",
      "name": "python3"
    },
    "language_info": {
      "codemirror_mode": {
        "name": "ipython",
        "version": 3
      },
      "file_extension": ".py",
      "mimetype": "text/x-python",
      "name": "python",
      "nbconvert_exporter": "python",
      "pygments_lexer": "ipython3",
      "version": "3.9.7"
    },
    "colab": {
      "provenance": []
    },
    "widgets": {
      "application/vnd.jupyter.widget-state+json": {
        "20c9b30637fc48e9b9475d04de50a3e5": {
          "model_module": "@jupyter-widgets/controls",
          "model_name": "HBoxModel",
          "model_module_version": "1.5.0",
          "state": {
            "_dom_classes": [],
            "_model_module": "@jupyter-widgets/controls",
            "_model_module_version": "1.5.0",
            "_model_name": "HBoxModel",
            "_view_count": null,
            "_view_module": "@jupyter-widgets/controls",
            "_view_module_version": "1.5.0",
            "_view_name": "HBoxView",
            "box_style": "",
            "children": [
              "IPY_MODEL_e7c3cdd7eb7a416f9a3812599f51bc9d",
              "IPY_MODEL_64429380088144ce84163e879f4b7fdb",
              "IPY_MODEL_70377206c7d949f7b1c1919a663fbd7b"
            ],
            "layout": "IPY_MODEL_ff01115e885b4fd1a1c4bf360af78144"
          }
        },
        "e7c3cdd7eb7a416f9a3812599f51bc9d": {
          "model_module": "@jupyter-widgets/controls",
          "model_name": "HTMLModel",
          "model_module_version": "1.5.0",
          "state": {
            "_dom_classes": [],
            "_model_module": "@jupyter-widgets/controls",
            "_model_module_version": "1.5.0",
            "_model_name": "HTMLModel",
            "_view_count": null,
            "_view_module": "@jupyter-widgets/controls",
            "_view_module_version": "1.5.0",
            "_view_name": "HTMLView",
            "description": "",
            "description_tooltip": null,
            "layout": "IPY_MODEL_9a052af2f4b04a5c9d0c1f86edaae1d2",
            "placeholder": "​",
            "style": "IPY_MODEL_83186b37f2bf45cbb32169cd05b421f5",
            "value": ""
          }
        },
        "64429380088144ce84163e879f4b7fdb": {
          "model_module": "@jupyter-widgets/controls",
          "model_name": "FloatProgressModel",
          "model_module_version": "1.5.0",
          "state": {
            "_dom_classes": [],
            "_model_module": "@jupyter-widgets/controls",
            "_model_module_version": "1.5.0",
            "_model_name": "FloatProgressModel",
            "_view_count": null,
            "_view_module": "@jupyter-widgets/controls",
            "_view_module_version": "1.5.0",
            "_view_name": "ProgressView",
            "bar_style": "success",
            "description": "",
            "description_tooltip": null,
            "layout": "IPY_MODEL_19d5f992f04d449280f192298e745498",
            "max": 1,
            "min": 0,
            "orientation": "horizontal",
            "style": "IPY_MODEL_1648056055d5408eba6dbdfa5467eade",
            "value": 1
          }
        },
        "70377206c7d949f7b1c1919a663fbd7b": {
          "model_module": "@jupyter-widgets/controls",
          "model_name": "HTMLModel",
          "model_module_version": "1.5.0",
          "state": {
            "_dom_classes": [],
            "_model_module": "@jupyter-widgets/controls",
            "_model_module_version": "1.5.0",
            "_model_name": "HTMLModel",
            "_view_count": null,
            "_view_module": "@jupyter-widgets/controls",
            "_view_module_version": "1.5.0",
            "_view_name": "HTMLView",
            "description": "",
            "description_tooltip": null,
            "layout": "IPY_MODEL_b2e172fa2cbd4c2cbdba7dadb339e0dd",
            "placeholder": "​",
            "style": "IPY_MODEL_03e27f5f63c54850966d8ee02ef4ec9a",
            "value": " 790/? [01:59&lt;00:00,  3.49it/s]"
          }
        },
        "ff01115e885b4fd1a1c4bf360af78144": {
          "model_module": "@jupyter-widgets/base",
          "model_name": "LayoutModel",
          "model_module_version": "1.2.0",
          "state": {
            "_model_module": "@jupyter-widgets/base",
            "_model_module_version": "1.2.0",
            "_model_name": "LayoutModel",
            "_view_count": null,
            "_view_module": "@jupyter-widgets/base",
            "_view_module_version": "1.2.0",
            "_view_name": "LayoutView",
            "align_content": null,
            "align_items": null,
            "align_self": null,
            "border": null,
            "bottom": null,
            "display": null,
            "flex": null,
            "flex_flow": null,
            "grid_area": null,
            "grid_auto_columns": null,
            "grid_auto_flow": null,
            "grid_auto_rows": null,
            "grid_column": null,
            "grid_gap": null,
            "grid_row": null,
            "grid_template_areas": null,
            "grid_template_columns": null,
            "grid_template_rows": null,
            "height": null,
            "justify_content": null,
            "justify_items": null,
            "left": null,
            "margin": null,
            "max_height": null,
            "max_width": null,
            "min_height": null,
            "min_width": null,
            "object_fit": null,
            "object_position": null,
            "order": null,
            "overflow": null,
            "overflow_x": null,
            "overflow_y": null,
            "padding": null,
            "right": null,
            "top": null,
            "visibility": null,
            "width": null
          }
        },
        "9a052af2f4b04a5c9d0c1f86edaae1d2": {
          "model_module": "@jupyter-widgets/base",
          "model_name": "LayoutModel",
          "model_module_version": "1.2.0",
          "state": {
            "_model_module": "@jupyter-widgets/base",
            "_model_module_version": "1.2.0",
            "_model_name": "LayoutModel",
            "_view_count": null,
            "_view_module": "@jupyter-widgets/base",
            "_view_module_version": "1.2.0",
            "_view_name": "LayoutView",
            "align_content": null,
            "align_items": null,
            "align_self": null,
            "border": null,
            "bottom": null,
            "display": null,
            "flex": null,
            "flex_flow": null,
            "grid_area": null,
            "grid_auto_columns": null,
            "grid_auto_flow": null,
            "grid_auto_rows": null,
            "grid_column": null,
            "grid_gap": null,
            "grid_row": null,
            "grid_template_areas": null,
            "grid_template_columns": null,
            "grid_template_rows": null,
            "height": null,
            "justify_content": null,
            "justify_items": null,
            "left": null,
            "margin": null,
            "max_height": null,
            "max_width": null,
            "min_height": null,
            "min_width": null,
            "object_fit": null,
            "object_position": null,
            "order": null,
            "overflow": null,
            "overflow_x": null,
            "overflow_y": null,
            "padding": null,
            "right": null,
            "top": null,
            "visibility": null,
            "width": null
          }
        },
        "83186b37f2bf45cbb32169cd05b421f5": {
          "model_module": "@jupyter-widgets/controls",
          "model_name": "DescriptionStyleModel",
          "model_module_version": "1.5.0",
          "state": {
            "_model_module": "@jupyter-widgets/controls",
            "_model_module_version": "1.5.0",
            "_model_name": "DescriptionStyleModel",
            "_view_count": null,
            "_view_module": "@jupyter-widgets/base",
            "_view_module_version": "1.2.0",
            "_view_name": "StyleView",
            "description_width": ""
          }
        },
        "19d5f992f04d449280f192298e745498": {
          "model_module": "@jupyter-widgets/base",
          "model_name": "LayoutModel",
          "model_module_version": "1.2.0",
          "state": {
            "_model_module": "@jupyter-widgets/base",
            "_model_module_version": "1.2.0",
            "_model_name": "LayoutModel",
            "_view_count": null,
            "_view_module": "@jupyter-widgets/base",
            "_view_module_version": "1.2.0",
            "_view_name": "LayoutView",
            "align_content": null,
            "align_items": null,
            "align_self": null,
            "border": null,
            "bottom": null,
            "display": null,
            "flex": null,
            "flex_flow": null,
            "grid_area": null,
            "grid_auto_columns": null,
            "grid_auto_flow": null,
            "grid_auto_rows": null,
            "grid_column": null,
            "grid_gap": null,
            "grid_row": null,
            "grid_template_areas": null,
            "grid_template_columns": null,
            "grid_template_rows": null,
            "height": null,
            "justify_content": null,
            "justify_items": null,
            "left": null,
            "margin": null,
            "max_height": null,
            "max_width": null,
            "min_height": null,
            "min_width": null,
            "object_fit": null,
            "object_position": null,
            "order": null,
            "overflow": null,
            "overflow_x": null,
            "overflow_y": null,
            "padding": null,
            "right": null,
            "top": null,
            "visibility": null,
            "width": "20px"
          }
        },
        "1648056055d5408eba6dbdfa5467eade": {
          "model_module": "@jupyter-widgets/controls",
          "model_name": "ProgressStyleModel",
          "model_module_version": "1.5.0",
          "state": {
            "_model_module": "@jupyter-widgets/controls",
            "_model_module_version": "1.5.0",
            "_model_name": "ProgressStyleModel",
            "_view_count": null,
            "_view_module": "@jupyter-widgets/base",
            "_view_module_version": "1.2.0",
            "_view_name": "StyleView",
            "bar_color": null,
            "description_width": ""
          }
        },
        "b2e172fa2cbd4c2cbdba7dadb339e0dd": {
          "model_module": "@jupyter-widgets/base",
          "model_name": "LayoutModel",
          "model_module_version": "1.2.0",
          "state": {
            "_model_module": "@jupyter-widgets/base",
            "_model_module_version": "1.2.0",
            "_model_name": "LayoutModel",
            "_view_count": null,
            "_view_module": "@jupyter-widgets/base",
            "_view_module_version": "1.2.0",
            "_view_name": "LayoutView",
            "align_content": null,
            "align_items": null,
            "align_self": null,
            "border": null,
            "bottom": null,
            "display": null,
            "flex": null,
            "flex_flow": null,
            "grid_area": null,
            "grid_auto_columns": null,
            "grid_auto_flow": null,
            "grid_auto_rows": null,
            "grid_column": null,
            "grid_gap": null,
            "grid_row": null,
            "grid_template_areas": null,
            "grid_template_columns": null,
            "grid_template_rows": null,
            "height": null,
            "justify_content": null,
            "justify_items": null,
            "left": null,
            "margin": null,
            "max_height": null,
            "max_width": null,
            "min_height": null,
            "min_width": null,
            "object_fit": null,
            "object_position": null,
            "order": null,
            "overflow": null,
            "overflow_x": null,
            "overflow_y": null,
            "padding": null,
            "right": null,
            "top": null,
            "visibility": null,
            "width": null
          }
        },
        "03e27f5f63c54850966d8ee02ef4ec9a": {
          "model_module": "@jupyter-widgets/controls",
          "model_name": "DescriptionStyleModel",
          "model_module_version": "1.5.0",
          "state": {
            "_model_module": "@jupyter-widgets/controls",
            "_model_module_version": "1.5.0",
            "_model_name": "DescriptionStyleModel",
            "_view_count": null,
            "_view_module": "@jupyter-widgets/base",
            "_view_module_version": "1.2.0",
            "_view_name": "StyleView",
            "description_width": ""
          }
        },
        "106e7959fd794faebafabf963cdb0a66": {
          "model_module": "@jupyter-widgets/controls",
          "model_name": "HBoxModel",
          "model_module_version": "1.5.0",
          "state": {
            "_dom_classes": [],
            "_model_module": "@jupyter-widgets/controls",
            "_model_module_version": "1.5.0",
            "_model_name": "HBoxModel",
            "_view_count": null,
            "_view_module": "@jupyter-widgets/controls",
            "_view_module_version": "1.5.0",
            "_view_name": "HBoxView",
            "box_style": "",
            "children": [
              "IPY_MODEL_1b0f31c29c1c40958937f120eba8fefb",
              "IPY_MODEL_1f7e924f248c4563989b97f26c49c4a0",
              "IPY_MODEL_105c391781b94eb29ff7c9b1370b152b"
            ],
            "layout": "IPY_MODEL_b8ed5d2884144b07a4659f6236982737"
          }
        },
        "1b0f31c29c1c40958937f120eba8fefb": {
          "model_module": "@jupyter-widgets/controls",
          "model_name": "HTMLModel",
          "model_module_version": "1.5.0",
          "state": {
            "_dom_classes": [],
            "_model_module": "@jupyter-widgets/controls",
            "_model_module_version": "1.5.0",
            "_model_name": "HTMLModel",
            "_view_count": null,
            "_view_module": "@jupyter-widgets/controls",
            "_view_module_version": "1.5.0",
            "_view_name": "HTMLView",
            "description": "",
            "description_tooltip": null,
            "layout": "IPY_MODEL_6c6e9f4390dc4cd78f8f8a2cae0e2b1e",
            "placeholder": "​",
            "style": "IPY_MODEL_b2c7c293fb184ccaa579e6de1edcdce8",
            "value": ""
          }
        },
        "1f7e924f248c4563989b97f26c49c4a0": {
          "model_module": "@jupyter-widgets/controls",
          "model_name": "FloatProgressModel",
          "model_module_version": "1.5.0",
          "state": {
            "_dom_classes": [],
            "_model_module": "@jupyter-widgets/controls",
            "_model_module_version": "1.5.0",
            "_model_name": "FloatProgressModel",
            "_view_count": null,
            "_view_module": "@jupyter-widgets/controls",
            "_view_module_version": "1.5.0",
            "_view_name": "ProgressView",
            "bar_style": "success",
            "description": "",
            "description_tooltip": null,
            "layout": "IPY_MODEL_2c684521ba7e4f20bb739e26c355ec11",
            "max": 1,
            "min": 0,
            "orientation": "horizontal",
            "style": "IPY_MODEL_229e3b6bc70b4ff39b397aa2c47d7574",
            "value": 1
          }
        },
        "105c391781b94eb29ff7c9b1370b152b": {
          "model_module": "@jupyter-widgets/controls",
          "model_name": "HTMLModel",
          "model_module_version": "1.5.0",
          "state": {
            "_dom_classes": [],
            "_model_module": "@jupyter-widgets/controls",
            "_model_module_version": "1.5.0",
            "_model_name": "HTMLModel",
            "_view_count": null,
            "_view_module": "@jupyter-widgets/controls",
            "_view_module_version": "1.5.0",
            "_view_name": "HTMLView",
            "description": "",
            "description_tooltip": null,
            "layout": "IPY_MODEL_8a62dff3fd06450ba873b02cf354cc58",
            "placeholder": "​",
            "style": "IPY_MODEL_5a34634a5b7748d68c0cad3b90bdbe0a",
            "value": " 790/? [00:20&lt;00:00, 34.02it/s]"
          }
        },
        "b8ed5d2884144b07a4659f6236982737": {
          "model_module": "@jupyter-widgets/base",
          "model_name": "LayoutModel",
          "model_module_version": "1.2.0",
          "state": {
            "_model_module": "@jupyter-widgets/base",
            "_model_module_version": "1.2.0",
            "_model_name": "LayoutModel",
            "_view_count": null,
            "_view_module": "@jupyter-widgets/base",
            "_view_module_version": "1.2.0",
            "_view_name": "LayoutView",
            "align_content": null,
            "align_items": null,
            "align_self": null,
            "border": null,
            "bottom": null,
            "display": null,
            "flex": null,
            "flex_flow": null,
            "grid_area": null,
            "grid_auto_columns": null,
            "grid_auto_flow": null,
            "grid_auto_rows": null,
            "grid_column": null,
            "grid_gap": null,
            "grid_row": null,
            "grid_template_areas": null,
            "grid_template_columns": null,
            "grid_template_rows": null,
            "height": null,
            "justify_content": null,
            "justify_items": null,
            "left": null,
            "margin": null,
            "max_height": null,
            "max_width": null,
            "min_height": null,
            "min_width": null,
            "object_fit": null,
            "object_position": null,
            "order": null,
            "overflow": null,
            "overflow_x": null,
            "overflow_y": null,
            "padding": null,
            "right": null,
            "top": null,
            "visibility": null,
            "width": null
          }
        },
        "6c6e9f4390dc4cd78f8f8a2cae0e2b1e": {
          "model_module": "@jupyter-widgets/base",
          "model_name": "LayoutModel",
          "model_module_version": "1.2.0",
          "state": {
            "_model_module": "@jupyter-widgets/base",
            "_model_module_version": "1.2.0",
            "_model_name": "LayoutModel",
            "_view_count": null,
            "_view_module": "@jupyter-widgets/base",
            "_view_module_version": "1.2.0",
            "_view_name": "LayoutView",
            "align_content": null,
            "align_items": null,
            "align_self": null,
            "border": null,
            "bottom": null,
            "display": null,
            "flex": null,
            "flex_flow": null,
            "grid_area": null,
            "grid_auto_columns": null,
            "grid_auto_flow": null,
            "grid_auto_rows": null,
            "grid_column": null,
            "grid_gap": null,
            "grid_row": null,
            "grid_template_areas": null,
            "grid_template_columns": null,
            "grid_template_rows": null,
            "height": null,
            "justify_content": null,
            "justify_items": null,
            "left": null,
            "margin": null,
            "max_height": null,
            "max_width": null,
            "min_height": null,
            "min_width": null,
            "object_fit": null,
            "object_position": null,
            "order": null,
            "overflow": null,
            "overflow_x": null,
            "overflow_y": null,
            "padding": null,
            "right": null,
            "top": null,
            "visibility": null,
            "width": null
          }
        },
        "b2c7c293fb184ccaa579e6de1edcdce8": {
          "model_module": "@jupyter-widgets/controls",
          "model_name": "DescriptionStyleModel",
          "model_module_version": "1.5.0",
          "state": {
            "_model_module": "@jupyter-widgets/controls",
            "_model_module_version": "1.5.0",
            "_model_name": "DescriptionStyleModel",
            "_view_count": null,
            "_view_module": "@jupyter-widgets/base",
            "_view_module_version": "1.2.0",
            "_view_name": "StyleView",
            "description_width": ""
          }
        },
        "2c684521ba7e4f20bb739e26c355ec11": {
          "model_module": "@jupyter-widgets/base",
          "model_name": "LayoutModel",
          "model_module_version": "1.2.0",
          "state": {
            "_model_module": "@jupyter-widgets/base",
            "_model_module_version": "1.2.0",
            "_model_name": "LayoutModel",
            "_view_count": null,
            "_view_module": "@jupyter-widgets/base",
            "_view_module_version": "1.2.0",
            "_view_name": "LayoutView",
            "align_content": null,
            "align_items": null,
            "align_self": null,
            "border": null,
            "bottom": null,
            "display": null,
            "flex": null,
            "flex_flow": null,
            "grid_area": null,
            "grid_auto_columns": null,
            "grid_auto_flow": null,
            "grid_auto_rows": null,
            "grid_column": null,
            "grid_gap": null,
            "grid_row": null,
            "grid_template_areas": null,
            "grid_template_columns": null,
            "grid_template_rows": null,
            "height": null,
            "justify_content": null,
            "justify_items": null,
            "left": null,
            "margin": null,
            "max_height": null,
            "max_width": null,
            "min_height": null,
            "min_width": null,
            "object_fit": null,
            "object_position": null,
            "order": null,
            "overflow": null,
            "overflow_x": null,
            "overflow_y": null,
            "padding": null,
            "right": null,
            "top": null,
            "visibility": null,
            "width": "20px"
          }
        },
        "229e3b6bc70b4ff39b397aa2c47d7574": {
          "model_module": "@jupyter-widgets/controls",
          "model_name": "ProgressStyleModel",
          "model_module_version": "1.5.0",
          "state": {
            "_model_module": "@jupyter-widgets/controls",
            "_model_module_version": "1.5.0",
            "_model_name": "ProgressStyleModel",
            "_view_count": null,
            "_view_module": "@jupyter-widgets/base",
            "_view_module_version": "1.2.0",
            "_view_name": "StyleView",
            "bar_color": null,
            "description_width": ""
          }
        },
        "8a62dff3fd06450ba873b02cf354cc58": {
          "model_module": "@jupyter-widgets/base",
          "model_name": "LayoutModel",
          "model_module_version": "1.2.0",
          "state": {
            "_model_module": "@jupyter-widgets/base",
            "_model_module_version": "1.2.0",
            "_model_name": "LayoutModel",
            "_view_count": null,
            "_view_module": "@jupyter-widgets/base",
            "_view_module_version": "1.2.0",
            "_view_name": "LayoutView",
            "align_content": null,
            "align_items": null,
            "align_self": null,
            "border": null,
            "bottom": null,
            "display": null,
            "flex": null,
            "flex_flow": null,
            "grid_area": null,
            "grid_auto_columns": null,
            "grid_auto_flow": null,
            "grid_auto_rows": null,
            "grid_column": null,
            "grid_gap": null,
            "grid_row": null,
            "grid_template_areas": null,
            "grid_template_columns": null,
            "grid_template_rows": null,
            "height": null,
            "justify_content": null,
            "justify_items": null,
            "left": null,
            "margin": null,
            "max_height": null,
            "max_width": null,
            "min_height": null,
            "min_width": null,
            "object_fit": null,
            "object_position": null,
            "order": null,
            "overflow": null,
            "overflow_x": null,
            "overflow_y": null,
            "padding": null,
            "right": null,
            "top": null,
            "visibility": null,
            "width": null
          }
        },
        "5a34634a5b7748d68c0cad3b90bdbe0a": {
          "model_module": "@jupyter-widgets/controls",
          "model_name": "DescriptionStyleModel",
          "model_module_version": "1.5.0",
          "state": {
            "_model_module": "@jupyter-widgets/controls",
            "_model_module_version": "1.5.0",
            "_model_name": "DescriptionStyleModel",
            "_view_count": null,
            "_view_module": "@jupyter-widgets/base",
            "_view_module_version": "1.2.0",
            "_view_name": "StyleView",
            "description_width": ""
          }
        }
      }
    }
  },
  "nbformat": 4,
  "nbformat_minor": 5
}