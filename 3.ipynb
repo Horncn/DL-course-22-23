{
  "nbformat": 4,
  "nbformat_minor": 0,
  "metadata": {
    "colab": {
      "provenance": []
    },
    "kernelspec": {
      "name": "python3",
      "display_name": "Python 3"
    },
    "language_info": {
      "name": "python"
    }
  },
  "cells": [
    {
      "cell_type": "code",
      "execution_count": null,
      "metadata": {
        "id": "t09OagyyNaXG"
      },
      "outputs": [],
      "source": [
        "import tensorflow as tf\n",
        "from tensorflow.keras import layers\n",
        "import pandas as pd\n",
        "import matplotlib.pyplot as plt\n",
        "import os\n",
        "import numpy as np\n",
        "from tqdm import tqdm\n",
        "from sklearn.model_selection import train_test_split\n",
        "from sklearn.metrics import confusion_matrix, classification_report\n",
        "import seaborn as sns\n",
        "from PIL import Image"
      ]
    },
    {
      "cell_type": "markdown",
      "source": [
        "https://www.kaggle.com/datasets/chazzer/smiling-or-not-face-data"
      ],
      "metadata": {
        "id": "r-yOCi02OVQA"
      }
    },
    {
      "cell_type": "code",
      "source": [
        "from google.colab import files"
      ],
      "metadata": {
        "id": "2Z-gzWgmOVv6"
      },
      "execution_count": null,
      "outputs": []
    },
    {
      "cell_type": "code",
      "source": [
        "columns = ['class', 'name', 'image']\n",
        "df = pd.DataFrame(columns = columns)"
      ],
      "metadata": {
        "id": "GNz4jgiqWYMI"
      },
      "execution_count": null,
      "outputs": []
    },
    {
      "cell_type": "code",
      "source": [
        "(len(os.listdir('drive/MyDrive/SmileFacesDataset/smile')), \n",
        "len(os.listdir('drive/MyDrive/SmileFacesDataset/non_smile')))"
      ],
      "metadata": {
        "colab": {
          "base_uri": "https://localhost:8080/"
        },
        "id": "1-pj2JPPoa0Z",
        "outputId": "89e0dd01-b7c3-4c45-e5e1-e6a8b781be48"
      },
      "execution_count": null,
      "outputs": [
        {
          "output_type": "execute_result",
          "data": {
            "text/plain": [
              "(600, 603)"
            ]
          },
          "metadata": {},
          "execution_count": 4
        }
      ]
    },
    {
      "cell_type": "code",
      "source": [
        "def folder_to_df(path, class_type):\n",
        "  for name in tqdm(os.listdir(path)):\n",
        "    image = Image.open('/'.join([path, name]))\n",
        "    \n",
        "    pixel_values = image.load()\n",
        "    width, height = image.size\n",
        "    \n",
        "    new_values = []\n",
        "    new_values_reversed = []\n",
        "    \n",
        "    for i in range(height):\n",
        "      row = []\n",
        "      \n",
        "      for j in range(width):\n",
        "        current_pixel = int(np.mean(pixel_values[j,i])) / 255\n",
        "        row.append(np.array(current_pixel).astype('float32'))\n",
        "      \n",
        "      new_values.append(row)\n",
        "      new_values_reversed.append(np.flip(row))\n",
        "    \n",
        "    df.loc[len(df)] = [class_type, name, np.array([new_values]).astype('float32')]\n",
        "    df.loc[len(df)] = [class_type, name + 'rev', np.array([new_values_reversed]).astype('float32')]"
      ],
      "metadata": {
        "id": "xDEgLUTWVdSG"
      },
      "execution_count": null,
      "outputs": []
    },
    {
      "cell_type": "code",
      "source": [
        "folder_to_df('drive/MyDrive/SmileFacesDataset/smile', 1)\n",
        "folder_to_df('drive/MyDrive/SmileFacesDataset/non_smile', 0)"
      ],
      "metadata": {
        "colab": {
          "base_uri": "https://localhost:8080/"
        },
        "id": "o5XQZOo4XxWR",
        "outputId": "0f54331e-c2b7-4833-d67b-5e0168403cc7"
      },
      "execution_count": null,
      "outputs": [
        {
          "output_type": "stream",
          "name": "stderr",
          "text": [
            "100%|██████████| 600/600 [00:47<00:00, 12.50it/s]\n",
            "100%|██████████| 603/603 [00:42<00:00, 14.03it/s]\n"
          ]
        }
      ]
    },
    {
      "cell_type": "code",
      "source": [
        "df"
      ],
      "metadata": {
        "colab": {
          "base_uri": "https://localhost:8080/",
          "height": 423
        },
        "id": "wvOylycjYNSs",
        "outputId": "7e63adf5-16a5-4d92-f288-a7a0284673f9"
      },
      "execution_count": null,
      "outputs": [
        {
          "output_type": "execute_result",
          "data": {
            "text/plain": [
              "     class                          name  \\\n",
              "0        1          Jim_Harrick_0001.jpg   \n",
              "1        1       Jim_Harrick_0001.jpgrev   \n",
              "2        1      Keira_Knightley_0002.jpg   \n",
              "3        1   Keira_Knightley_0002.jpgrev   \n",
              "4        1       Joseph_Nacchio_0001.jpg   \n",
              "...    ...                           ...   \n",
              "2401     0    Claire_Tomalin_0001.jpgrev   \n",
              "2402     0        Daniel_Ortega_0001.jpg   \n",
              "2403     0     Daniel_Ortega_0001.jpgrev   \n",
              "2404     0     David_Nalbandian_0009.jpg   \n",
              "2405     0  David_Nalbandian_0009.jpgrev   \n",
              "\n",
              "                                                  image  \n",
              "0     [[[0.42745098, 0.44705883, 0.4745098, 0.509803...  \n",
              "1     [[[0.43529412, 0.43529412, 0.4392157, 0.447058...  \n",
              "2     [[[0.43137255, 0.42745098, 0.42352942, 0.42745...  \n",
              "3     [[[0.101960786, 0.09019608, 0.09411765, 0.2156...  \n",
              "4     [[[0.72156864, 0.7372549, 0.77254903, 0.807843...  \n",
              "...                                                 ...  \n",
              "2401  [[[0.2627451, 0.3137255, 0.35686275, 0.4392157...  \n",
              "2402  [[[0.14509805, 0.22352941, 0.37254903, 0.53725...  \n",
              "2403  [[[0.019607844, 0.003921569, 0.0, 0.007843138,...  \n",
              "2404  [[[0.07058824, 0.19607843, 0.32941177, 0.45490...  \n",
              "2405  [[[0.39607844, 0.38431373, 0.3882353, 0.388235...  \n",
              "\n",
              "[2406 rows x 3 columns]"
            ],
            "text/html": [
              "\n",
              "  <div id=\"df-1be734ba-bdf0-4c9e-8be5-b236c2814044\">\n",
              "    <div class=\"colab-df-container\">\n",
              "      <div>\n",
              "<style scoped>\n",
              "    .dataframe tbody tr th:only-of-type {\n",
              "        vertical-align: middle;\n",
              "    }\n",
              "\n",
              "    .dataframe tbody tr th {\n",
              "        vertical-align: top;\n",
              "    }\n",
              "\n",
              "    .dataframe thead th {\n",
              "        text-align: right;\n",
              "    }\n",
              "</style>\n",
              "<table border=\"1\" class=\"dataframe\">\n",
              "  <thead>\n",
              "    <tr style=\"text-align: right;\">\n",
              "      <th></th>\n",
              "      <th>class</th>\n",
              "      <th>name</th>\n",
              "      <th>image</th>\n",
              "    </tr>\n",
              "  </thead>\n",
              "  <tbody>\n",
              "    <tr>\n",
              "      <th>0</th>\n",
              "      <td>1</td>\n",
              "      <td>Jim_Harrick_0001.jpg</td>\n",
              "      <td>[[[0.42745098, 0.44705883, 0.4745098, 0.509803...</td>\n",
              "    </tr>\n",
              "    <tr>\n",
              "      <th>1</th>\n",
              "      <td>1</td>\n",
              "      <td>Jim_Harrick_0001.jpgrev</td>\n",
              "      <td>[[[0.43529412, 0.43529412, 0.4392157, 0.447058...</td>\n",
              "    </tr>\n",
              "    <tr>\n",
              "      <th>2</th>\n",
              "      <td>1</td>\n",
              "      <td>Keira_Knightley_0002.jpg</td>\n",
              "      <td>[[[0.43137255, 0.42745098, 0.42352942, 0.42745...</td>\n",
              "    </tr>\n",
              "    <tr>\n",
              "      <th>3</th>\n",
              "      <td>1</td>\n",
              "      <td>Keira_Knightley_0002.jpgrev</td>\n",
              "      <td>[[[0.101960786, 0.09019608, 0.09411765, 0.2156...</td>\n",
              "    </tr>\n",
              "    <tr>\n",
              "      <th>4</th>\n",
              "      <td>1</td>\n",
              "      <td>Joseph_Nacchio_0001.jpg</td>\n",
              "      <td>[[[0.72156864, 0.7372549, 0.77254903, 0.807843...</td>\n",
              "    </tr>\n",
              "    <tr>\n",
              "      <th>...</th>\n",
              "      <td>...</td>\n",
              "      <td>...</td>\n",
              "      <td>...</td>\n",
              "    </tr>\n",
              "    <tr>\n",
              "      <th>2401</th>\n",
              "      <td>0</td>\n",
              "      <td>Claire_Tomalin_0001.jpgrev</td>\n",
              "      <td>[[[0.2627451, 0.3137255, 0.35686275, 0.4392157...</td>\n",
              "    </tr>\n",
              "    <tr>\n",
              "      <th>2402</th>\n",
              "      <td>0</td>\n",
              "      <td>Daniel_Ortega_0001.jpg</td>\n",
              "      <td>[[[0.14509805, 0.22352941, 0.37254903, 0.53725...</td>\n",
              "    </tr>\n",
              "    <tr>\n",
              "      <th>2403</th>\n",
              "      <td>0</td>\n",
              "      <td>Daniel_Ortega_0001.jpgrev</td>\n",
              "      <td>[[[0.019607844, 0.003921569, 0.0, 0.007843138,...</td>\n",
              "    </tr>\n",
              "    <tr>\n",
              "      <th>2404</th>\n",
              "      <td>0</td>\n",
              "      <td>David_Nalbandian_0009.jpg</td>\n",
              "      <td>[[[0.07058824, 0.19607843, 0.32941177, 0.45490...</td>\n",
              "    </tr>\n",
              "    <tr>\n",
              "      <th>2405</th>\n",
              "      <td>0</td>\n",
              "      <td>David_Nalbandian_0009.jpgrev</td>\n",
              "      <td>[[[0.39607844, 0.38431373, 0.3882353, 0.388235...</td>\n",
              "    </tr>\n",
              "  </tbody>\n",
              "</table>\n",
              "<p>2406 rows × 3 columns</p>\n",
              "</div>\n",
              "      <button class=\"colab-df-convert\" onclick=\"convertToInteractive('df-1be734ba-bdf0-4c9e-8be5-b236c2814044')\"\n",
              "              title=\"Convert this dataframe to an interactive table.\"\n",
              "              style=\"display:none;\">\n",
              "        \n",
              "  <svg xmlns=\"http://www.w3.org/2000/svg\" height=\"24px\"viewBox=\"0 0 24 24\"\n",
              "       width=\"24px\">\n",
              "    <path d=\"M0 0h24v24H0V0z\" fill=\"none\"/>\n",
              "    <path d=\"M18.56 5.44l.94 2.06.94-2.06 2.06-.94-2.06-.94-.94-2.06-.94 2.06-2.06.94zm-11 1L8.5 8.5l.94-2.06 2.06-.94-2.06-.94L8.5 2.5l-.94 2.06-2.06.94zm10 10l.94 2.06.94-2.06 2.06-.94-2.06-.94-.94-2.06-.94 2.06-2.06.94z\"/><path d=\"M17.41 7.96l-1.37-1.37c-.4-.4-.92-.59-1.43-.59-.52 0-1.04.2-1.43.59L10.3 9.45l-7.72 7.72c-.78.78-.78 2.05 0 2.83L4 21.41c.39.39.9.59 1.41.59.51 0 1.02-.2 1.41-.59l7.78-7.78 2.81-2.81c.8-.78.8-2.07 0-2.86zM5.41 20L4 18.59l7.72-7.72 1.47 1.35L5.41 20z\"/>\n",
              "  </svg>\n",
              "      </button>\n",
              "      \n",
              "  <style>\n",
              "    .colab-df-container {\n",
              "      display:flex;\n",
              "      flex-wrap:wrap;\n",
              "      gap: 12px;\n",
              "    }\n",
              "\n",
              "    .colab-df-convert {\n",
              "      background-color: #E8F0FE;\n",
              "      border: none;\n",
              "      border-radius: 50%;\n",
              "      cursor: pointer;\n",
              "      display: none;\n",
              "      fill: #1967D2;\n",
              "      height: 32px;\n",
              "      padding: 0 0 0 0;\n",
              "      width: 32px;\n",
              "    }\n",
              "\n",
              "    .colab-df-convert:hover {\n",
              "      background-color: #E2EBFA;\n",
              "      box-shadow: 0px 1px 2px rgba(60, 64, 67, 0.3), 0px 1px 3px 1px rgba(60, 64, 67, 0.15);\n",
              "      fill: #174EA6;\n",
              "    }\n",
              "\n",
              "    [theme=dark] .colab-df-convert {\n",
              "      background-color: #3B4455;\n",
              "      fill: #D2E3FC;\n",
              "    }\n",
              "\n",
              "    [theme=dark] .colab-df-convert:hover {\n",
              "      background-color: #434B5C;\n",
              "      box-shadow: 0px 1px 3px 1px rgba(0, 0, 0, 0.15);\n",
              "      filter: drop-shadow(0px 1px 2px rgba(0, 0, 0, 0.3));\n",
              "      fill: #FFFFFF;\n",
              "    }\n",
              "  </style>\n",
              "\n",
              "      <script>\n",
              "        const buttonEl =\n",
              "          document.querySelector('#df-1be734ba-bdf0-4c9e-8be5-b236c2814044 button.colab-df-convert');\n",
              "        buttonEl.style.display =\n",
              "          google.colab.kernel.accessAllowed ? 'block' : 'none';\n",
              "\n",
              "        async function convertToInteractive(key) {\n",
              "          const element = document.querySelector('#df-1be734ba-bdf0-4c9e-8be5-b236c2814044');\n",
              "          const dataTable =\n",
              "            await google.colab.kernel.invokeFunction('convertToInteractive',\n",
              "                                                     [key], {});\n",
              "          if (!dataTable) return;\n",
              "\n",
              "          const docLinkHtml = 'Like what you see? Visit the ' +\n",
              "            '<a target=\"_blank\" href=https://colab.research.google.com/notebooks/data_table.ipynb>data table notebook</a>'\n",
              "            + ' to learn more about interactive tables.';\n",
              "          element.innerHTML = '';\n",
              "          dataTable['output_type'] = 'display_data';\n",
              "          await google.colab.output.renderOutput(dataTable, element);\n",
              "          const docLink = document.createElement('div');\n",
              "          docLink.innerHTML = docLinkHtml;\n",
              "          element.appendChild(docLink);\n",
              "        }\n",
              "      </script>\n",
              "    </div>\n",
              "  </div>\n",
              "  "
            ]
          },
          "metadata": {},
          "execution_count": 7
        }
      ]
    },
    {
      "cell_type": "code",
      "source": [
        "example = (df['image'][12])[0]\n",
        "img = Image.fromarray(np.uint8(example * 255), 'L')\n",
        "display(img)"
      ],
      "metadata": {
        "colab": {
          "base_uri": "https://localhost:8080/",
          "height": 81
        },
        "id": "qMAnzIlrY4l2",
        "outputId": "3cb2c2dc-35ce-4055-dbd3-2ad6be62efb1"
      },
      "execution_count": null,
      "outputs": [
        {
          "output_type": "display_data",
          "data": {
            "text/plain": [
              "<PIL.Image.Image image mode=L size=64x64 at 0x7F70B4DD04C0>"
            ],
            "image/png": "[encoded data removed]"
          },
          "metadata": {}
        }
      ]
    },
    {
      "cell_type": "code",
      "source": [
        "example = (df['image'][1315])[0]\n",
        "img = Image.fromarray(np.uint8(example * 255), 'L')\n",
        "display(img)"
      ],
      "metadata": {
        "colab": {
          "base_uri": "https://localhost:8080/",
          "height": 81
        },
        "id": "u1ZHbbHncEBJ",
        "outputId": "66ece298-b297-4f67-80d7-5f5feb50f7a0"
      },
      "execution_count": null,
      "outputs": [
        {
          "output_type": "display_data",
          "data": {
            "text/plain": [
              "<PIL.Image.Image image mode=L size=64x64 at 0x7F704B03F370>"
            ],
            "image/png": "[encoded data removed]"
          },
          "metadata": {}
        }
      ]
    },
    {
      "cell_type": "code",
      "source": [
        "data = df['image']\n",
        "print(f'Before: {data[0].shape}')\n",
        "data = [np.array(i[:,:,:,np.newaxis][0]).astype('float32') for i in data]\n",
        "print(f'After: {data[0].shape}')"
      ],
      "metadata": {
        "colab": {
          "base_uri": "https://localhost:8080/"
        },
        "id": "iM5ivGnIiMew",
        "outputId": "85043924-43c5-44a5-f84c-abb0ef101257"
      },
      "execution_count": null,
      "outputs": [
        {
          "output_type": "stream",
          "name": "stdout",
          "text": [
            "Before: (1, 64, 64)\n",
            "After: (64, 64, 1)\n"
          ]
        }
      ]
    },
    {
      "cell_type": "code",
      "source": [
        "train_x, test_x, train_y, test_y = train_test_split(np.array(data), \n",
        "                                                    np.array(df['class'].astype('int32')), \n",
        "                                                    test_size=0.2, \n",
        "                                                    random_state=42)\n",
        "train_x.shape"
      ],
      "metadata": {
        "id": "pAlKewCre-AS",
        "colab": {
          "base_uri": "https://localhost:8080/"
        },
        "outputId": "1fcce221-1bd8-43a5-e183-780961561cda"
      },
      "execution_count": null,
      "outputs": [
        {
          "output_type": "execute_result",
          "data": {
            "text/plain": [
              "(1924, 64, 64, 1)"
            ]
          },
          "metadata": {},
          "execution_count": 11
        }
      ]
    },
    {
      "cell_type": "code",
      "source": [
        "SIZE = 64"
      ],
      "metadata": {
        "id": "KlVb8Z6vefZG"
      },
      "execution_count": null,
      "outputs": []
    },
    {
      "cell_type": "code",
      "source": [
        "model = tf.keras.Sequential()\n",
        "model.add(layers.Conv2D(16, (4,4), input_shape=(SIZE,SIZE,1), activation='relu'))\n",
        "model.add(layers.Dropout(.2))\n",
        "model.add(layers.Flatten())\n",
        "model.add(layers.Dense(128, activation='relu'))\n",
        "model.add(layers.Dense(16, activation='relu'))\n",
        "model.add(layers.Dense(1, activation = 'sigmoid'))\n",
        "model.compile(loss='BinaryCrossentropy',\n",
        "              optimizer = 'adam',\n",
        "              metrics = ['accuracy'])\n",
        "\n",
        "model.summary()"
      ],
      "metadata": {
        "id": "MXJkSVq7cui0",
        "colab": {
          "base_uri": "https://localhost:8080/"
        },
        "outputId": "9037532c-f4bc-4786-bcf6-bc69188f6bfc"
      },
      "execution_count": null,
      "outputs": [
        {
          "output_type": "stream",
          "name": "stdout",
          "text": [
            "Model: \"sequential\"\n",
            "_________________________________________________________________\n",
            " Layer (type)                Output Shape              Param #   \n",
            "=================================================================\n",
            " conv2d (Conv2D)             (None, 61, 61, 16)        272       \n",
            "                                                                 \n",
            " dropout (Dropout)           (None, 61, 61, 16)        0         \n",
            "                                                                 \n",
            " flatten (Flatten)           (None, 59536)             0         \n",
            "                                                                 \n",
            " dense (Dense)               (None, 128)               7620736   \n",
            "                                                                 \n",
            " dense_1 (Dense)             (None, 16)                2064      \n",
            "                                                                 \n",
            " dense_2 (Dense)             (None, 1)                 17        \n",
            "                                                                 \n",
            "=================================================================\n",
            "Total params: 7,623,089\n",
            "Trainable params: 7,623,089\n",
            "Non-trainable params: 0\n",
            "_________________________________________________________________\n"
          ]
        }
      ]
    },
    {
      "cell_type": "code",
      "source": [
        "class haltCallback(tf.keras.callbacks.Callback):\n",
        "  def on_epoch_end(self, epoch, logs={}):\n",
        "      if(logs.get('loss') <= .1):\n",
        "          self.model.stop_training = True\n",
        "\n",
        "train_stop = haltCallback()"
      ],
      "metadata": {
        "id": "e6y4XTBsMcWH"
      },
      "execution_count": null,
      "outputs": []
    },
    {
      "cell_type": "code",
      "source": [
        "history = model.fit(train_x, train_y, epochs=100, batch_size=32, callbacks=[train_stop])"
      ],
      "metadata": {
        "colab": {
          "base_uri": "https://localhost:8080/"
        },
        "id": "uSkMUzHie61P",
        "outputId": "8cc6bc03-b73c-4407-8453-630931ba2ad0"
      },
      "execution_count": null,
      "outputs": [
        {
          "output_type": "stream",
          "name": "stdout",
          "text": [
            "Epoch 1/100\n",
            "61/61 [==============================] - 9s 124ms/step - loss: 0.7344 - accuracy: 0.6263\n",
            "Epoch 2/100\n",
            "61/61 [==============================] - 9s 140ms/step - loss: 0.3868 - accuracy: 0.8628\n",
            "Epoch 3/100\n",
            "61/61 [==============================] - 8s 123ms/step - loss: 0.2428 - accuracy: 0.9044\n",
            "Epoch 4/100\n",
            "61/61 [==============================] - 8s 129ms/step - loss: 0.1948 - accuracy: 0.9226\n",
            "Epoch 5/100\n",
            "61/61 [==============================] - 13s 215ms/step - loss: 0.1617 - accuracy: 0.9418\n",
            "Epoch 6/100\n",
            "61/61 [==============================] - 8s 123ms/step - loss: 0.0987 - accuracy: 0.9688\n"
          ]
        }
      ]
    },
    {
      "cell_type": "code",
      "source": [
        "plt.plot(history.history['loss'])\n",
        "plt.title(\"loss\")\n",
        "plt.show()\n",
        "plt.plot(history.history['accuracy'])\n",
        "plt.title(\"accuracy\")\n",
        "plt.show()"
      ],
      "metadata": {
        "colab": {
          "base_uri": "https://localhost:8080/",
          "height": 545
        },
        "id": "fOooWewnKEp1",
        "outputId": "7c28801c-de1e-49f2-8ccf-0db9b9273e07"
      },
      "execution_count": null,
      "outputs": [
        {
          "output_type": "display_data",
          "data": {
            "text/plain": [
              "<Figure size 432x288 with 1 Axes>"
            ],
            "image/png": "[encoded data removed]"
          },
          "metadata": {
            "needs_background": "light"
          }
        },
        {
          "output_type": "display_data",
          "data": {
            "text/plain": [
              "<Figure size 432x288 with 1 Axes>"
            ],
            "image/png": "[encoded data removed]"
          },
          "metadata": {
            "needs_background": "light"
          }
        }
      ]
    },
    {
      "cell_type": "code",
      "source": [
        "pred_y = model.predict(test_x)\n",
        "prediction = [1 if i > .5 else 0 for i in pred_y]"
      ],
      "metadata": {
        "colab": {
          "base_uri": "https://localhost:8080/"
        },
        "id": "XZfyzVJLkmj4",
        "outputId": "3b177ca7-d549-4a19-dcbe-6a5d8ee80eda"
      },
      "execution_count": null,
      "outputs": [
        {
          "output_type": "stream",
          "name": "stdout",
          "text": [
            "16/16 [==============================] - 1s 28ms/step\n"
          ]
        }
      ]
    },
    {
      "cell_type": "code",
      "source": [
        "print(classification_report(test_y, prediction))"
      ],
      "metadata": {
        "colab": {
          "base_uri": "https://localhost:8080/"
        },
        "id": "fTdUNu8pkxbG",
        "outputId": "bbe4e1a9-a710-4ec7-f9c7-69aea028b40e"
      },
      "execution_count": null,
      "outputs": [
        {
          "output_type": "stream",
          "name": "stdout",
          "text": [
            "              precision    recall  f1-score   support\n",
            "\n",
            "           0       0.94      0.90      0.92       244\n",
            "           1       0.90      0.95      0.92       238\n",
            "\n",
            "    accuracy                           0.92       482\n",
            "   macro avg       0.92      0.92      0.92       482\n",
            "weighted avg       0.92      0.92      0.92       482\n",
            "\n"
          ]
        }
      ]
    },
    {
      "cell_type": "code",
      "source": [
        "sns.heatmap(confusion_matrix(test_y, prediction), annot=True)"
      ],
      "metadata": {
        "colab": {
          "base_uri": "https://localhost:8080/",
          "height": 287
        },
        "id": "L4CPArOplAOq",
        "outputId": "8053092c-dd5f-444f-ab35-da5e740a2061"
      },
      "execution_count": null,
      "outputs": [
        {
          "output_type": "execute_result",
          "data": {
            "text/plain": [
              "<matplotlib.axes._subplots.AxesSubplot at 0x7f7046372f10>"
            ]
          },
          "metadata": {},
          "execution_count": 19
        },
        {
          "output_type": "display_data",
          "data": {
            "text/plain": [
              "<Figure size 432x288 with 2 Axes>"
            ],
            "image/png": "[encoded data removed]"
          },
          "metadata": {
            "needs_background": "light"
          }
        }
      ]
    },
    {
      "cell_type": "code",
      "source": [
        "model = tf.keras.Sequential()\n",
        "model.add(layers.Conv2D(16, (4,4), input_shape=(SIZE,SIZE,1), activation='relu'))\n",
        "model.add(layers.MaxPooling2D((2,2)))\n",
        "model.add(layers.MaxPool2D((2,2)))\n",
        "model.add(layers.Dropout(.2))\n",
        "model.add(layers.Flatten())\n",
        "model.add(layers.Dense(128, activation='relu'))\n",
        "model.add(layers.Dense(16, activation='relu'))\n",
        "model.add(layers.Dense(1, activation = 'sigmoid'))\n",
        "model.compile(loss='BinaryCrossentropy',\n",
        "              optimizer = 'adam',\n",
        "              metrics = ['accuracy'])\n",
        "\n",
        "model.summary()"
      ],
      "metadata": {
        "colab": {
          "base_uri": "https://localhost:8080/"
        },
        "id": "6UBfMZ4Ptmr_",
        "outputId": "8e3315f0-ef25-43ff-a8e0-2cbf465971e1"
      },
      "execution_count": null,
      "outputs": [
        {
          "output_type": "stream",
          "name": "stdout",
          "text": [
            "Model: \"sequential_1\"\n",
            "_________________________________________________________________\n",
            " Layer (type)                Output Shape              Param #   \n",
            "=================================================================\n",
            " conv2d_1 (Conv2D)           (None, 61, 61, 16)        272       \n",
            "                                                                 \n",
            " max_pooling2d (MaxPooling2D  (None, 30, 30, 16)       0         \n",
            " )                                                               \n",
            "                                                                 \n",
            " max_pooling2d_1 (MaxPooling  (None, 15, 15, 16)       0         \n",
            " 2D)                                                             \n",
            "                                                                 \n",
            " dropout_1 (Dropout)         (None, 15, 15, 16)        0         \n",
            "                                                                 \n",
            " flatten_1 (Flatten)         (None, 3600)              0         \n",
            "                                                                 \n",
            " dense_3 (Dense)             (None, 128)               460928    \n",
            "                                                                 \n",
            " dense_4 (Dense)             (None, 16)                2064      \n",
            "                                                                 \n",
            " dense_5 (Dense)             (None, 1)                 17        \n",
            "                                                                 \n",
            "=================================================================\n",
            "Total params: 463,281\n",
            "Trainable params: 463,281\n",
            "Non-trainable params: 0\n",
            "_________________________________________________________________\n"
          ]
        }
      ]
    },
    {
      "cell_type": "code",
      "source": [
        "history = model.fit(train_x, train_y, epochs=100, batch_size=32, callbacks=[train_stop])"
      ],
      "metadata": {
        "colab": {
          "base_uri": "https://localhost:8080/"
        },
        "id": "6QH12WFDt9eT",
        "outputId": "b86c3794-df9a-4d9f-ccb4-8c6e1ad82c30"
      },
      "execution_count": null,
      "outputs": [
        {
          "output_type": "stream",
          "name": "stdout",
          "text": [
            "Epoch 1/100\n",
            "61/61 [==============================] - 4s 62ms/step - loss: 0.5341 - accuracy: 0.7791\n",
            "Epoch 2/100\n",
            "61/61 [==============================] - 4s 64ms/step - loss: 0.2546 - accuracy: 0.9148\n",
            "Epoch 3/100\n",
            "61/61 [==============================] - 4s 62ms/step - loss: 0.1695 - accuracy: 0.9439\n",
            "Epoch 4/100\n",
            "61/61 [==============================] - 4s 63ms/step - loss: 0.1362 - accuracy: 0.9506\n",
            "Epoch 5/100\n",
            "61/61 [==============================] - 4s 62ms/step - loss: 0.1184 - accuracy: 0.9569\n",
            "Epoch 6/100\n",
            "61/61 [==============================] - 4s 62ms/step - loss: 0.1026 - accuracy: 0.9605\n",
            "Epoch 7/100\n",
            "61/61 [==============================] - 4s 62ms/step - loss: 0.0872 - accuracy: 0.9751\n"
          ]
        }
      ]
    },
    {
      "cell_type": "code",
      "source": [
        "plt.plot(history.history['loss'])\n",
        "plt.title(\"loss\")\n",
        "plt.show()\n",
        "plt.plot(history.history['accuracy'])\n",
        "plt.title(\"accuracy\")\n",
        "plt.show()"
      ],
      "metadata": {
        "colab": {
          "base_uri": "https://localhost:8080/",
          "height": 545
        },
        "id": "AnDMjSF2KH1P",
        "outputId": "d47db44b-3d20-45f6-d70b-0f2127579cc8"
      },
      "execution_count": null,
      "outputs": [
        {
          "output_type": "display_data",
          "data": {
            "text/plain": [
              "<Figure size 432x288 with 1 Axes>"
            ],
            "image/png": "[encoded data removed]"
          },
          "metadata": {
            "needs_background": "light"
          }
        },
        {
          "output_type": "display_data",
          "data": {
            "text/plain": [
              "<Figure size 432x288 with 1 Axes>"
            ],
            "image/png": "[encoded data removed]"
          },
          "metadata": {
            "needs_background": "light"
          }
        }
      ]
    },
    {
      "cell_type": "code",
      "source": [
        "pred_y = model.predict(test_x)\n",
        "prediction_pooled = [1 if i > .5 else 0 for i in pred_y]"
      ],
      "metadata": {
        "colab": {
          "base_uri": "https://localhost:8080/"
        },
        "id": "pHFeFf8suDEK",
        "outputId": "ec000342-27cf-4449-8c6a-df6ca4d4aedd"
      },
      "execution_count": null,
      "outputs": [
        {
          "output_type": "stream",
          "name": "stdout",
          "text": [
            "16/16 [==============================] - 0s 19ms/step\n"
          ]
        }
      ]
    },
    {
      "cell_type": "code",
      "source": [
        "sns.heatmap(confusion_matrix(test_y, prediction_pooled), annot=True)"
      ],
      "metadata": {
        "colab": {
          "base_uri": "https://localhost:8080/",
          "height": 283
        },
        "id": "6EIfIF4kuIXE",
        "outputId": "ec2a4e98-bb1f-4839-d261-5637ca88d0bc"
      },
      "execution_count": null,
      "outputs": [
        {
          "output_type": "execute_result",
          "data": {
            "text/plain": [
              "<matplotlib.axes._subplots.AxesSubplot at 0x7f70431b7370>"
            ]
          },
          "metadata": {},
          "execution_count": 24
        },
        {
          "output_type": "display_data",
          "data": {
            "text/plain": [
              "<Figure size 432x288 with 2 Axes>"
            ],
            "image/png": "[encoded data removed]"
          },
          "metadata": {
            "needs_background": "light"
          }
        }
      ]
    },
    {
      "cell_type": "code",
      "source": [
        "print(classification_report(test_y, prediction_pooled)) # 0.46KK params"
      ],
      "metadata": {
        "colab": {
          "base_uri": "https://localhost:8080/"
        },
        "id": "AqK3sEiPuHAW",
        "outputId": "f63ec973-8d3b-48ec-d97c-5f7fae7d11d0"
      },
      "execution_count": null,
      "outputs": [
        {
          "output_type": "stream",
          "name": "stdout",
          "text": [
            "              precision    recall  f1-score   support\n",
            "\n",
            "           0       0.99      0.91      0.95       244\n",
            "           1       0.91      0.99      0.95       238\n",
            "\n",
            "    accuracy                           0.95       482\n",
            "   macro avg       0.95      0.95      0.95       482\n",
            "weighted avg       0.95      0.95      0.95       482\n",
            "\n"
          ]
        }
      ]
    },
    {
      "cell_type": "code",
      "source": [
        "print(classification_report(test_y, prediction)) # 7.62KK params"
      ],
      "metadata": {
        "colab": {
          "base_uri": "https://localhost:8080/"
        },
        "id": "3nrDHFDIuM0Z",
        "outputId": "ffe2d385-c386-4632-e185-6a3f3084ed82"
      },
      "execution_count": null,
      "outputs": [
        {
          "output_type": "stream",
          "name": "stdout",
          "text": [
            "              precision    recall  f1-score   support\n",
            "\n",
            "           0       0.94      0.90      0.92       244\n",
            "           1       0.90      0.95      0.92       238\n",
            "\n",
            "    accuracy                           0.92       482\n",
            "   macro avg       0.92      0.92      0.92       482\n",
            "weighted avg       0.92      0.92      0.92       482\n",
            "\n"
          ]
        }
      ]
    }
  ]
}