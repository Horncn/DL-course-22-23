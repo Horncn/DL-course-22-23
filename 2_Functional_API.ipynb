{
  "cells": [
    {
      "cell_type": "code",
      "source": [
        "!pip install imbalanced-learn"
      ],
      "metadata": {
        "id": "T7yb9xf6D96R"
      },
      "id": "T7yb9xf6D96R",
      "execution_count": null,
      "outputs": []
    },
    {
      "cell_type": "code",
      "execution_count": 2,
      "id": "82b28451",
      "metadata": {
        "id": "82b28451",
        "colab": {
          "base_uri": "https://localhost:8080/"
        },
        "outputId": "77868e7a-08b2-49f0-aa81-2e9d5f9108f4"
      },
      "outputs": [
        {
          "output_type": "stream",
          "name": "stderr",
          "text": [
            "/usr/local/lib/python3.9/dist-packages/torch/cuda/__init__.py:497: UserWarning: Can't initialize NVML\n",
            "  warnings.warn(\"Can't initialize NVML\")\n"
          ]
        }
      ],
      "source": [
        "import spacy\n",
        "import pandas as pd\n",
        "import matplotlib.pyplot as plt\n",
        "import numpy as np\n",
        "import seaborn as sns\n",
        "import tensorflow as tf\n",
        "import re\n",
        "\n",
        "from imblearn.over_sampling import SMOTE\n",
        "from collections import Counter\n",
        "from gensim.models.doc2vec import Doc2Vec, TaggedDocument\n",
        "from tqdm import tqdm_notebook as tqdm\n",
        "from tensorflow import keras\n",
        "from sklearn.decomposition import PCA\n",
        "from sklearn.model_selection import train_test_split\n",
        "from sklearn.metrics import confusion_matrix, classification_report\n",
        "from sklearn.preprocessing import LabelEncoder"
      ]
    },
    {
      "cell_type": "code",
      "source": [
        "!python -m spacy download ru_core_news_lg"
      ],
      "metadata": {
        "id": "Zhyfo8tSXLoh"
      },
      "id": "Zhyfo8tSXLoh",
      "execution_count": null,
      "outputs": []
    },
    {
      "cell_type": "markdown",
      "source": [
        "This time we will classify russian texts so it's important to lemmatize them. <br>For this i will use spacy library\n"
      ],
      "metadata": {
        "id": "0eGvf9HpPMmu"
      },
      "id": "0eGvf9HpPMmu"
    },
    {
      "cell_type": "code",
      "source": [
        "nlp = spacy.load(\"ru_core_news_lg\")\n",
        "nlp.disable_pipes('ner', 'parser', 'attribute_ruler')\n",
        "nlp.add_pipe('sentencizer')\n",
        "print(nlp.pipe_names)"
      ],
      "metadata": {
        "id": "OsMCVJruW-D-",
        "colab": {
          "base_uri": "https://localhost:8080/"
        },
        "outputId": "1c22191c-c122-4557-cc55-f23f9d72f0a8"
      },
      "id": "OsMCVJruW-D-",
      "execution_count": 4,
      "outputs": [
        {
          "output_type": "stream",
          "name": "stdout",
          "text": [
            "['tok2vec', 'morphologizer', 'lemmatizer', 'sentencizer']\n"
          ]
        }
      ]
    },
    {
      "cell_type": "markdown",
      "source": [
        "This is a simple text tonal classification"
      ],
      "metadata": {
        "id": "Mh81cibMQDMJ"
      },
      "id": "Mh81cibMQDMJ"
    },
    {
      "cell_type": "code",
      "execution_count": 5,
      "id": "b956c071",
      "metadata": {
        "scrolled": true,
        "colab": {
          "base_uri": "https://localhost:8080/",
          "height": 424
        },
        "id": "b956c071",
        "outputId": "fd00bcc8-f7d6-404c-f567-7828cd297d72"
      },
      "outputs": [
        {
          "output_type": "execute_result",
          "data": {
            "text/plain": [
              "     Column1        date                                               text  \\\n",
              "0        0.0  31.12.2019  Почему закрыта тема с отзывами? Российские жел...   \n",
              "1        1.0  31.12.2019  Хочу выразить благодарность проводнице Ольге, ...   \n",
              "2        2.0  02.01.2020          хорошая техподдержка, ответы развёрнутые.   \n",
              "3        3.0  03.01.2020        Очень понравилось на поезде было 30.12.2019   \n",
              "4        4.0  04.01.2020  К сожалению, у меня сложное аутоиммунное забол...   \n",
              "..       ...         ...                                                ...   \n",
              "785    784.0  28.12.2021  РЖД какими вы были такими и остались ! ехали п...   \n",
              "786    785.0  29.12.2021  Как можно разрешить провозить животных в купе ...   \n",
              "787    786.0  30.12.2021  Добрый день, всегда уезжаем с Курского вокзала...   \n",
              "788    787.0  31.12.2021  Не очень люблю поезда, особенно плацкарт , но ...   \n",
              "789    788.0  01.01.2022  Хочу выразить благодарность проводникам поезда...   \n",
              "\n",
              "        label  \n",
              "0    negative  \n",
              "1    positive  \n",
              "2    positive  \n",
              "3    positive  \n",
              "4    negative  \n",
              "..        ...  \n",
              "785  negative  \n",
              "786  negative  \n",
              "787  negative  \n",
              "788  positive  \n",
              "789  positive  \n",
              "\n",
              "[790 rows x 4 columns]"
            ],
            "text/html": [
              "\n",
              "  <div id=\"df-1db5b331-8c25-4ecb-82b0-b936e9c47d3c\">\n",
              "    <div class=\"colab-df-container\">\n",
              "      <div>\n",
              "<style scoped>\n",
              "    .dataframe tbody tr th:only-of-type {\n",
              "        vertical-align: middle;\n",
              "    }\n",
              "\n",
              "    .dataframe tbody tr th {\n",
              "        vertical-align: top;\n",
              "    }\n",
              "\n",
              "    .dataframe thead th {\n",
              "        text-align: right;\n",
              "    }\n",
              "</style>\n",
              "<table border=\"1\" class=\"dataframe\">\n",
              "  <thead>\n",
              "    <tr style=\"text-align: right;\">\n",
              "      <th></th>\n",
              "      <th>Column1</th>\n",
              "      <th>date</th>\n",
              "      <th>text</th>\n",
              "      <th>label</th>\n",
              "    </tr>\n",
              "  </thead>\n",
              "  <tbody>\n",
              "    <tr>\n",
              "      <th>0</th>\n",
              "      <td>0.0</td>\n",
              "      <td>31.12.2019</td>\n",
              "      <td>Почему закрыта тема с отзывами? Российские жел...</td>\n",
              "      <td>negative</td>\n",
              "    </tr>\n",
              "    <tr>\n",
              "      <th>1</th>\n",
              "      <td>1.0</td>\n",
              "      <td>31.12.2019</td>\n",
              "      <td>Хочу выразить благодарность проводнице Ольге, ...</td>\n",
              "      <td>positive</td>\n",
              "    </tr>\n",
              "    <tr>\n",
              "      <th>2</th>\n",
              "      <td>2.0</td>\n",
              "      <td>02.01.2020</td>\n",
              "      <td>хорошая техподдержка, ответы развёрнутые.</td>\n",
              "      <td>positive</td>\n",
              "    </tr>\n",
              "    <tr>\n",
              "      <th>3</th>\n",
              "      <td>3.0</td>\n",
              "      <td>03.01.2020</td>\n",
              "      <td>Очень понравилось на поезде было 30.12.2019</td>\n",
              "      <td>positive</td>\n",
              "    </tr>\n",
              "    <tr>\n",
              "      <th>4</th>\n",
              "      <td>4.0</td>\n",
              "      <td>04.01.2020</td>\n",
              "      <td>К сожалению, у меня сложное аутоиммунное забол...</td>\n",
              "      <td>negative</td>\n",
              "    </tr>\n",
              "    <tr>\n",
              "      <th>...</th>\n",
              "      <td>...</td>\n",
              "      <td>...</td>\n",
              "      <td>...</td>\n",
              "      <td>...</td>\n",
              "    </tr>\n",
              "    <tr>\n",
              "      <th>785</th>\n",
              "      <td>784.0</td>\n",
              "      <td>28.12.2021</td>\n",
              "      <td>РЖД какими вы были такими и остались ! ехали п...</td>\n",
              "      <td>negative</td>\n",
              "    </tr>\n",
              "    <tr>\n",
              "      <th>786</th>\n",
              "      <td>785.0</td>\n",
              "      <td>29.12.2021</td>\n",
              "      <td>Как можно разрешить провозить животных в купе ...</td>\n",
              "      <td>negative</td>\n",
              "    </tr>\n",
              "    <tr>\n",
              "      <th>787</th>\n",
              "      <td>786.0</td>\n",
              "      <td>30.12.2021</td>\n",
              "      <td>Добрый день, всегда уезжаем с Курского вокзала...</td>\n",
              "      <td>negative</td>\n",
              "    </tr>\n",
              "    <tr>\n",
              "      <th>788</th>\n",
              "      <td>787.0</td>\n",
              "      <td>31.12.2021</td>\n",
              "      <td>Не очень люблю поезда, особенно плацкарт , но ...</td>\n",
              "      <td>positive</td>\n",
              "    </tr>\n",
              "    <tr>\n",
              "      <th>789</th>\n",
              "      <td>788.0</td>\n",
              "      <td>01.01.2022</td>\n",
              "      <td>Хочу выразить благодарность проводникам поезда...</td>\n",
              "      <td>positive</td>\n",
              "    </tr>\n",
              "  </tbody>\n",
              "</table>\n",
              "<p>790 rows × 4 columns</p>\n",
              "</div>\n",
              "      <button class=\"colab-df-convert\" onclick=\"convertToInteractive('df-1db5b331-8c25-4ecb-82b0-b936e9c47d3c')\"\n",
              "              title=\"Convert this dataframe to an interactive table.\"\n",
              "              style=\"display:none;\">\n",
              "        \n",
              "  <svg xmlns=\"http://www.w3.org/2000/svg\" height=\"24px\"viewBox=\"0 0 24 24\"\n",
              "       width=\"24px\">\n",
              "    <path d=\"M0 0h24v24H0V0z\" fill=\"none\"/>\n",
              "    <path d=\"M18.56 5.44l.94 2.06.94-2.06 2.06-.94-2.06-.94-.94-2.06-.94 2.06-2.06.94zm-11 1L8.5 8.5l.94-2.06 2.06-.94-2.06-.94L8.5 2.5l-.94 2.06-2.06.94zm10 10l.94 2.06.94-2.06 2.06-.94-2.06-.94-.94-2.06-.94 2.06-2.06.94z\"/><path d=\"M17.41 7.96l-1.37-1.37c-.4-.4-.92-.59-1.43-.59-.52 0-1.04.2-1.43.59L10.3 9.45l-7.72 7.72c-.78.78-.78 2.05 0 2.83L4 21.41c.39.39.9.59 1.41.59.51 0 1.02-.2 1.41-.59l7.78-7.78 2.81-2.81c.8-.78.8-2.07 0-2.86zM5.41 20L4 18.59l7.72-7.72 1.47 1.35L5.41 20z\"/>\n",
              "  </svg>\n",
              "      </button>\n",
              "      \n",
              "  <style>\n",
              "    .colab-df-container {\n",
              "      display:flex;\n",
              "      flex-wrap:wrap;\n",
              "      gap: 12px;\n",
              "    }\n",
              "\n",
              "    .colab-df-convert {\n",
              "      background-color: #E8F0FE;\n",
              "      border: none;\n",
              "      border-radius: 50%;\n",
              "      cursor: pointer;\n",
              "      display: none;\n",
              "      fill: #1967D2;\n",
              "      height: 32px;\n",
              "      padding: 0 0 0 0;\n",
              "      width: 32px;\n",
              "    }\n",
              "\n",
              "    .colab-df-convert:hover {\n",
              "      background-color: #E2EBFA;\n",
              "      box-shadow: 0px 1px 2px rgba(60, 64, 67, 0.3), 0px 1px 3px 1px rgba(60, 64, 67, 0.15);\n",
              "      fill: #174EA6;\n",
              "    }\n",
              "\n",
              "    [theme=dark] .colab-df-convert {\n",
              "      background-color: #3B4455;\n",
              "      fill: #D2E3FC;\n",
              "    }\n",
              "\n",
              "    [theme=dark] .colab-df-convert:hover {\n",
              "      background-color: #434B5C;\n",
              "      box-shadow: 0px 1px 3px 1px rgba(0, 0, 0, 0.15);\n",
              "      filter: drop-shadow(0px 1px 2px rgba(0, 0, 0, 0.3));\n",
              "      fill: #FFFFFF;\n",
              "    }\n",
              "  </style>\n",
              "\n",
              "      <script>\n",
              "        const buttonEl =\n",
              "          document.querySelector('#df-1db5b331-8c25-4ecb-82b0-b936e9c47d3c button.colab-df-convert');\n",
              "        buttonEl.style.display =\n",
              "          google.colab.kernel.accessAllowed ? 'block' : 'none';\n",
              "\n",
              "        async function convertToInteractive(key) {\n",
              "          const element = document.querySelector('#df-1db5b331-8c25-4ecb-82b0-b936e9c47d3c');\n",
              "          const dataTable =\n",
              "            await google.colab.kernel.invokeFunction('convertToInteractive',\n",
              "                                                     [key], {});\n",
              "          if (!dataTable) return;\n",
              "\n",
              "          const docLinkHtml = 'Like what you see? Visit the ' +\n",
              "            '<a target=\"_blank\" href=https://colab.research.google.com/notebooks/data_table.ipynb>data table notebook</a>'\n",
              "            + ' to learn more about interactive tables.';\n",
              "          element.innerHTML = '';\n",
              "          dataTable['output_type'] = 'display_data';\n",
              "          await google.colab.output.renderOutput(dataTable, element);\n",
              "          const docLink = document.createElement('div');\n",
              "          docLink.innerHTML = docLinkHtml;\n",
              "          element.appendChild(docLink);\n",
              "        }\n",
              "      </script>\n",
              "    </div>\n",
              "  </div>\n",
              "  "
            ]
          },
          "metadata": {},
          "execution_count": 5
        }
      ],
      "source": [
        "df = pd.read_csv('Rzd_official_labeled.csv', sep=';', encoding='utf8')\n",
        "df"
      ]
    },
    {
      "cell_type": "code",
      "execution_count": 6,
      "id": "750a373e",
      "metadata": {
        "colab": {
          "base_uri": "https://localhost:8080/"
        },
        "id": "750a373e",
        "outputId": "59f55f66-2948-4a80-8910-cb6b0170e8eb"
      },
      "outputs": [
        {
          "output_type": "execute_result",
          "data": {
            "text/plain": [
              "array(['negative', 'positive', 'neutral'], dtype=object)"
            ]
          },
          "metadata": {},
          "execution_count": 6
        }
      ],
      "source": [
        "df['label'].unique()"
      ]
    },
    {
      "cell_type": "code",
      "execution_count": 7,
      "id": "c01d3b8e",
      "metadata": {
        "scrolled": true,
        "colab": {
          "base_uri": "https://localhost:8080/",
          "height": 424
        },
        "id": "c01d3b8e",
        "outputId": "64acfa47-6f86-4973-d56c-8b479166ed86"
      },
      "outputs": [
        {
          "output_type": "execute_result",
          "data": {
            "text/plain": [
              "                                                  text  label\n",
              "0    Почему закрыта тема с отзывами? Российские жел...      0\n",
              "1    Хочу выразить благодарность проводнице Ольге, ...      2\n",
              "2            хорошая техподдержка, ответы развёрнутые.      2\n",
              "3          Очень понравилось на поезде было 30.12.2019      2\n",
              "4    К сожалению, у меня сложное аутоиммунное забол...      0\n",
              "..                                                 ...    ...\n",
              "785  РЖД какими вы были такими и остались ! ехали п...      0\n",
              "786  Как можно разрешить провозить животных в купе ...      0\n",
              "787  Добрый день, всегда уезжаем с Курского вокзала...      0\n",
              "788  Не очень люблю поезда, особенно плацкарт , но ...      2\n",
              "789  Хочу выразить благодарность проводникам поезда...      2\n",
              "\n",
              "[790 rows x 2 columns]"
            ],
            "text/html": [
              "\n",
              "  <div id=\"df-c66f0263-c50c-4e3d-afbc-362ddfcae4e1\">\n",
              "    <div class=\"colab-df-container\">\n",
              "      <div>\n",
              "<style scoped>\n",
              "    .dataframe tbody tr th:only-of-type {\n",
              "        vertical-align: middle;\n",
              "    }\n",
              "\n",
              "    .dataframe tbody tr th {\n",
              "        vertical-align: top;\n",
              "    }\n",
              "\n",
              "    .dataframe thead th {\n",
              "        text-align: right;\n",
              "    }\n",
              "</style>\n",
              "<table border=\"1\" class=\"dataframe\">\n",
              "  <thead>\n",
              "    <tr style=\"text-align: right;\">\n",
              "      <th></th>\n",
              "      <th>text</th>\n",
              "      <th>label</th>\n",
              "    </tr>\n",
              "  </thead>\n",
              "  <tbody>\n",
              "    <tr>\n",
              "      <th>0</th>\n",
              "      <td>Почему закрыта тема с отзывами? Российские жел...</td>\n",
              "      <td>0</td>\n",
              "    </tr>\n",
              "    <tr>\n",
              "      <th>1</th>\n",
              "      <td>Хочу выразить благодарность проводнице Ольге, ...</td>\n",
              "      <td>2</td>\n",
              "    </tr>\n",
              "    <tr>\n",
              "      <th>2</th>\n",
              "      <td>хорошая техподдержка, ответы развёрнутые.</td>\n",
              "      <td>2</td>\n",
              "    </tr>\n",
              "    <tr>\n",
              "      <th>3</th>\n",
              "      <td>Очень понравилось на поезде было 30.12.2019</td>\n",
              "      <td>2</td>\n",
              "    </tr>\n",
              "    <tr>\n",
              "      <th>4</th>\n",
              "      <td>К сожалению, у меня сложное аутоиммунное забол...</td>\n",
              "      <td>0</td>\n",
              "    </tr>\n",
              "    <tr>\n",
              "      <th>...</th>\n",
              "      <td>...</td>\n",
              "      <td>...</td>\n",
              "    </tr>\n",
              "    <tr>\n",
              "      <th>785</th>\n",
              "      <td>РЖД какими вы были такими и остались ! ехали п...</td>\n",
              "      <td>0</td>\n",
              "    </tr>\n",
              "    <tr>\n",
              "      <th>786</th>\n",
              "      <td>Как можно разрешить провозить животных в купе ...</td>\n",
              "      <td>0</td>\n",
              "    </tr>\n",
              "    <tr>\n",
              "      <th>787</th>\n",
              "      <td>Добрый день, всегда уезжаем с Курского вокзала...</td>\n",
              "      <td>0</td>\n",
              "    </tr>\n",
              "    <tr>\n",
              "      <th>788</th>\n",
              "      <td>Не очень люблю поезда, особенно плацкарт , но ...</td>\n",
              "      <td>2</td>\n",
              "    </tr>\n",
              "    <tr>\n",
              "      <th>789</th>\n",
              "      <td>Хочу выразить благодарность проводникам поезда...</td>\n",
              "      <td>2</td>\n",
              "    </tr>\n",
              "  </tbody>\n",
              "</table>\n",
              "<p>790 rows × 2 columns</p>\n",
              "</div>\n",
              "      <button class=\"colab-df-convert\" onclick=\"convertToInteractive('df-c66f0263-c50c-4e3d-afbc-362ddfcae4e1')\"\n",
              "              title=\"Convert this dataframe to an interactive table.\"\n",
              "              style=\"display:none;\">\n",
              "        \n",
              "  <svg xmlns=\"http://www.w3.org/2000/svg\" height=\"24px\"viewBox=\"0 0 24 24\"\n",
              "       width=\"24px\">\n",
              "    <path d=\"M0 0h24v24H0V0z\" fill=\"none\"/>\n",
              "    <path d=\"M18.56 5.44l.94 2.06.94-2.06 2.06-.94-2.06-.94-.94-2.06-.94 2.06-2.06.94zm-11 1L8.5 8.5l.94-2.06 2.06-.94-2.06-.94L8.5 2.5l-.94 2.06-2.06.94zm10 10l.94 2.06.94-2.06 2.06-.94-2.06-.94-.94-2.06-.94 2.06-2.06.94z\"/><path d=\"M17.41 7.96l-1.37-1.37c-.4-.4-.92-.59-1.43-.59-.52 0-1.04.2-1.43.59L10.3 9.45l-7.72 7.72c-.78.78-.78 2.05 0 2.83L4 21.41c.39.39.9.59 1.41.59.51 0 1.02-.2 1.41-.59l7.78-7.78 2.81-2.81c.8-.78.8-2.07 0-2.86zM5.41 20L4 18.59l7.72-7.72 1.47 1.35L5.41 20z\"/>\n",
              "  </svg>\n",
              "      </button>\n",
              "      \n",
              "  <style>\n",
              "    .colab-df-container {\n",
              "      display:flex;\n",
              "      flex-wrap:wrap;\n",
              "      gap: 12px;\n",
              "    }\n",
              "\n",
              "    .colab-df-convert {\n",
              "      background-color: #E8F0FE;\n",
              "      border: none;\n",
              "      border-radius: 50%;\n",
              "      cursor: pointer;\n",
              "      display: none;\n",
              "      fill: #1967D2;\n",
              "      height: 32px;\n",
              "      padding: 0 0 0 0;\n",
              "      width: 32px;\n",
              "    }\n",
              "\n",
              "    .colab-df-convert:hover {\n",
              "      background-color: #E2EBFA;\n",
              "      box-shadow: 0px 1px 2px rgba(60, 64, 67, 0.3), 0px 1px 3px 1px rgba(60, 64, 67, 0.15);\n",
              "      fill: #174EA6;\n",
              "    }\n",
              "\n",
              "    [theme=dark] .colab-df-convert {\n",
              "      background-color: #3B4455;\n",
              "      fill: #D2E3FC;\n",
              "    }\n",
              "\n",
              "    [theme=dark] .colab-df-convert:hover {\n",
              "      background-color: #434B5C;\n",
              "      box-shadow: 0px 1px 3px 1px rgba(0, 0, 0, 0.15);\n",
              "      filter: drop-shadow(0px 1px 2px rgba(0, 0, 0, 0.3));\n",
              "      fill: #FFFFFF;\n",
              "    }\n",
              "  </style>\n",
              "\n",
              "      <script>\n",
              "        const buttonEl =\n",
              "          document.querySelector('#df-c66f0263-c50c-4e3d-afbc-362ddfcae4e1 button.colab-df-convert');\n",
              "        buttonEl.style.display =\n",
              "          google.colab.kernel.accessAllowed ? 'block' : 'none';\n",
              "\n",
              "        async function convertToInteractive(key) {\n",
              "          const element = document.querySelector('#df-c66f0263-c50c-4e3d-afbc-362ddfcae4e1');\n",
              "          const dataTable =\n",
              "            await google.colab.kernel.invokeFunction('convertToInteractive',\n",
              "                                                     [key], {});\n",
              "          if (!dataTable) return;\n",
              "\n",
              "          const docLinkHtml = 'Like what you see? Visit the ' +\n",
              "            '<a target=\"_blank\" href=https://colab.research.google.com/notebooks/data_table.ipynb>data table notebook</a>'\n",
              "            + ' to learn more about interactive tables.';\n",
              "          element.innerHTML = '';\n",
              "          dataTable['output_type'] = 'display_data';\n",
              "          await google.colab.output.renderOutput(dataTable, element);\n",
              "          const docLink = document.createElement('div');\n",
              "          docLink.innerHTML = docLinkHtml;\n",
              "          element.appendChild(docLink);\n",
              "        }\n",
              "      </script>\n",
              "    </div>\n",
              "  </div>\n",
              "  "
            ]
          },
          "metadata": {},
          "execution_count": 7
        }
      ],
      "source": [
        "labels = {'negative': 0, 'neutral' : 1, 'positive': 2}\n",
        "enc = LabelEncoder()\n",
        "df['label'] = enc.fit_transform(df['label'])\n",
        "df = df.drop('Column1', axis=1)\n",
        "df = df.drop('date', axis=1)\n",
        "df"
      ]
    },
    {
      "cell_type": "markdown",
      "source": [
        "This time we can get rid of not only stop words but also of any word that doesn't have significant meaning in text.<br> I decided to use only verbs, nouns, adjectives and adverbs"
      ],
      "metadata": {
        "id": "N5edkyxBPilv"
      },
      "id": "N5edkyxBPilv"
    },
    {
      "cell_type": "code",
      "source": [
        "all_words = [] # list for all words in all texts\n",
        "for row_index, row in tqdm(df.iterrows()):\n",
        "\n",
        "  text = row['text']\n",
        "  clear = re.findall('[а-я]+', text.lower()) # all words in one text\n",
        "\n",
        "  for i, word in enumerate(clear):\n",
        "    word_processed = nlp(word)[0]\n",
        "    if word_processed.pos_ not in ['VERB', 'NOUN', 'ADJ', 'ADV']:\n",
        "      clear.remove(word)\n",
        "    else:\n",
        "      clear[i] = word_processed.lemma_\n",
        "\n",
        "  all_words.extend(clear)\n",
        "      \n",
        "  clear = ' '.join(clear)\n",
        "  df.loc[row_index, 'text'] = clear"
      ],
      "metadata": {
        "colab": {
          "base_uri": "https://localhost:8080/",
          "height": 101,
          "referenced_widgets": [
            "fa8cbd1353e64cc2910fd59be215c6b2",
            "25b0ad69e4624e97aa300572ead40ab0",
            "b24bd1fbcce2419c85fd11bdd0809547",
            "a499c3a4d6cc47a7adedfae70a8b0379",
            "6df38c1061cd467082057cceacae3c85",
            "42eee8d82f8a42e0936645126a2cb042",
            "4f5cdad9cd7646cea780be4619eab547",
            "1d8ec34056f2448c9653784aa6ad362a",
            "b95aa33ad97645eca882960108c51f95",
            "802b3a0471e647d18cc3bccd04ff4661",
            "bd5e5a8d30ab42979c7eb20cb26787fb"
          ]
        },
        "id": "x-lEGPpITXQS",
        "outputId": "afc0ab3a-8b94-4c8e-9eb9-eaab9563e099"
      },
      "id": "x-lEGPpITXQS",
      "execution_count": 8,
      "outputs": [
        {
          "output_type": "stream",
          "name": "stderr",
          "text": [
            "<ipython-input-8-e625a7d03d7c>:2: TqdmDeprecationWarning: This function will be removed in tqdm==5.0.0\n",
            "Please use `tqdm.notebook.tqdm` instead of `tqdm.tqdm_notebook`\n",
            "  for row_index, row in tqdm(df.iterrows()):\n"
          ]
        },
        {
          "output_type": "display_data",
          "data": {
            "text/plain": [
              "0it [00:00, ?it/s]"
            ],
            "application/vnd.jupyter.widget-view+json": {
              "version_major": 2,
              "version_minor": 0,
              "model_id": "fa8cbd1353e64cc2910fd59be215c6b2"
            }
          },
          "metadata": {}
        }
      ]
    },
    {
      "cell_type": "code",
      "source": [
        "word_count = Counter(all_words)\n",
        "len(word_count)"
      ],
      "metadata": {
        "colab": {
          "base_uri": "https://localhost:8080/"
        },
        "id": "MDh4-aFYTqq2",
        "outputId": "88327f31-53ed-4d6a-a4a9-7d7511d57885"
      },
      "id": "MDh4-aFYTqq2",
      "execution_count": 9,
      "outputs": [
        {
          "output_type": "execute_result",
          "data": {
            "text/plain": [
              "8001"
            ]
          },
          "metadata": {},
          "execution_count": 9
        }
      ]
    },
    {
      "cell_type": "code",
      "source": [
        "all_words = [i[0] for i in word_count.most_common(500)]"
      ],
      "metadata": {
        "id": "eYufVlcvfpAj"
      },
      "id": "eYufVlcvfpAj",
      "execution_count": 10,
      "outputs": []
    },
    {
      "cell_type": "markdown",
      "source": [
        "This time I will use one hot encoding and mean text embedding vector"
      ],
      "metadata": {
        "id": "b9SLKvAwQVyF"
      },
      "id": "b9SLKvAwQVyF"
    },
    {
      "cell_type": "code",
      "execution_count": 11,
      "id": "3c19a6d9",
      "metadata": {
        "id": "3c19a6d9"
      },
      "outputs": [],
      "source": [
        "def get_embeddings(doc):\n",
        "    text_embeddings = []\n",
        "    for sent in doc.sents:\n",
        "        sent_embeddings = []\n",
        "        for token in sent:\n",
        "              sent_embeddings.append(token.vector)\n",
        "        text_embeddings.append(np.mean(sent_embeddings, axis=0))\n",
        "    text_embeddings = np.mean(text_embeddings, axis=0)\n",
        "    if np.isnan(text_embeddings[0]):\n",
        "        text_embeddings = [0 for _ in range(300)]\n",
        "    return text_embeddings"
      ]
    },
    {
      "cell_type": "code",
      "execution_count": 12,
      "id": "7beb3bae",
      "metadata": {
        "scrolled": true,
        "colab": {
          "base_uri": "https://localhost:8080/",
          "height": 508,
          "referenced_widgets": [
            "1f08e794ced143658d82b8687d0424e1",
            "1ff5ef28e31e46f9872d9274480d5b5c",
            "35969612c3ea48bbb3039309306921a4",
            "9366efdffe8544a3b0da5b1bd3b1dd29",
            "f32c57b4de324c9fb616632c2db076b2",
            "c96880b140b7422da4749ba999d7a03a",
            "c7986e7cdda54cdf8998136605039389",
            "8dcfd7be211d4835bea8f599bf9908e8",
            "0431388d006945398f4c61d1902b1698",
            "42e1f12bb7514f639cb0017a67451d5f",
            "09f5e10f8d87451a853ed6de8933273e"
          ]
        },
        "id": "7beb3bae",
        "outputId": "18ddcbcd-2567-41d1-c658-4afb74ef7aa8"
      },
      "outputs": [
        {
          "output_type": "stream",
          "name": "stderr",
          "text": [
            "<ipython-input-12-221edbea899a>:6: TqdmDeprecationWarning: This function will be removed in tqdm==5.0.0\n",
            "Please use `tqdm.notebook.tqdm` instead of `tqdm.tqdm_notebook`\n",
            "  for row in tqdm(df.iterrows()):\n"
          ]
        },
        {
          "output_type": "display_data",
          "data": {
            "text/plain": [
              "0it [00:00, ?it/s]"
            ],
            "application/vnd.jupyter.widget-view+json": {
              "version_major": 2,
              "version_minor": 0,
              "model_id": "1f08e794ced143658d82b8687d0424e1"
            }
          },
          "metadata": {}
        },
        {
          "output_type": "execute_result",
          "data": {
            "text/plain": [
              "     target  поезд  вагон  проводник  благодарность  очень  спасибо  хотеть  \\\n",
              "0       0.0    0.0    0.0        0.0            1.0    0.0      0.0     1.0   \n",
              "1       2.0    0.0    0.0        0.0            1.0    0.0      0.0     1.0   \n",
              "2       2.0    0.0    0.0        0.0            0.0    0.0      0.0     0.0   \n",
              "3       2.0    1.0    0.0        0.0            0.0    1.0      0.0     0.0   \n",
              "4       0.0    1.0    1.0        1.0            0.0    1.0      0.0     0.0   \n",
              "..      ...    ...    ...        ...            ...    ...      ...     ...   \n",
              "785     0.0    1.0    1.0        0.0            0.0    0.0      0.0     0.0   \n",
              "786     0.0    0.0    0.0        0.0            0.0    0.0      0.0     0.0   \n",
              "787     0.0    1.0    0.0        0.0            0.0    0.0      0.0     0.0   \n",
              "788     2.0    1.0    0.0        1.0            0.0    1.0      0.0     0.0   \n",
              "789     2.0    1.0    1.0        1.0            1.0    0.0      1.0     1.0   \n",
              "\n",
              "      не    в  ...    emb290    emb291    emb292    emb293    emb294  \\\n",
              "0    0.0  0.0  ... -0.046293 -0.094585 -0.060675 -0.055240  0.044505   \n",
              "1    0.0  0.0  ...  0.041505  0.000172 -0.003579  0.037415  0.020476   \n",
              "2    0.0  0.0  ...  0.018695  0.035979  0.014072  0.185444  0.085146   \n",
              "3    0.0  0.0  ...  0.168371 -0.030380  0.173095  0.079510  0.072834   \n",
              "4    0.0  0.0  ... -0.003861 -0.043366 -0.086095  0.023390  0.104285   \n",
              "..   ...  ...  ...       ...       ...       ...       ...       ...   \n",
              "785  0.0  0.0  ...  0.181041 -0.122644 -0.035411 -0.065974  0.026523   \n",
              "786  0.0  0.0  ... -0.028848  0.011739 -0.019917  0.021451  0.030988   \n",
              "787  0.0  0.0  ... -0.008558  0.014000 -0.033029  0.020796  0.119113   \n",
              "788  0.0  0.0  ... -0.015774 -0.044644 -0.000763  0.036157  0.180875   \n",
              "789  0.0  0.0  ... -0.162577 -0.027895  0.007568  0.119121  0.063961   \n",
              "\n",
              "       emb295    emb296    emb297    emb298    emb299  \n",
              "0   -0.199965 -0.035849 -0.188020 -0.019136  0.085002  \n",
              "1   -0.242183 -0.087631 -0.252549 -0.112141  0.155302  \n",
              "2   -0.171517 -0.039567 -0.111265 -0.070034  0.120835  \n",
              "3   -0.106007 -0.105059 -0.023677  0.091557  0.194914  \n",
              "4   -0.209324 -0.008774 -0.192556 -0.067579  0.148934  \n",
              "..        ...       ...       ...       ...       ...  \n",
              "785 -0.126840 -0.110005 -0.301810  0.047933  0.124252  \n",
              "786 -0.140008 -0.129000 -0.185136 -0.164137  0.114840  \n",
              "787 -0.127923 -0.056526 -0.203359 -0.021196  0.144174  \n",
              "788 -0.201974 -0.049862 -0.201598 -0.036821  0.136691  \n",
              "789 -0.102207 -0.044354 -0.271373 -0.017173  0.075831  \n",
              "\n",
              "[790 rows x 801 columns]"
            ],
            "text/html": [
              "\n",
              "  <div id=\"df-04ac19b5-79cf-4175-bf66-8a97134bde7b\">\n",
              "    <div class=\"colab-df-container\">\n",
              "      <div>\n",
              "<style scoped>\n",
              "    .dataframe tbody tr th:only-of-type {\n",
              "        vertical-align: middle;\n",
              "    }\n",
              "\n",
              "    .dataframe tbody tr th {\n",
              "        vertical-align: top;\n",
              "    }\n",
              "\n",
              "    .dataframe thead th {\n",
              "        text-align: right;\n",
              "    }\n",
              "</style>\n",
              "<table border=\"1\" class=\"dataframe\">\n",
              "  <thead>\n",
              "    <tr style=\"text-align: right;\">\n",
              "      <th></th>\n",
              "      <th>target</th>\n",
              "      <th>поезд</th>\n",
              "      <th>вагон</th>\n",
              "      <th>проводник</th>\n",
              "      <th>благодарность</th>\n",
              "      <th>очень</th>\n",
              "      <th>спасибо</th>\n",
              "      <th>хотеть</th>\n",
              "      <th>не</th>\n",
              "      <th>в</th>\n",
              "      <th>...</th>\n",
              "      <th>emb290</th>\n",
              "      <th>emb291</th>\n",
              "      <th>emb292</th>\n",
              "      <th>emb293</th>\n",
              "      <th>emb294</th>\n",
              "      <th>emb295</th>\n",
              "      <th>emb296</th>\n",
              "      <th>emb297</th>\n",
              "      <th>emb298</th>\n",
              "      <th>emb299</th>\n",
              "    </tr>\n",
              "  </thead>\n",
              "  <tbody>\n",
              "    <tr>\n",
              "      <th>0</th>\n",
              "      <td>0.0</td>\n",
              "      <td>0.0</td>\n",
              "      <td>0.0</td>\n",
              "      <td>0.0</td>\n",
              "      <td>1.0</td>\n",
              "      <td>0.0</td>\n",
              "      <td>0.0</td>\n",
              "      <td>1.0</td>\n",
              "      <td>0.0</td>\n",
              "      <td>0.0</td>\n",
              "      <td>...</td>\n",
              "      <td>-0.046293</td>\n",
              "      <td>-0.094585</td>\n",
              "      <td>-0.060675</td>\n",
              "      <td>-0.055240</td>\n",
              "      <td>0.044505</td>\n",
              "      <td>-0.199965</td>\n",
              "      <td>-0.035849</td>\n",
              "      <td>-0.188020</td>\n",
              "      <td>-0.019136</td>\n",
              "      <td>0.085002</td>\n",
              "    </tr>\n",
              "    <tr>\n",
              "      <th>1</th>\n",
              "      <td>2.0</td>\n",
              "      <td>0.0</td>\n",
              "      <td>0.0</td>\n",
              "      <td>0.0</td>\n",
              "      <td>1.0</td>\n",
              "      <td>0.0</td>\n",
              "      <td>0.0</td>\n",
              "      <td>1.0</td>\n",
              "      <td>0.0</td>\n",
              "      <td>0.0</td>\n",
              "      <td>...</td>\n",
              "      <td>0.041505</td>\n",
              "      <td>0.000172</td>\n",
              "      <td>-0.003579</td>\n",
              "      <td>0.037415</td>\n",
              "      <td>0.020476</td>\n",
              "      <td>-0.242183</td>\n",
              "      <td>-0.087631</td>\n",
              "      <td>-0.252549</td>\n",
              "      <td>-0.112141</td>\n",
              "      <td>0.155302</td>\n",
              "    </tr>\n",
              "    <tr>\n",
              "      <th>2</th>\n",
              "      <td>2.0</td>\n",
              "      <td>0.0</td>\n",
              "      <td>0.0</td>\n",
              "      <td>0.0</td>\n",
              "      <td>0.0</td>\n",
              "      <td>0.0</td>\n",
              "      <td>0.0</td>\n",
              "      <td>0.0</td>\n",
              "      <td>0.0</td>\n",
              "      <td>0.0</td>\n",
              "      <td>...</td>\n",
              "      <td>0.018695</td>\n",
              "      <td>0.035979</td>\n",
              "      <td>0.014072</td>\n",
              "      <td>0.185444</td>\n",
              "      <td>0.085146</td>\n",
              "      <td>-0.171517</td>\n",
              "      <td>-0.039567</td>\n",
              "      <td>-0.111265</td>\n",
              "      <td>-0.070034</td>\n",
              "      <td>0.120835</td>\n",
              "    </tr>\n",
              "    <tr>\n",
              "      <th>3</th>\n",
              "      <td>2.0</td>\n",
              "      <td>1.0</td>\n",
              "      <td>0.0</td>\n",
              "      <td>0.0</td>\n",
              "      <td>0.0</td>\n",
              "      <td>1.0</td>\n",
              "      <td>0.0</td>\n",
              "      <td>0.0</td>\n",
              "      <td>0.0</td>\n",
              "      <td>0.0</td>\n",
              "      <td>...</td>\n",
              "      <td>0.168371</td>\n",
              "      <td>-0.030380</td>\n",
              "      <td>0.173095</td>\n",
              "      <td>0.079510</td>\n",
              "      <td>0.072834</td>\n",
              "      <td>-0.106007</td>\n",
              "      <td>-0.105059</td>\n",
              "      <td>-0.023677</td>\n",
              "      <td>0.091557</td>\n",
              "      <td>0.194914</td>\n",
              "    </tr>\n",
              "    <tr>\n",
              "      <th>4</th>\n",
              "      <td>0.0</td>\n",
              "      <td>1.0</td>\n",
              "      <td>1.0</td>\n",
              "      <td>1.0</td>\n",
              "      <td>0.0</td>\n",
              "      <td>1.0</td>\n",
              "      <td>0.0</td>\n",
              "      <td>0.0</td>\n",
              "      <td>0.0</td>\n",
              "      <td>0.0</td>\n",
              "      <td>...</td>\n",
              "      <td>-0.003861</td>\n",
              "      <td>-0.043366</td>\n",
              "      <td>-0.086095</td>\n",
              "      <td>0.023390</td>\n",
              "      <td>0.104285</td>\n",
              "      <td>-0.209324</td>\n",
              "      <td>-0.008774</td>\n",
              "      <td>-0.192556</td>\n",
              "      <td>-0.067579</td>\n",
              "      <td>0.148934</td>\n",
              "    </tr>\n",
              "    <tr>\n",
              "      <th>...</th>\n",
              "      <td>...</td>\n",
              "      <td>...</td>\n",
              "      <td>...</td>\n",
              "      <td>...</td>\n",
              "      <td>...</td>\n",
              "      <td>...</td>\n",
              "      <td>...</td>\n",
              "      <td>...</td>\n",
              "      <td>...</td>\n",
              "      <td>...</td>\n",
              "      <td>...</td>\n",
              "      <td>...</td>\n",
              "      <td>...</td>\n",
              "      <td>...</td>\n",
              "      <td>...</td>\n",
              "      <td>...</td>\n",
              "      <td>...</td>\n",
              "      <td>...</td>\n",
              "      <td>...</td>\n",
              "      <td>...</td>\n",
              "      <td>...</td>\n",
              "    </tr>\n",
              "    <tr>\n",
              "      <th>785</th>\n",
              "      <td>0.0</td>\n",
              "      <td>1.0</td>\n",
              "      <td>1.0</td>\n",
              "      <td>0.0</td>\n",
              "      <td>0.0</td>\n",
              "      <td>0.0</td>\n",
              "      <td>0.0</td>\n",
              "      <td>0.0</td>\n",
              "      <td>0.0</td>\n",
              "      <td>0.0</td>\n",
              "      <td>...</td>\n",
              "      <td>0.181041</td>\n",
              "      <td>-0.122644</td>\n",
              "      <td>-0.035411</td>\n",
              "      <td>-0.065974</td>\n",
              "      <td>0.026523</td>\n",
              "      <td>-0.126840</td>\n",
              "      <td>-0.110005</td>\n",
              "      <td>-0.301810</td>\n",
              "      <td>0.047933</td>\n",
              "      <td>0.124252</td>\n",
              "    </tr>\n",
              "    <tr>\n",
              "      <th>786</th>\n",
              "      <td>0.0</td>\n",
              "      <td>0.0</td>\n",
              "      <td>0.0</td>\n",
              "      <td>0.0</td>\n",
              "      <td>0.0</td>\n",
              "      <td>0.0</td>\n",
              "      <td>0.0</td>\n",
              "      <td>0.0</td>\n",
              "      <td>0.0</td>\n",
              "      <td>0.0</td>\n",
              "      <td>...</td>\n",
              "      <td>-0.028848</td>\n",
              "      <td>0.011739</td>\n",
              "      <td>-0.019917</td>\n",
              "      <td>0.021451</td>\n",
              "      <td>0.030988</td>\n",
              "      <td>-0.140008</td>\n",
              "      <td>-0.129000</td>\n",
              "      <td>-0.185136</td>\n",
              "      <td>-0.164137</td>\n",
              "      <td>0.114840</td>\n",
              "    </tr>\n",
              "    <tr>\n",
              "      <th>787</th>\n",
              "      <td>0.0</td>\n",
              "      <td>1.0</td>\n",
              "      <td>0.0</td>\n",
              "      <td>0.0</td>\n",
              "      <td>0.0</td>\n",
              "      <td>0.0</td>\n",
              "      <td>0.0</td>\n",
              "      <td>0.0</td>\n",
              "      <td>0.0</td>\n",
              "      <td>0.0</td>\n",
              "      <td>...</td>\n",
              "      <td>-0.008558</td>\n",
              "      <td>0.014000</td>\n",
              "      <td>-0.033029</td>\n",
              "      <td>0.020796</td>\n",
              "      <td>0.119113</td>\n",
              "      <td>-0.127923</td>\n",
              "      <td>-0.056526</td>\n",
              "      <td>-0.203359</td>\n",
              "      <td>-0.021196</td>\n",
              "      <td>0.144174</td>\n",
              "    </tr>\n",
              "    <tr>\n",
              "      <th>788</th>\n",
              "      <td>2.0</td>\n",
              "      <td>1.0</td>\n",
              "      <td>0.0</td>\n",
              "      <td>1.0</td>\n",
              "      <td>0.0</td>\n",
              "      <td>1.0</td>\n",
              "      <td>0.0</td>\n",
              "      <td>0.0</td>\n",
              "      <td>0.0</td>\n",
              "      <td>0.0</td>\n",
              "      <td>...</td>\n",
              "      <td>-0.015774</td>\n",
              "      <td>-0.044644</td>\n",
              "      <td>-0.000763</td>\n",
              "      <td>0.036157</td>\n",
              "      <td>0.180875</td>\n",
              "      <td>-0.201974</td>\n",
              "      <td>-0.049862</td>\n",
              "      <td>-0.201598</td>\n",
              "      <td>-0.036821</td>\n",
              "      <td>0.136691</td>\n",
              "    </tr>\n",
              "    <tr>\n",
              "      <th>789</th>\n",
              "      <td>2.0</td>\n",
              "      <td>1.0</td>\n",
              "      <td>1.0</td>\n",
              "      <td>1.0</td>\n",
              "      <td>1.0</td>\n",
              "      <td>0.0</td>\n",
              "      <td>1.0</td>\n",
              "      <td>1.0</td>\n",
              "      <td>0.0</td>\n",
              "      <td>0.0</td>\n",
              "      <td>...</td>\n",
              "      <td>-0.162577</td>\n",
              "      <td>-0.027895</td>\n",
              "      <td>0.007568</td>\n",
              "      <td>0.119121</td>\n",
              "      <td>0.063961</td>\n",
              "      <td>-0.102207</td>\n",
              "      <td>-0.044354</td>\n",
              "      <td>-0.271373</td>\n",
              "      <td>-0.017173</td>\n",
              "      <td>0.075831</td>\n",
              "    </tr>\n",
              "  </tbody>\n",
              "</table>\n",
              "<p>790 rows × 801 columns</p>\n",
              "</div>\n",
              "      <button class=\"colab-df-convert\" onclick=\"convertToInteractive('df-04ac19b5-79cf-4175-bf66-8a97134bde7b')\"\n",
              "              title=\"Convert this dataframe to an interactive table.\"\n",
              "              style=\"display:none;\">\n",
              "        \n",
              "  <svg xmlns=\"http://www.w3.org/2000/svg\" height=\"24px\"viewBox=\"0 0 24 24\"\n",
              "       width=\"24px\">\n",
              "    <path d=\"M0 0h24v24H0V0z\" fill=\"none\"/>\n",
              "    <path d=\"M18.56 5.44l.94 2.06.94-2.06 2.06-.94-2.06-.94-.94-2.06-.94 2.06-2.06.94zm-11 1L8.5 8.5l.94-2.06 2.06-.94-2.06-.94L8.5 2.5l-.94 2.06-2.06.94zm10 10l.94 2.06.94-2.06 2.06-.94-2.06-.94-.94-2.06-.94 2.06-2.06.94z\"/><path d=\"M17.41 7.96l-1.37-1.37c-.4-.4-.92-.59-1.43-.59-.52 0-1.04.2-1.43.59L10.3 9.45l-7.72 7.72c-.78.78-.78 2.05 0 2.83L4 21.41c.39.39.9.59 1.41.59.51 0 1.02-.2 1.41-.59l7.78-7.78 2.81-2.81c.8-.78.8-2.07 0-2.86zM5.41 20L4 18.59l7.72-7.72 1.47 1.35L5.41 20z\"/>\n",
              "  </svg>\n",
              "      </button>\n",
              "      \n",
              "  <style>\n",
              "    .colab-df-container {\n",
              "      display:flex;\n",
              "      flex-wrap:wrap;\n",
              "      gap: 12px;\n",
              "    }\n",
              "\n",
              "    .colab-df-convert {\n",
              "      background-color: #E8F0FE;\n",
              "      border: none;\n",
              "      border-radius: 50%;\n",
              "      cursor: pointer;\n",
              "      display: none;\n",
              "      fill: #1967D2;\n",
              "      height: 32px;\n",
              "      padding: 0 0 0 0;\n",
              "      width: 32px;\n",
              "    }\n",
              "\n",
              "    .colab-df-convert:hover {\n",
              "      background-color: #E2EBFA;\n",
              "      box-shadow: 0px 1px 2px rgba(60, 64, 67, 0.3), 0px 1px 3px 1px rgba(60, 64, 67, 0.15);\n",
              "      fill: #174EA6;\n",
              "    }\n",
              "\n",
              "    [theme=dark] .colab-df-convert {\n",
              "      background-color: #3B4455;\n",
              "      fill: #D2E3FC;\n",
              "    }\n",
              "\n",
              "    [theme=dark] .colab-df-convert:hover {\n",
              "      background-color: #434B5C;\n",
              "      box-shadow: 0px 1px 3px 1px rgba(0, 0, 0, 0.15);\n",
              "      filter: drop-shadow(0px 1px 2px rgba(0, 0, 0, 0.3));\n",
              "      fill: #FFFFFF;\n",
              "    }\n",
              "  </style>\n",
              "\n",
              "      <script>\n",
              "        const buttonEl =\n",
              "          document.querySelector('#df-04ac19b5-79cf-4175-bf66-8a97134bde7b button.colab-df-convert');\n",
              "        buttonEl.style.display =\n",
              "          google.colab.kernel.accessAllowed ? 'block' : 'none';\n",
              "\n",
              "        async function convertToInteractive(key) {\n",
              "          const element = document.querySelector('#df-04ac19b5-79cf-4175-bf66-8a97134bde7b');\n",
              "          const dataTable =\n",
              "            await google.colab.kernel.invokeFunction('convertToInteractive',\n",
              "                                                     [key], {});\n",
              "          if (!dataTable) return;\n",
              "\n",
              "          const docLinkHtml = 'Like what you see? Visit the ' +\n",
              "            '<a target=\"_blank\" href=https://colab.research.google.com/notebooks/data_table.ipynb>data table notebook</a>'\n",
              "            + ' to learn more about interactive tables.';\n",
              "          element.innerHTML = '';\n",
              "          dataTable['output_type'] = 'display_data';\n",
              "          await google.colab.output.renderOutput(dataTable, element);\n",
              "          const docLink = document.createElement('div');\n",
              "          docLink.innerHTML = docLinkHtml;\n",
              "          element.appendChild(docLink);\n",
              "        }\n",
              "      </script>\n",
              "    </div>\n",
              "  </div>\n",
              "  "
            ]
          },
          "metadata": {},
          "execution_count": 12
        }
      ],
      "source": [
        "columns = ['target']\n",
        "columns.extend(all_words)\n",
        "for i in range(300):\n",
        "    columns.append('emb'+ str(i))\n",
        "score_df = pd.DataFrame(columns = columns)\n",
        "for row in tqdm(df.iterrows()):\n",
        "    text = row[1]['text']\n",
        "    doc = nlp(text)\n",
        "    lemmas = [i.lemma_ for i in doc if i.pos_ in ['VERB', 'NOUN', 'ADV', 'ADJ']]\n",
        "    embedding = get_embeddings(doc)\n",
        "    one_hot_text = [1 if i in lemmas else 0 for i in all_words]\n",
        "    numeric = [row[1]['label']]\n",
        "    numeric.extend(one_hot_text)\n",
        "    numeric.extend(embedding)\n",
        "    score_df.loc[len(score_df)] = numeric\n",
        "\n",
        "score_df"
      ]
    },
    {
      "cell_type": "code",
      "execution_count": 13,
      "id": "aaaf7c2e",
      "metadata": {
        "scrolled": true,
        "colab": {
          "base_uri": "https://localhost:8080/"
        },
        "id": "aaaf7c2e",
        "outputId": "34e178ff-3031-469d-b1e0-ff16d634b869"
      },
      "outputs": [
        {
          "output_type": "execute_result",
          "data": {
            "text/plain": [
              "Counter({0.0: 315, 2.0: 420, 1.0: 55})"
            ]
          },
          "metadata": {},
          "execution_count": 13
        }
      ],
      "source": [
        "label = score_df['target']\n",
        "data = score_df.drop(columns=['target'])\n",
        "train_x, test_x, train_y, test_y = train_test_split(data, label, test_size=0.2, random_state=42)\n",
        "Counter(label)"
      ]
    },
    {
      "cell_type": "code",
      "execution_count": 14,
      "id": "c9ba2c50",
      "metadata": {
        "colab": {
          "base_uri": "https://localhost:8080/",
          "height": 452
        },
        "id": "c9ba2c50",
        "outputId": "44a457fe-18d6-4324-c1c6-d45263242288"
      },
      "outputs": [
        {
          "output_type": "display_data",
          "data": {
            "text/plain": [
              "<Figure size 640x480 with 1 Axes>"
            ],
            "image/png": "[encoded data removed]"
          },
          "metadata": {}
        }
      ],
      "source": [
        "pca = PCA(n_components=2)\n",
        "d2 = pca.fit_transform(data)\n",
        "color_palette = sns.color_palette('rainbow', 12)\n",
        "\n",
        "plt.scatter(\n",
        "    d2[:, 0],\n",
        "    d2[:, 1],\n",
        "    c= [color_palette[int(x) * 5] for x in label])\n",
        "plt.title('PCA projection', fontsize=12)\n",
        "plt.show()"
      ]
    },
    {
      "cell_type": "markdown",
      "source": [
        "This dataset is very imbalanced so i decided to use oversample\n",
        "\n",
        "---\n",
        "**NOTE: I only oversample the train part!**\n",
        "\n",
        "---\n",
        "\n",
        "\n",
        "If you try to oversample the whole dataset you will ruin tests result. It will no longer be test on the real data but on the fake one"
      ],
      "metadata": {
        "id": "b8_yv5HRQpnA"
      },
      "id": "b8_yv5HRQpnA"
    },
    {
      "cell_type": "code",
      "execution_count": 15,
      "id": "a32f015c",
      "metadata": {
        "id": "a32f015c",
        "colab": {
          "base_uri": "https://localhost:8080/",
          "height": 452
        },
        "outputId": "5b6a8c34-7fe0-4a54-aba3-1b66ef23aa23"
      },
      "outputs": [
        {
          "output_type": "display_data",
          "data": {
            "text/plain": [
              "<Figure size 640x480 with 1 Axes>"
            ],
            "image/png": "[encoded data removed]"
          },
          "metadata": {}
        }
      ],
      "source": [
        "oversample = SMOTE()\n",
        "oversample_x, oversample_y = oversample.fit_resample(train_x, train_y)\n",
        "\n",
        "pca = PCA(n_components=2)\n",
        "d2 = pca.fit_transform(oversample_x)\n",
        "color_palette = sns.color_palette('rainbow', 12)\n",
        "\n",
        "plt.scatter(\n",
        "    d2[:, 0],\n",
        "    d2[:, 1],\n",
        "    c= [color_palette[int(x) * 5] for x in oversample_y])\n",
        "plt.title('PCA oversample projection', fontsize=12)\n",
        "plt.show()"
      ]
    },
    {
      "cell_type": "markdown",
      "source": [
        "## Classification"
      ],
      "metadata": {
        "id": "7coUHorpS6uT"
      },
      "id": "7coUHorpS6uT"
    },
    {
      "cell_type": "markdown",
      "source": [
        "Let's try to use both one hot vector and embedding vector at once"
      ],
      "metadata": {
        "id": "HOGMSOrYRgmy"
      },
      "id": "HOGMSOrYRgmy"
    },
    {
      "cell_type": "code",
      "source": [
        "def get_model():\n",
        "  model = tf.keras.Sequential()\n",
        "  model.add(tf.keras.layers.Input(train_x.shape[1]))\n",
        "  model.add(tf.keras.layers.Dense(128, activation = 'relu'))\n",
        "  model.add(tf.keras.layers.Dense(64, activation = 'relu'))\n",
        "  model.add(tf.keras.layers.Dropout(.2))\n",
        "  model.add(tf.keras.layers.Dense(3, activation = 'softmax'))\n",
        "  model.compile(loss='sparse_categorical_crossentropy',\n",
        "                optimizer = 'adam',\n",
        "                metrics = ['accuracy'])\n",
        "  return model\n",
        "\n",
        "model = get_model()\n",
        "model.summary()"
      ],
      "metadata": {
        "colab": {
          "base_uri": "https://localhost:8080/"
        },
        "id": "z3PYPj6vnELb",
        "outputId": "93a9a85d-a0c6-4b48-ac0c-5c942329a187"
      },
      "id": "z3PYPj6vnELb",
      "execution_count": 16,
      "outputs": [
        {
          "output_type": "stream",
          "name": "stdout",
          "text": [
            "Model: \"sequential\"\n",
            "_________________________________________________________________\n",
            " Layer (type)                Output Shape              Param #   \n",
            "=================================================================\n",
            " dense (Dense)               (None, 128)               102528    \n",
            "                                                                 \n",
            " dense_1 (Dense)             (None, 64)                8256      \n",
            "                                                                 \n",
            " dropout (Dropout)           (None, 64)                0         \n",
            "                                                                 \n",
            " dense_2 (Dense)             (None, 3)                 195       \n",
            "                                                                 \n",
            "=================================================================\n",
            "Total params: 110,979\n",
            "Trainable params: 110,979\n",
            "Non-trainable params: 0\n",
            "_________________________________________________________________\n"
          ]
        }
      ]
    },
    {
      "cell_type": "code",
      "source": [
        "model.fit(train_x, train_y, epochs=5, batch_size=32)"
      ],
      "metadata": {
        "colab": {
          "base_uri": "https://localhost:8080/"
        },
        "id": "FSuEo9y5nsEr",
        "outputId": "f2cfacbd-4184-48e9-db24-f3fcbf2ece31"
      },
      "id": "FSuEo9y5nsEr",
      "execution_count": 17,
      "outputs": [
        {
          "output_type": "stream",
          "name": "stdout",
          "text": [
            "Epoch 1/5\n",
            "20/20 [==============================] - 1s 4ms/step - loss: 0.8729 - accuracy: 0.5506\n",
            "Epoch 2/5\n",
            "20/20 [==============================] - 0s 3ms/step - loss: 0.5437 - accuracy: 0.8386\n",
            "Epoch 3/5\n",
            "20/20 [==============================] - 0s 4ms/step - loss: 0.4143 - accuracy: 0.8592\n",
            "Epoch 4/5\n",
            "20/20 [==============================] - 0s 3ms/step - loss: 0.3474 - accuracy: 0.8829\n",
            "Epoch 5/5\n",
            "20/20 [==============================] - 0s 3ms/step - loss: 0.2722 - accuracy: 0.9051\n"
          ]
        },
        {
          "output_type": "execute_result",
          "data": {
            "text/plain": [
              "<keras.callbacks.History at 0x7f57e8864d60>"
            ]
          },
          "metadata": {},
          "execution_count": 17
        }
      ]
    },
    {
      "cell_type": "code",
      "source": [
        "pred_y = model.predict(test_x)\n",
        "prediction = np.argmax(pred_y, axis=1)"
      ],
      "metadata": {
        "colab": {
          "base_uri": "https://localhost:8080/"
        },
        "id": "v_Y54psGn6Mv",
        "outputId": "7117a4a6-9394-4995-94e0-75cc2c2397b1"
      },
      "id": "v_Y54psGn6Mv",
      "execution_count": 18,
      "outputs": [
        {
          "output_type": "stream",
          "name": "stdout",
          "text": [
            "5/5 [==============================] - 0s 2ms/step\n"
          ]
        }
      ]
    },
    {
      "cell_type": "code",
      "source": [
        "print(classification_report(test_y, prediction))"
      ],
      "metadata": {
        "colab": {
          "base_uri": "https://localhost:8080/"
        },
        "id": "wQKKy0cWn9Od",
        "outputId": "f834c21e-87e6-49d8-e00a-f9ebf9844008"
      },
      "id": "wQKKy0cWn9Od",
      "execution_count": 19,
      "outputs": [
        {
          "output_type": "stream",
          "name": "stdout",
          "text": [
            "              precision    recall  f1-score   support\n",
            "\n",
            "         0.0       0.73      0.84      0.78        61\n",
            "         1.0       1.00      0.07      0.12        15\n",
            "         2.0       0.87      0.93      0.90        82\n",
            "\n",
            "    accuracy                           0.81       158\n",
            "   macro avg       0.87      0.61      0.60       158\n",
            "weighted avg       0.83      0.81      0.78       158\n",
            "\n"
          ]
        }
      ]
    },
    {
      "cell_type": "code",
      "source": [
        "sns.heatmap(confusion_matrix(test_y, prediction), annot=True)"
      ],
      "metadata": {
        "colab": {
          "base_uri": "https://localhost:8080/",
          "height": 447
        },
        "id": "h7cvYrqooJjN",
        "outputId": "ccee4eaa-492e-40ad-92c8-c6dfa5dc19a0"
      },
      "id": "h7cvYrqooJjN",
      "execution_count": 20,
      "outputs": [
        {
          "output_type": "execute_result",
          "data": {
            "text/plain": [
              "<Axes: >"
            ]
          },
          "metadata": {},
          "execution_count": 20
        },
        {
          "output_type": "display_data",
          "data": {
            "text/plain": [
              "<Figure size 640x480 with 2 Axes>"
            ],
            "image/png": "[encoded data removed]"
          },
          "metadata": {}
        }
      ]
    },
    {
      "cell_type": "code",
      "source": [
        "model = get_model()\n",
        "model.fit(oversample_x, oversample_y, epochs=5, batch_size=32)"
      ],
      "metadata": {
        "colab": {
          "base_uri": "https://localhost:8080/"
        },
        "id": "tjvfjyWMSuaV",
        "outputId": "55a9beba-4bc5-49a2-a6af-d15468600301"
      },
      "id": "tjvfjyWMSuaV",
      "execution_count": 35,
      "outputs": [
        {
          "output_type": "stream",
          "name": "stdout",
          "text": [
            "Epoch 1/5\n",
            "32/32 [==============================] - 2s 7ms/step - loss: 0.7950 - accuracy: 0.7150\n",
            "Epoch 2/5\n",
            "32/32 [==============================] - 0s 4ms/step - loss: 0.3776 - accuracy: 0.8659\n",
            "Epoch 3/5\n",
            "32/32 [==============================] - 0s 5ms/step - loss: 0.2030 - accuracy: 0.9458\n",
            "Epoch 4/5\n",
            "32/32 [==============================] - 0s 8ms/step - loss: 0.1164 - accuracy: 0.9714\n",
            "Epoch 5/5\n",
            "32/32 [==============================] - 0s 6ms/step - loss: 0.0683 - accuracy: 0.9872\n"
          ]
        },
        {
          "output_type": "execute_result",
          "data": {
            "text/plain": [
              "<keras.callbacks.History at 0x7f57ae950430>"
            ]
          },
          "metadata": {},
          "execution_count": 35
        }
      ]
    },
    {
      "cell_type": "code",
      "source": [
        "pred_y = model.predict(test_x)\n",
        "prediction = np.argmax(pred_y, axis=1)"
      ],
      "metadata": {
        "colab": {
          "base_uri": "https://localhost:8080/"
        },
        "id": "44ZIGsn0Sy4g",
        "outputId": "90b1c7bc-f39c-40f4-baa4-a6122d814937"
      },
      "id": "44ZIGsn0Sy4g",
      "execution_count": 36,
      "outputs": [
        {
          "output_type": "stream",
          "name": "stdout",
          "text": [
            "5/5 [==============================] - 0s 3ms/step\n"
          ]
        }
      ]
    },
    {
      "cell_type": "code",
      "source": [
        "print(classification_report(test_y, prediction))"
      ],
      "metadata": {
        "colab": {
          "base_uri": "https://localhost:8080/"
        },
        "id": "nN-SPGGDS00J",
        "outputId": "9231c148-5de7-4b49-de51-b5e111dae31f"
      },
      "id": "nN-SPGGDS00J",
      "execution_count": 37,
      "outputs": [
        {
          "output_type": "stream",
          "name": "stdout",
          "text": [
            "              precision    recall  f1-score   support\n",
            "\n",
            "         0.0       0.77      0.75      0.76        61\n",
            "         1.0       0.67      0.27      0.38        15\n",
            "         2.0       0.83      0.93      0.87        82\n",
            "\n",
            "    accuracy                           0.80       158\n",
            "   macro avg       0.75      0.65      0.67       158\n",
            "weighted avg       0.79      0.80      0.78       158\n",
            "\n"
          ]
        }
      ]
    },
    {
      "cell_type": "markdown",
      "source": [
        "As you can see, training with oversampled dataset increase F1 macro score by .07"
      ],
      "metadata": {
        "id": "Z40NeP-wVHYK"
      },
      "id": "Z40NeP-wVHYK"
    },
    {
      "cell_type": "code",
      "source": [
        "sns.heatmap(confusion_matrix(test_y, prediction), annot=True)"
      ],
      "metadata": {
        "colab": {
          "base_uri": "https://localhost:8080/",
          "height": 447
        },
        "id": "YTXQJwNoS2OQ",
        "outputId": "fc9c53f7-98e3-4c3f-c6a3-d075c109af69"
      },
      "id": "YTXQJwNoS2OQ",
      "execution_count": 38,
      "outputs": [
        {
          "output_type": "execute_result",
          "data": {
            "text/plain": [
              "<Axes: >"
            ]
          },
          "metadata": {},
          "execution_count": 38
        },
        {
          "output_type": "display_data",
          "data": {
            "text/plain": [
              "<Figure size 640x480 with 2 Axes>"
            ],
            "image/png": "[encoded data removed]"
          },
          "metadata": {}
        }
      ]
    },
    {
      "cell_type": "markdown",
      "source": [
        "## Functional API"
      ],
      "metadata": {
        "id": "x5_iBVejS29-"
      },
      "id": "x5_iBVejS29-"
    },
    {
      "cell_type": "markdown",
      "source": [
        "This time I'm gonna use model with 2 separate input layers. <br>One will be for the one hot vector and the other one for the embeddings"
      ],
      "metadata": {
        "id": "aNcU5XpjW4P6"
      },
      "id": "aNcU5XpjW4P6"
    },
    {
      "cell_type": "code",
      "execution_count": 51,
      "id": "b0cb1b20",
      "metadata": {
        "id": "b0cb1b20"
      },
      "outputs": [],
      "source": [
        "embedding_start_index = 300\n",
        "train_emb = oversample_x.iloc[:,embedding_start_index:]\n",
        "train_oh = oversample_x.iloc[:,:embedding_start_index]\n",
        "test_emb = test_x.iloc[:,embedding_start_index:]\n",
        "test_oh = test_x.iloc[:,:embedding_start_index]"
      ]
    },
    {
      "cell_type": "code",
      "execution_count": 52,
      "id": "7ebe6cdd",
      "metadata": {
        "colab": {
          "base_uri": "https://localhost:8080/"
        },
        "id": "7ebe6cdd",
        "outputId": "e21c92bc-5836-4f97-db24-552df80f04ee"
      },
      "outputs": [
        {
          "output_type": "execute_result",
          "data": {
            "text/plain": [
              "((158, 500), (1014, 300))"
            ]
          },
          "metadata": {},
          "execution_count": 52
        }
      ],
      "source": [
        "test_emb.shape, train_oh.shape"
      ]
    },
    {
      "cell_type": "code",
      "execution_count": 53,
      "id": "db4ce240",
      "metadata": {
        "id": "db4ce240",
        "colab": {
          "base_uri": "https://localhost:8080/"
        },
        "outputId": "1d65de27-c35c-4ff0-f5b8-4b78a2f0b319"
      },
      "outputs": [
        {
          "output_type": "stream",
          "name": "stdout",
          "text": [
            "Model: \"model_2\"\n",
            "__________________________________________________________________________________________________\n",
            " Layer (type)                   Output Shape         Param #     Connected to                     \n",
            "==================================================================================================\n",
            " embedding (InputLayer)         [(None, 500)]        0           []                               \n",
            "                                                                                                  \n",
            " one_hot (InputLayer)           [(None, 300)]        0           []                               \n",
            "                                                                                                  \n",
            " embeddings_hidden (Dense)      (None, 64)           32064       ['embedding[0][0]']              \n",
            "                                                                                                  \n",
            " one_hot_hidden (Dense)         (None, 64)           19264       ['one_hot[0][0]']                \n",
            "                                                                                                  \n",
            " conc (Concatenate)             (None, 128)          0           ['embeddings_hidden[0][0]',      \n",
            "                                                                  'one_hot_hidden[0][0]']         \n",
            "                                                                                                  \n",
            " all_hidden (Dense)             (None, 64)           8256        ['conc[0][0]']                   \n",
            "                                                                                                  \n",
            " dropout (Dropout)              (None, 64)           0           ['all_hidden[0][0]']             \n",
            "                                                                                                  \n",
            " out (Dense)                    (None, 3)            195         ['dropout[0][0]']                \n",
            "                                                                                                  \n",
            "==================================================================================================\n",
            "Total params: 59,779\n",
            "Trainable params: 59,779\n",
            "Non-trainable params: 0\n",
            "__________________________________________________________________________________________________\n"
          ]
        }
      ],
      "source": [
        "one_hot_in = tf.keras.Input(shape=(train_oh.shape[1],), name='one_hot')\n",
        "one_hot_hidden = keras.layers.Dense(64, name='one_hot_hidden')(one_hot_in)\n",
        "\n",
        "embeddings_in = keras.Input(shape=(train_emb.shape[1],), name='embedding')\n",
        "embeddings_hidden = keras.layers.Dense(64, name='embeddings_hidden')(embeddings_in)\n",
        "\n",
        "\n",
        "conc = keras.layers.concatenate([embeddings_hidden, one_hot_hidden], name='conc')\n",
        "conc_hidden = keras.layers.Dense(64, name='all_hidden')(conc)\n",
        "conc_dropout = keras.layers.Dropout(.2, name='dropout')(conc_hidden)\n",
        "final = keras.layers.Dense(3, name='out', activation = 'softmax')(conc_dropout)\n",
        "\n",
        "model_v2 = keras.Model(\n",
        "    inputs=[one_hot_in, embeddings_in],\n",
        "    outputs=[final],\n",
        ")\n",
        "model_v2.summary()"
      ]
    },
    {
      "cell_type": "code",
      "execution_count": 54,
      "id": "b3bd087b",
      "metadata": {
        "id": "b3bd087b"
      },
      "outputs": [],
      "source": [
        "model_v2.compile(\n",
        "    optimizer= 'adam',\n",
        "    loss=[\n",
        "        keras.losses.SparseCategoricalCrossentropy(from_logits=True),\n",
        "    ],\n",
        "    metrics = ['accuracy']\n",
        ")"
      ]
    },
    {
      "cell_type": "code",
      "execution_count": 55,
      "id": "afe470c7",
      "metadata": {
        "scrolled": true,
        "colab": {
          "base_uri": "https://localhost:8080/",
          "height": 644
        },
        "id": "afe470c7",
        "outputId": "43bcd720-ee78-452e-d415-9e7263347fff"
      },
      "outputs": [
        {
          "output_type": "execute_result",
          "data": {
            "image/png": "[encoded data removed]",
            "text/plain": [
              "<IPython.core.display.Image object>"
            ]
          },
          "metadata": {},
          "execution_count": 55
        }
      ],
      "source": [
        "keras.utils.plot_model(model_v2, show_shapes=True)"
      ]
    },
    {
      "cell_type": "code",
      "execution_count": 56,
      "id": "2611b5a1",
      "metadata": {
        "scrolled": false,
        "colab": {
          "base_uri": "https://localhost:8080/"
        },
        "id": "2611b5a1",
        "outputId": "3764ce90-a8ed-4391-8988-6435e2de8f6f"
      },
      "outputs": [
        {
          "output_type": "stream",
          "name": "stdout",
          "text": [
            "Epoch 1/5\n"
          ]
        },
        {
          "output_type": "stream",
          "name": "stderr",
          "text": [
            "/usr/local/lib/python3.9/dist-packages/keras/backend.py:5585: UserWarning: \"`sparse_categorical_crossentropy` received `from_logits=True`, but the `output` argument was produced by a Softmax activation and thus does not represent logits. Was this intended?\n",
            "  output, from_logits = _get_logits(\n"
          ]
        },
        {
          "output_type": "stream",
          "name": "stdout",
          "text": [
            "32/32 [==============================] - 1s 2ms/step - loss: 0.7601 - accuracy: 0.6963\n",
            "Epoch 2/5\n",
            "32/32 [==============================] - 0s 2ms/step - loss: 0.4124 - accuracy: 0.8550\n",
            "Epoch 3/5\n",
            "32/32 [==============================] - 0s 2ms/step - loss: 0.2716 - accuracy: 0.9231\n",
            "Epoch 4/5\n",
            "32/32 [==============================] - 0s 2ms/step - loss: 0.1798 - accuracy: 0.9497\n",
            "Epoch 5/5\n",
            "32/32 [==============================] - 0s 2ms/step - loss: 0.1230 - accuracy: 0.9665\n"
          ]
        },
        {
          "output_type": "execute_result",
          "data": {
            "text/plain": [
              "<keras.callbacks.History at 0x7f57aca12f70>"
            ]
          },
          "metadata": {},
          "execution_count": 56
        }
      ],
      "source": [
        "model_v2.fit({'one_hot': train_oh, 'embedding': train_emb}, {'out': oversample_y}, epochs=5)"
      ]
    },
    {
      "cell_type": "code",
      "execution_count": 57,
      "id": "54a11fcf",
      "metadata": {
        "colab": {
          "base_uri": "https://localhost:8080/"
        },
        "id": "54a11fcf",
        "outputId": "96fd278b-d062-414b-d5d1-5ba7dcd122bd"
      },
      "outputs": [
        {
          "output_type": "stream",
          "name": "stdout",
          "text": [
            "5/5 [==============================] - 0s 2ms/step\n"
          ]
        }
      ],
      "source": [
        "res = model_v2.predict({'one_hot': test_oh, 'embedding': test_emb})\n",
        "for i, el in enumerate(res):\n",
        "    res[i] = np.argmax(el)\n",
        "res = res[:,0]"
      ]
    },
    {
      "cell_type": "code",
      "execution_count": 58,
      "id": "8f6e634b",
      "metadata": {
        "colab": {
          "base_uri": "https://localhost:8080/",
          "height": 447
        },
        "id": "8f6e634b",
        "outputId": "12398a58-c91a-4c99-c91e-25cf82cff912"
      },
      "outputs": [
        {
          "output_type": "execute_result",
          "data": {
            "text/plain": [
              "<Axes: >"
            ]
          },
          "metadata": {},
          "execution_count": 58
        },
        {
          "output_type": "display_data",
          "data": {
            "text/plain": [
              "<Figure size 640x480 with 2 Axes>"
            ],
            "image/png": "[encoded data removed]"
          },
          "metadata": {}
        }
      ],
      "source": [
        "sns.heatmap(confusion_matrix(test_y, res), annot=True)"
      ]
    },
    {
      "cell_type": "code",
      "execution_count": 59,
      "id": "d798a69c",
      "metadata": {
        "colab": {
          "base_uri": "https://localhost:8080/"
        },
        "id": "d798a69c",
        "outputId": "5662bc07-2de1-449f-f335-95ec7f2e5130"
      },
      "outputs": [
        {
          "output_type": "stream",
          "name": "stdout",
          "text": [
            "              precision    recall  f1-score   support\n",
            "\n",
            "         0.0       0.75      0.77      0.76        61\n",
            "         1.0       0.62      0.33      0.43        15\n",
            "         2.0       0.85      0.90      0.88        82\n",
            "\n",
            "    accuracy                           0.80       158\n",
            "   macro avg       0.74      0.67      0.69       158\n",
            "weighted avg       0.79      0.80      0.79       158\n",
            "\n"
          ]
        }
      ],
      "source": [
        "print(classification_report(test_y, res)) # functional API (60K params)"
      ]
    },
    {
      "cell_type": "code",
      "execution_count": 60,
      "id": "46167da4",
      "metadata": {
        "id": "46167da4",
        "colab": {
          "base_uri": "https://localhost:8080/"
        },
        "outputId": "92078604-a150-48af-853c-c0f5a14a8609"
      },
      "outputs": [
        {
          "output_type": "stream",
          "name": "stdout",
          "text": [
            "              precision    recall  f1-score   support\n",
            "\n",
            "         0.0       0.77      0.75      0.76        61\n",
            "         1.0       0.67      0.27      0.38        15\n",
            "         2.0       0.83      0.93      0.87        82\n",
            "\n",
            "    accuracy                           0.80       158\n",
            "   macro avg       0.75      0.65      0.67       158\n",
            "weighted avg       0.79      0.80      0.78       158\n",
            "\n"
          ]
        }
      ],
      "source": [
        "print(classification_report(test_y, prediction)) # sequential (111K params)"
      ]
    },
    {
      "cell_type": "markdown",
      "source": [
        "I managed to significantly decrease number of parameters in classifier and increase its results"
      ],
      "metadata": {
        "id": "W73sFEXXXP4D"
      },
      "id": "W73sFEXXXP4D"
    }
  ],
  "metadata": {
    "kernelspec": {
      "display_name": "Python 3 (ipykernel)",
      "language": "python",
      "name": "python3"
    },
    "language_info": {
      "codemirror_mode": {
        "name": "ipython",
        "version": 3
      },
      "file_extension": ".py",
      "mimetype": "text/x-python",
      "name": "python",
      "nbconvert_exporter": "python",
      "pygments_lexer": "ipython3",
      "version": "3.9.7"
    },
    "colab": {
      "provenance": []
    },
    "widgets": {
      "application/vnd.jupyter.widget-state+json": {
        "fa8cbd1353e64cc2910fd59be215c6b2": {
          "model_module": "@jupyter-widgets/controls",
          "model_name": "HBoxModel",
          "model_module_version": "1.5.0",
          "state": {
            "_dom_classes": [],
            "_model_module": "@jupyter-widgets/controls",
            "_model_module_version": "1.5.0",
            "_model_name": "HBoxModel",
            "_view_count": null,
            "_view_module": "@jupyter-widgets/controls",
            "_view_module_version": "1.5.0",
            "_view_name": "HBoxView",
            "box_style": "",
            "children": [
              "IPY_MODEL_25b0ad69e4624e97aa300572ead40ab0",
              "IPY_MODEL_b24bd1fbcce2419c85fd11bdd0809547",
              "IPY_MODEL_a499c3a4d6cc47a7adedfae70a8b0379"
            ],
            "layout": "IPY_MODEL_6df38c1061cd467082057cceacae3c85"
          }
        },
        "25b0ad69e4624e97aa300572ead40ab0": {
          "model_module": "@jupyter-widgets/controls",
          "model_name": "HTMLModel",
          "model_module_version": "1.5.0",
          "state": {
            "_dom_classes": [],
            "_model_module": "@jupyter-widgets/controls",
            "_model_module_version": "1.5.0",
            "_model_name": "HTMLModel",
            "_view_count": null,
            "_view_module": "@jupyter-widgets/controls",
            "_view_module_version": "1.5.0",
            "_view_name": "HTMLView",
            "description": "",
            "description_tooltip": null,
            "layout": "IPY_MODEL_42eee8d82f8a42e0936645126a2cb042",
            "placeholder": "​",
            "style": "IPY_MODEL_4f5cdad9cd7646cea780be4619eab547",
            "value": ""
          }
        },
        "b24bd1fbcce2419c85fd11bdd0809547": {
          "model_module": "@jupyter-widgets/controls",
          "model_name": "FloatProgressModel",
          "model_module_version": "1.5.0",
          "state": {
            "_dom_classes": [],
            "_model_module": "@jupyter-widgets/controls",
            "_model_module_version": "1.5.0",
            "_model_name": "FloatProgressModel",
            "_view_count": null,
            "_view_module": "@jupyter-widgets/controls",
            "_view_module_version": "1.5.0",
            "_view_name": "ProgressView",
            "bar_style": "success",
            "description": "",
            "description_tooltip": null,
            "layout": "IPY_MODEL_1d8ec34056f2448c9653784aa6ad362a",
            "max": 1,
            "min": 0,
            "orientation": "horizontal",
            "style": "IPY_MODEL_b95aa33ad97645eca882960108c51f95",
            "value": 1
          }
        },
        "a499c3a4d6cc47a7adedfae70a8b0379": {
          "model_module": "@jupyter-widgets/controls",
          "model_name": "HTMLModel",
          "model_module_version": "1.5.0",
          "state": {
            "_dom_classes": [],
            "_model_module": "@jupyter-widgets/controls",
            "_model_module_version": "1.5.0",
            "_model_name": "HTMLModel",
            "_view_count": null,
            "_view_module": "@jupyter-widgets/controls",
            "_view_module_version": "1.5.0",
            "_view_name": "HTMLView",
            "description": "",
            "description_tooltip": null,
            "layout": "IPY_MODEL_802b3a0471e647d18cc3bccd04ff4661",
            "placeholder": "​",
            "style": "IPY_MODEL_bd5e5a8d30ab42979c7eb20cb26787fb",
            "value": " 790/? [01:34&lt;00:00,  5.51it/s]"
          }
        },
        "6df38c1061cd467082057cceacae3c85": {
          "model_module": "@jupyter-widgets/base",
          "model_name": "LayoutModel",
          "model_module_version": "1.2.0",
          "state": {
            "_model_module": "@jupyter-widgets/base",
            "_model_module_version": "1.2.0",
            "_model_name": "LayoutModel",
            "_view_count": null,
            "_view_module": "@jupyter-widgets/base",
            "_view_module_version": "1.2.0",
            "_view_name": "LayoutView",
            "align_content": null,
            "align_items": null,
            "align_self": null,
            "border": null,
            "bottom": null,
            "display": null,
            "flex": null,
            "flex_flow": null,
            "grid_area": null,
            "grid_auto_columns": null,
            "grid_auto_flow": null,
            "grid_auto_rows": null,
            "grid_column": null,
            "grid_gap": null,
            "grid_row": null,
            "grid_template_areas": null,
            "grid_template_columns": null,
            "grid_template_rows": null,
            "height": null,
            "justify_content": null,
            "justify_items": null,
            "left": null,
            "margin": null,
            "max_height": null,
            "max_width": null,
            "min_height": null,
            "min_width": null,
            "object_fit": null,
            "object_position": null,
            "order": null,
            "overflow": null,
            "overflow_x": null,
            "overflow_y": null,
            "padding": null,
            "right": null,
            "top": null,
            "visibility": null,
            "width": null
          }
        },
        "42eee8d82f8a42e0936645126a2cb042": {
          "model_module": "@jupyter-widgets/base",
          "model_name": "LayoutModel",
          "model_module_version": "1.2.0",
          "state": {
            "_model_module": "@jupyter-widgets/base",
            "_model_module_version": "1.2.0",
            "_model_name": "LayoutModel",
            "_view_count": null,
            "_view_module": "@jupyter-widgets/base",
            "_view_module_version": "1.2.0",
            "_view_name": "LayoutView",
            "align_content": null,
            "align_items": null,
            "align_self": null,
            "border": null,
            "bottom": null,
            "display": null,
            "flex": null,
            "flex_flow": null,
            "grid_area": null,
            "grid_auto_columns": null,
            "grid_auto_flow": null,
            "grid_auto_rows": null,
            "grid_column": null,
            "grid_gap": null,
            "grid_row": null,
            "grid_template_areas": null,
            "grid_template_columns": null,
            "grid_template_rows": null,
            "height": null,
            "justify_content": null,
            "justify_items": null,
            "left": null,
            "margin": null,
            "max_height": null,
            "max_width": null,
            "min_height": null,
            "min_width": null,
            "object_fit": null,
            "object_position": null,
            "order": null,
            "overflow": null,
            "overflow_x": null,
            "overflow_y": null,
            "padding": null,
            "right": null,
            "top": null,
            "visibility": null,
            "width": null
          }
        },
        "4f5cdad9cd7646cea780be4619eab547": {
          "model_module": "@jupyter-widgets/controls",
          "model_name": "DescriptionStyleModel",
          "model_module_version": "1.5.0",
          "state": {
            "_model_module": "@jupyter-widgets/controls",
            "_model_module_version": "1.5.0",
            "_model_name": "DescriptionStyleModel",
            "_view_count": null,
            "_view_module": "@jupyter-widgets/base",
            "_view_module_version": "1.2.0",
            "_view_name": "StyleView",
            "description_width": ""
          }
        },
        "1d8ec34056f2448c9653784aa6ad362a": {
          "model_module": "@jupyter-widgets/base",
          "model_name": "LayoutModel",
          "model_module_version": "1.2.0",
          "state": {
            "_model_module": "@jupyter-widgets/base",
            "_model_module_version": "1.2.0",
            "_model_name": "LayoutModel",
            "_view_count": null,
            "_view_module": "@jupyter-widgets/base",
            "_view_module_version": "1.2.0",
            "_view_name": "LayoutView",
            "align_content": null,
            "align_items": null,
            "align_self": null,
            "border": null,
            "bottom": null,
            "display": null,
            "flex": null,
            "flex_flow": null,
            "grid_area": null,
            "grid_auto_columns": null,
            "grid_auto_flow": null,
            "grid_auto_rows": null,
            "grid_column": null,
            "grid_gap": null,
            "grid_row": null,
            "grid_template_areas": null,
            "grid_template_columns": null,
            "grid_template_rows": null,
            "height": null,
            "justify_content": null,
            "justify_items": null,
            "left": null,
            "margin": null,
            "max_height": null,
            "max_width": null,
            "min_height": null,
            "min_width": null,
            "object_fit": null,
            "object_position": null,
            "order": null,
            "overflow": null,
            "overflow_x": null,
            "overflow_y": null,
            "padding": null,
            "right": null,
            "top": null,
            "visibility": null,
            "width": "20px"
          }
        },
        "b95aa33ad97645eca882960108c51f95": {
          "model_module": "@jupyter-widgets/controls",
          "model_name": "ProgressStyleModel",
          "model_module_version": "1.5.0",
          "state": {
            "_model_module": "@jupyter-widgets/controls",
            "_model_module_version": "1.5.0",
            "_model_name": "ProgressStyleModel",
            "_view_count": null,
            "_view_module": "@jupyter-widgets/base",
            "_view_module_version": "1.2.0",
            "_view_name": "StyleView",
            "bar_color": null,
            "description_width": ""
          }
        },
        "802b3a0471e647d18cc3bccd04ff4661": {
          "model_module": "@jupyter-widgets/base",
          "model_name": "LayoutModel",
          "model_module_version": "1.2.0",
          "state": {
            "_model_module": "@jupyter-widgets/base",
            "_model_module_version": "1.2.0",
            "_model_name": "LayoutModel",
            "_view_count": null,
            "_view_module": "@jupyter-widgets/base",
            "_view_module_version": "1.2.0",
            "_view_name": "LayoutView",
            "align_content": null,
            "align_items": null,
            "align_self": null,
            "border": null,
            "bottom": null,
            "display": null,
            "flex": null,
            "flex_flow": null,
            "grid_area": null,
            "grid_auto_columns": null,
            "grid_auto_flow": null,
            "grid_auto_rows": null,
            "grid_column": null,
            "grid_gap": null,
            "grid_row": null,
            "grid_template_areas": null,
            "grid_template_columns": null,
            "grid_template_rows": null,
            "height": null,
            "justify_content": null,
            "justify_items": null,
            "left": null,
            "margin": null,
            "max_height": null,
            "max_width": null,
            "min_height": null,
            "min_width": null,
            "object_fit": null,
            "object_position": null,
            "order": null,
            "overflow": null,
            "overflow_x": null,
            "overflow_y": null,
            "padding": null,
            "right": null,
            "top": null,
            "visibility": null,
            "width": null
          }
        },
        "bd5e5a8d30ab42979c7eb20cb26787fb": {
          "model_module": "@jupyter-widgets/controls",
          "model_name": "DescriptionStyleModel",
          "model_module_version": "1.5.0",
          "state": {
            "_model_module": "@jupyter-widgets/controls",
            "_model_module_version": "1.5.0",
            "_model_name": "DescriptionStyleModel",
            "_view_count": null,
            "_view_module": "@jupyter-widgets/base",
            "_view_module_version": "1.2.0",
            "_view_name": "StyleView",
            "description_width": ""
          }
        },
        "1f08e794ced143658d82b8687d0424e1": {
          "model_module": "@jupyter-widgets/controls",
          "model_name": "HBoxModel",
          "model_module_version": "1.5.0",
          "state": {
            "_dom_classes": [],
            "_model_module": "@jupyter-widgets/controls",
            "_model_module_version": "1.5.0",
            "_model_name": "HBoxModel",
            "_view_count": null,
            "_view_module": "@jupyter-widgets/controls",
            "_view_module_version": "1.5.0",
            "_view_name": "HBoxView",
            "box_style": "",
            "children": [
              "IPY_MODEL_1ff5ef28e31e46f9872d9274480d5b5c",
              "IPY_MODEL_35969612c3ea48bbb3039309306921a4",
              "IPY_MODEL_9366efdffe8544a3b0da5b1bd3b1dd29"
            ],
            "layout": "IPY_MODEL_f32c57b4de324c9fb616632c2db076b2"
          }
        },
        "1ff5ef28e31e46f9872d9274480d5b5c": {
          "model_module": "@jupyter-widgets/controls",
          "model_name": "HTMLModel",
          "model_module_version": "1.5.0",
          "state": {
            "_dom_classes": [],
            "_model_module": "@jupyter-widgets/controls",
            "_model_module_version": "1.5.0",
            "_model_name": "HTMLModel",
            "_view_count": null,
            "_view_module": "@jupyter-widgets/controls",
            "_view_module_version": "1.5.0",
            "_view_name": "HTMLView",
            "description": "",
            "description_tooltip": null,
            "layout": "IPY_MODEL_c96880b140b7422da4749ba999d7a03a",
            "placeholder": "​",
            "style": "IPY_MODEL_c7986e7cdda54cdf8998136605039389",
            "value": ""
          }
        },
        "35969612c3ea48bbb3039309306921a4": {
          "model_module": "@jupyter-widgets/controls",
          "model_name": "FloatProgressModel",
          "model_module_version": "1.5.0",
          "state": {
            "_dom_classes": [],
            "_model_module": "@jupyter-widgets/controls",
            "_model_module_version": "1.5.0",
            "_model_name": "FloatProgressModel",
            "_view_count": null,
            "_view_module": "@jupyter-widgets/controls",
            "_view_module_version": "1.5.0",
            "_view_name": "ProgressView",
            "bar_style": "success",
            "description": "",
            "description_tooltip": null,
            "layout": "IPY_MODEL_8dcfd7be211d4835bea8f599bf9908e8",
            "max": 1,
            "min": 0,
            "orientation": "horizontal",
            "style": "IPY_MODEL_0431388d006945398f4c61d1902b1698",
            "value": 1
          }
        },
        "9366efdffe8544a3b0da5b1bd3b1dd29": {
          "model_module": "@jupyter-widgets/controls",
          "model_name": "HTMLModel",
          "model_module_version": "1.5.0",
          "state": {
            "_dom_classes": [],
            "_model_module": "@jupyter-widgets/controls",
            "_model_module_version": "1.5.0",
            "_model_name": "HTMLModel",
            "_view_count": null,
            "_view_module": "@jupyter-widgets/controls",
            "_view_module_version": "1.5.0",
            "_view_name": "HTMLView",
            "description": "",
            "description_tooltip": null,
            "layout": "IPY_MODEL_42e1f12bb7514f639cb0017a67451d5f",
            "placeholder": "​",
            "style": "IPY_MODEL_09f5e10f8d87451a853ed6de8933273e",
            "value": " 790/? [00:24&lt;00:00, 44.12it/s]"
          }
        },
        "f32c57b4de324c9fb616632c2db076b2": {
          "model_module": "@jupyter-widgets/base",
          "model_name": "LayoutModel",
          "model_module_version": "1.2.0",
          "state": {
            "_model_module": "@jupyter-widgets/base",
            "_model_module_version": "1.2.0",
            "_model_name": "LayoutModel",
            "_view_count": null,
            "_view_module": "@jupyter-widgets/base",
            "_view_module_version": "1.2.0",
            "_view_name": "LayoutView",
            "align_content": null,
            "align_items": null,
            "align_self": null,
            "border": null,
            "bottom": null,
            "display": null,
            "flex": null,
            "flex_flow": null,
            "grid_area": null,
            "grid_auto_columns": null,
            "grid_auto_flow": null,
            "grid_auto_rows": null,
            "grid_column": null,
            "grid_gap": null,
            "grid_row": null,
            "grid_template_areas": null,
            "grid_template_columns": null,
            "grid_template_rows": null,
            "height": null,
            "justify_content": null,
            "justify_items": null,
            "left": null,
            "margin": null,
            "max_height": null,
            "max_width": null,
            "min_height": null,
            "min_width": null,
            "object_fit": null,
            "object_position": null,
            "order": null,
            "overflow": null,
            "overflow_x": null,
            "overflow_y": null,
            "padding": null,
            "right": null,
            "top": null,
            "visibility": null,
            "width": null
          }
        },
        "c96880b140b7422da4749ba999d7a03a": {
          "model_module": "@jupyter-widgets/base",
          "model_name": "LayoutModel",
          "model_module_version": "1.2.0",
          "state": {
            "_model_module": "@jupyter-widgets/base",
            "_model_module_version": "1.2.0",
            "_model_name": "LayoutModel",
            "_view_count": null,
            "_view_module": "@jupyter-widgets/base",
            "_view_module_version": "1.2.0",
            "_view_name": "LayoutView",
            "align_content": null,
            "align_items": null,
            "align_self": null,
            "border": null,
            "bottom": null,
            "display": null,
            "flex": null,
            "flex_flow": null,
            "grid_area": null,
            "grid_auto_columns": null,
            "grid_auto_flow": null,
            "grid_auto_rows": null,
            "grid_column": null,
            "grid_gap": null,
            "grid_row": null,
            "grid_template_areas": null,
            "grid_template_columns": null,
            "grid_template_rows": null,
            "height": null,
            "justify_content": null,
            "justify_items": null,
            "left": null,
            "margin": null,
            "max_height": null,
            "max_width": null,
            "min_height": null,
            "min_width": null,
            "object_fit": null,
            "object_position": null,
            "order": null,
            "overflow": null,
            "overflow_x": null,
            "overflow_y": null,
            "padding": null,
            "right": null,
            "top": null,
            "visibility": null,
            "width": null
          }
        },
        "c7986e7cdda54cdf8998136605039389": {
          "model_module": "@jupyter-widgets/controls",
          "model_name": "DescriptionStyleModel",
          "model_module_version": "1.5.0",
          "state": {
            "_model_module": "@jupyter-widgets/controls",
            "_model_module_version": "1.5.0",
            "_model_name": "DescriptionStyleModel",
            "_view_count": null,
            "_view_module": "@jupyter-widgets/base",
            "_view_module_version": "1.2.0",
            "_view_name": "StyleView",
            "description_width": ""
          }
        },
        "8dcfd7be211d4835bea8f599bf9908e8": {
          "model_module": "@jupyter-widgets/base",
          "model_name": "LayoutModel",
          "model_module_version": "1.2.0",
          "state": {
            "_model_module": "@jupyter-widgets/base",
            "_model_module_version": "1.2.0",
            "_model_name": "LayoutModel",
            "_view_count": null,
            "_view_module": "@jupyter-widgets/base",
            "_view_module_version": "1.2.0",
            "_view_name": "LayoutView",
            "align_content": null,
            "align_items": null,
            "align_self": null,
            "border": null,
            "bottom": null,
            "display": null,
            "flex": null,
            "flex_flow": null,
            "grid_area": null,
            "grid_auto_columns": null,
            "grid_auto_flow": null,
            "grid_auto_rows": null,
            "grid_column": null,
            "grid_gap": null,
            "grid_row": null,
            "grid_template_areas": null,
            "grid_template_columns": null,
            "grid_template_rows": null,
            "height": null,
            "justify_content": null,
            "justify_items": null,
            "left": null,
            "margin": null,
            "max_height": null,
            "max_width": null,
            "min_height": null,
            "min_width": null,
            "object_fit": null,
            "object_position": null,
            "order": null,
            "overflow": null,
            "overflow_x": null,
            "overflow_y": null,
            "padding": null,
            "right": null,
            "top": null,
            "visibility": null,
            "width": "20px"
          }
        },
        "0431388d006945398f4c61d1902b1698": {
          "model_module": "@jupyter-widgets/controls",
          "model_name": "ProgressStyleModel",
          "model_module_version": "1.5.0",
          "state": {
            "_model_module": "@jupyter-widgets/controls",
            "_model_module_version": "1.5.0",
            "_model_name": "ProgressStyleModel",
            "_view_count": null,
            "_view_module": "@jupyter-widgets/base",
            "_view_module_version": "1.2.0",
            "_view_name": "StyleView",
            "bar_color": null,
            "description_width": ""
          }
        },
        "42e1f12bb7514f639cb0017a67451d5f": {
          "model_module": "@jupyter-widgets/base",
          "model_name": "LayoutModel",
          "model_module_version": "1.2.0",
          "state": {
            "_model_module": "@jupyter-widgets/base",
            "_model_module_version": "1.2.0",
            "_model_name": "LayoutModel",
            "_view_count": null,
            "_view_module": "@jupyter-widgets/base",
            "_view_module_version": "1.2.0",
            "_view_name": "LayoutView",
            "align_content": null,
            "align_items": null,
            "align_self": null,
            "border": null,
            "bottom": null,
            "display": null,
            "flex": null,
            "flex_flow": null,
            "grid_area": null,
            "grid_auto_columns": null,
            "grid_auto_flow": null,
            "grid_auto_rows": null,
            "grid_column": null,
            "grid_gap": null,
            "grid_row": null,
            "grid_template_areas": null,
            "grid_template_columns": null,
            "grid_template_rows": null,
            "height": null,
            "justify_content": null,
            "justify_items": null,
            "left": null,
            "margin": null,
            "max_height": null,
            "max_width": null,
            "min_height": null,
            "min_width": null,
            "object_fit": null,
            "object_position": null,
            "order": null,
            "overflow": null,
            "overflow_x": null,
            "overflow_y": null,
            "padding": null,
            "right": null,
            "top": null,
            "visibility": null,
            "width": null
          }
        },
        "09f5e10f8d87451a853ed6de8933273e": {
          "model_module": "@jupyter-widgets/controls",
          "model_name": "DescriptionStyleModel",
          "model_module_version": "1.5.0",
          "state": {
            "_model_module": "@jupyter-widgets/controls",
            "_model_module_version": "1.5.0",
            "_model_name": "DescriptionStyleModel",
            "_view_count": null,
            "_view_module": "@jupyter-widgets/base",
            "_view_module_version": "1.2.0",
            "_view_name": "StyleView",
            "description_width": ""
          }
        }
      }
    }
  },
  "nbformat": 4,
  "nbformat_minor": 5
}